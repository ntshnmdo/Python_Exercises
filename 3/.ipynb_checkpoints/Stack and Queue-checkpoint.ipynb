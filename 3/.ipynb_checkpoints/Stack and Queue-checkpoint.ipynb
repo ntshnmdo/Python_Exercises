{
 "cells": [
  {
   "cell_type": "markdown",
   "id": "3c33bf5d-6e28-434a-860b-1f19573411a5",
   "metadata": {},
   "source": [
    "### Stack Functionality\n",
    "Push,\n",
    "Pop,\n",
    "Top,\n",
    "StackTrace(print)"
   ]
  },
  {
   "cell_type": "code",
   "execution_count": 2,
   "id": "ec1f5be8-c7c6-42e5-8aa6-804486cd039c",
   "metadata": {},
   "outputs": [],
   "source": [
    "class Stack:\n",
    "    def __init__(self):\n",
    "        self.stack = []\n",
    "    def push(self,val):\n",
    "        self.stack.append(val)\n",
    "        self.stackTrace()\n",
    "    def pop(self):\n",
    "        if len(self.stack) == 0:\n",
    "            print(\"Warning: Stack is empty, insert element first\")\n",
    "            return\n",
    "        self.stack.pop()\n",
    "        self.stackTrace()\n",
    "    def top(self):\n",
    "        if len(self.stack) == 0:\n",
    "            print(\"Warning: Stack is empty, insert element first\")\n",
    "            return\n",
    "        print(self.stack[-1])\n",
    "    def stackTrace(self):\n",
    "        print(self.stack)"
   ]
  },
  {
   "cell_type": "code",
   "execution_count": 4,
   "id": "72b02d0d-9cc9-49eb-8045-e32ab61a40e2",
   "metadata": {},
   "outputs": [],
   "source": [
    "bookShelf = Stack()"
   ]
  },
  {
   "cell_type": "code",
   "execution_count": 6,
   "id": "fa1a25f9-31c2-4183-9472-313082f68cfc",
   "metadata": {},
   "outputs": [
    {
     "name": "stdout",
     "output_type": "stream",
     "text": [
      "['Science']\n"
     ]
    }
   ],
   "source": [
    "bookShelf.push(\"Science\")"
   ]
  },
  {
   "cell_type": "code",
   "execution_count": 7,
   "id": "d75ee89b-da7d-4562-8d3c-84b3f2636a28",
   "metadata": {},
   "outputs": [
    {
     "name": "stdout",
     "output_type": "stream",
     "text": [
      "['Science', 'Maths']\n"
     ]
    }
   ],
   "source": [
    "bookShelf.push(\"Maths\")"
   ]
  },
  {
   "cell_type": "code",
   "execution_count": 8,
   "id": "c05246b1-99ed-4e50-92e2-b36a0c920e76",
   "metadata": {},
   "outputs": [
    {
     "name": "stdout",
     "output_type": "stream",
     "text": [
      "['Science', 'Maths', 'Eng']\n"
     ]
    }
   ],
   "source": [
    "bookShelf.push(\"Eng\")\n"
   ]
  },
  {
   "cell_type": "code",
   "execution_count": 9,
   "id": "7887be29-f1b5-42d1-8bd8-841f9da1222c",
   "metadata": {},
   "outputs": [
    {
     "name": "stdout",
     "output_type": "stream",
     "text": [
      "['Science', 'Maths']\n"
     ]
    }
   ],
   "source": [
    "bookShelf.pop()"
   ]
  },
  {
   "cell_type": "code",
   "execution_count": 10,
   "id": "9b46325e-3993-46be-aa3d-338cef426b82",
   "metadata": {},
   "outputs": [
    {
     "name": "stdout",
     "output_type": "stream",
     "text": [
      "['Science']\n"
     ]
    }
   ],
   "source": [
    "bookShelf.pop()"
   ]
  },
  {
   "cell_type": "code",
   "execution_count": 11,
   "id": "dab4c819-501d-4f15-9207-7e0fa3141cdf",
   "metadata": {},
   "outputs": [
    {
     "name": "stdout",
     "output_type": "stream",
     "text": [
      "[]\n"
     ]
    }
   ],
   "source": [
    "bookShelf.pop()"
   ]
  },
  {
   "cell_type": "code",
   "execution_count": 12,
   "id": "bf61bda1-0074-4e74-a37c-f205fcc9c982",
   "metadata": {},
   "outputs": [
    {
     "name": "stdout",
     "output_type": "stream",
     "text": [
      "Warning: Stack is empty, insert element first\n"
     ]
    }
   ],
   "source": [
    "bookShelf.top()"
   ]
  },
  {
   "cell_type": "code",
   "execution_count": 13,
   "id": "f566bc35-7fb4-4974-8a43-bc269d35ef00",
   "metadata": {},
   "outputs": [
    {
     "name": "stdout",
     "output_type": "stream",
     "text": [
      "Warning: Stack is empty, insert element first\n"
     ]
    }
   ],
   "source": [
    "bookShelf.pop()"
   ]
  },
  {
   "cell_type": "markdown",
   "id": "98ecc759-c353-4771-b841-c669c98d84b2",
   "metadata": {},
   "source": [
    "### Queue Functionality\n",
    "Push(val), pop(), first(), QueueTrace(Print)"
   ]
  },
  {
   "cell_type": "code",
   "execution_count": 14,
   "id": "579af62c-99b8-4d54-ba4b-4fa07281a35a",
   "metadata": {},
   "outputs": [],
   "source": [
    "class Queue:\n",
    "    def __init__(self):\n",
    "        self.arr = []\n",
    "    def push(self,val):\n",
    "        self.arr.append(val)\n",
    "        self.queueTrace()\n",
    "    def pop(self):\n",
    "        if len(self.arr) == 0:\n",
    "            print(\"Warning: queue is empty insert element first\")\n",
    "            return\n",
    "        self.arr.pop(0)\n",
    "        self.queueTrace()\n",
    "    def first(self):\n",
    "        if len(self.arr) == 0:\n",
    "            print(\"Warning: queue is empty insert element first\")\n",
    "            return\n",
    "        print(self.arr[0])\n",
    "    def queueTrace(self):\n",
    "        print(self.arr)"
   ]
  },
  {
   "cell_type": "code",
   "execution_count": 15,
   "id": "b179161c-b42d-49b1-968a-ec941b400614",
   "metadata": {},
   "outputs": [
    {
     "name": "stdout",
     "output_type": "stream",
     "text": [
      "Warning: queue is empty insert element first\n"
     ]
    }
   ],
   "source": [
    "queue = Queue()\n",
    "queue.pop()"
   ]
  },
  {
   "cell_type": "code",
   "execution_count": 16,
   "id": "4417d4d8-499b-4bab-bfa3-f862530eef5f",
   "metadata": {},
   "outputs": [
    {
     "name": "stdout",
     "output_type": "stream",
     "text": [
      "Warning: queue is empty insert element first\n"
     ]
    }
   ],
   "source": [
    "queue.first()"
   ]
  },
  {
   "cell_type": "code",
   "execution_count": 17,
   "id": "febd7998-10f7-45c5-a081-662b132551d9",
   "metadata": {},
   "outputs": [
    {
     "name": "stdout",
     "output_type": "stream",
     "text": [
      "[1]\n",
      "[1, 2]\n"
     ]
    }
   ],
   "source": [
    "queue.push(1)\n",
    "queue.push(2)"
   ]
  },
  {
   "cell_type": "code",
   "execution_count": 18,
   "id": "6fe79ea7-63f6-4118-a685-613f3c75c384",
   "metadata": {},
   "outputs": [
    {
     "name": "stdout",
     "output_type": "stream",
     "text": [
      "1\n"
     ]
    }
   ],
   "source": [
    "queue.first()"
   ]
  },
  {
   "cell_type": "code",
   "execution_count": 19,
   "id": "e5d83792-c5b9-49ec-a415-2e35df767d19",
   "metadata": {},
   "outputs": [
    {
     "name": "stdout",
     "output_type": "stream",
     "text": [
      "[2]\n"
     ]
    }
   ],
   "source": [
    "queue.pop()"
   ]
  },
  {
   "cell_type": "code",
   "execution_count": 20,
   "id": "d51e5492-6403-4af2-b3f4-88b4e3afd800",
   "metadata": {},
   "outputs": [
    {
     "name": "stdout",
     "output_type": "stream",
     "text": [
      "2\n"
     ]
    }
   ],
   "source": [
    "queue.first()"
   ]
  },
  {
   "cell_type": "code",
   "execution_count": null,
   "id": "33a2492f-f4e7-4586-be75-abcc9ed2d24f",
   "metadata": {},
   "outputs": [],
   "source": []
  }
 ],
 "metadata": {
  "kernelspec": {
   "display_name": "Python 3 (ipykernel)",
   "language": "python",
   "name": "python3"
  },
  "language_info": {
   "codemirror_mode": {
    "name": "ipython",
    "version": 3
   },
   "file_extension": ".py",
   "mimetype": "text/x-python",
   "name": "python",
   "nbconvert_exporter": "python",
   "pygments_lexer": "ipython3",
   "version": "3.12.3"
  }
 },
 "nbformat": 4,
 "nbformat_minor": 5
}
