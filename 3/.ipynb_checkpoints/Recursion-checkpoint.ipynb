{
 "cells": [
  {
   "cell_type": "markdown",
   "id": "512814fd-73f0-4686-8c77-11c1b5f2b221",
   "metadata": {},
   "source": [
    "### Python Recursion\n",
    "A function  that calls itself again and again\n",
    "real world example is placing an object in between two parallel mirrors facing each other. That reflection is recursive\n",
    "In python we know that a function can call other functions. It is even possible for the function to call itself that is recursive function\n",
    "the working ofthe recursive function is called recurse\n",
    "\n",
    "def recurse():\n",
    "\n",
    "     recurse()\n",
    "\n",
    "   recurse() # recursive call\n",
    "\n",
    "Example: recursive function  = finding the factorial of an integer"
   ]
  },
  {
   "cell_type": "code",
   "execution_count": 1,
   "id": "7f010dbe-7b2d-47fb-b6e3-c848318baf52",
   "metadata": {},
   "outputs": [
    {
     "name": "stdout",
     "output_type": "stream",
     "text": [
      "The Factorial of 5 is 120\n"
     ]
    }
   ],
   "source": [
    "# example 1:\n",
    "\n",
    "def factorial(n):\n",
    "    if n == 1:\n",
    "        return 1 # base condition\n",
    "    else:\n",
    "        return (n*factorial(n-1)) \n",
    "num = 5\n",
    "print(\"The Factorial of\", num, \"is\", factorial(num))"
   ]
  },
  {
   "cell_type": "markdown",
   "id": "11f15d71-8fd1-4d47-9358-0a363b5df608",
   "metadata": {},
   "source": [
    "1. the python interpreter limits the depth of recursion to help avoid infinite recursion, resulting in stack overflows\n",
    "2. bydaulft the max depth of recursion is 1000 if the limit is crossed it results in RecursionError "
   ]
  },
  {
   "cell_type": "code",
   "execution_count": 3,
   "id": "e42dfc65-3aec-4dd0-9d53-f4a8d3038484",
   "metadata": {},
   "outputs": [
    {
     "ename": "RecursionError",
     "evalue": "maximum recursion depth exceeded",
     "output_type": "error",
     "traceback": [
      "\u001b[1;31m---------------------------------------------------------------------------\u001b[0m",
      "\u001b[1;31mRecursionError\u001b[0m                            Traceback (most recent call last)",
      "Cell \u001b[1;32mIn[3], line 3\u001b[0m\n\u001b[0;32m      1\u001b[0m \u001b[38;5;28;01mdef\u001b[39;00m \u001b[38;5;21mrecursor\u001b[39m():\n\u001b[0;32m      2\u001b[0m     recursor()\n\u001b[1;32m----> 3\u001b[0m \u001b[43mrecursor\u001b[49m\u001b[43m(\u001b[49m\u001b[43m)\u001b[49m\n",
      "Cell \u001b[1;32mIn[3], line 2\u001b[0m, in \u001b[0;36mrecursor\u001b[1;34m()\u001b[0m\n\u001b[0;32m      1\u001b[0m \u001b[38;5;28;01mdef\u001b[39;00m \u001b[38;5;21mrecursor\u001b[39m():\n\u001b[1;32m----> 2\u001b[0m     \u001b[43mrecursor\u001b[49m\u001b[43m(\u001b[49m\u001b[43m)\u001b[49m\n",
      "Cell \u001b[1;32mIn[3], line 2\u001b[0m, in \u001b[0;36mrecursor\u001b[1;34m()\u001b[0m\n\u001b[0;32m      1\u001b[0m \u001b[38;5;28;01mdef\u001b[39;00m \u001b[38;5;21mrecursor\u001b[39m():\n\u001b[1;32m----> 2\u001b[0m     \u001b[43mrecursor\u001b[49m\u001b[43m(\u001b[49m\u001b[43m)\u001b[49m\n",
      "    \u001b[1;31m[... skipping similar frames: recursor at line 2 (2974 times)]\u001b[0m\n",
      "Cell \u001b[1;32mIn[3], line 2\u001b[0m, in \u001b[0;36mrecursor\u001b[1;34m()\u001b[0m\n\u001b[0;32m      1\u001b[0m \u001b[38;5;28;01mdef\u001b[39;00m \u001b[38;5;21mrecursor\u001b[39m():\n\u001b[1;32m----> 2\u001b[0m     \u001b[43mrecursor\u001b[49m\u001b[43m(\u001b[49m\u001b[43m)\u001b[49m\n",
      "\u001b[1;31mRecursionError\u001b[0m: maximum recursion depth exceeded"
     ]
    }
   ],
   "source": [
    "def recursor():\n",
    "    recursor()\n",
    "recursor()"
   ]
  },
  {
   "cell_type": "markdown",
   "id": "3542bbc4-0167-4d91-9493-af12f1bb7024",
   "metadata": {},
   "source": [
    "### Advantages of Recursion\n",
    "1. Recursive functions make the code look clean and elegant\n",
    "2. A complex task can be broken down to simpler sub-problem using recursion\n",
    "3. Sequence genration is easier with recursion than using some nested iteration\n",
    "\n",
    "### Disadvantages of Recursion\n",
    "1. Sometimes the logic behind the recursion is hard to follow through\n",
    "2. Recursive calls are expensive (insufficient) as they take up a lot of memory and time\n",
    "3. Recursive function are hard to debug"
   ]
  },
  {
   "cell_type": "code",
   "execution_count": null,
   "id": "2fc9af32-ef1b-495f-8406-97d58c9f0d12",
   "metadata": {},
   "outputs": [],
   "source": []
  }
 ],
 "metadata": {
  "kernelspec": {
   "display_name": "Python 3 (ipykernel)",
   "language": "python",
   "name": "python3"
  },
  "language_info": {
   "codemirror_mode": {
    "name": "ipython",
    "version": 3
   },
   "file_extension": ".py",
   "mimetype": "text/x-python",
   "name": "python",
   "nbconvert_exporter": "python",
   "pygments_lexer": "ipython3",
   "version": "3.12.3"
  }
 },
 "nbformat": 4,
 "nbformat_minor": 5
}
