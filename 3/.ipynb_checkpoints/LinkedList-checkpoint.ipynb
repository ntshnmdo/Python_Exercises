{
 "cells": [
  {
   "cell_type": "markdown",
   "id": "5402df7c-2669-42ec-aed5-feff4cfeaa44",
   "metadata": {},
   "source": [
    "### Linked List Data Structure"
   ]
  },
  {
   "cell_type": "code",
   "execution_count": 24,
   "id": "f02d872c-cc8c-41f1-9cf3-4be8376c378e",
   "metadata": {},
   "outputs": [],
   "source": [
    "# program for preparing the node\n",
    "class Node:\n",
    "    def __init__(self,data):\n",
    "        self.data = data\n",
    "        self.next = None # currently it is none and it is solo node "
   ]
  },
  {
   "cell_type": "code",
   "execution_count": 25,
   "id": "50762bb4-ace6-46d9-8b44-8f61b8166ec4",
   "metadata": {},
   "outputs": [
    {
     "name": "stdin",
     "output_type": "stream",
     "text": [
      "Hey user pass me the length of your Linked List:  5\n"
     ]
    }
   ],
   "source": [
    "# creating a node by taking a input from user\n",
    "# if I pass 5 then LL is from 0 to 4, if I pass 4 then it 0 to 3 and so on\n",
    "# create LL 1-->2-->3-->4 first we need to define 1 that is head\n",
    "# to iterate in LL we will create temp variable and head will be in 0 only so that our LL is maintained and it can retrive any value on call\n",
    "\n",
    "lenLL = int(input(\"Hey user pass me the length of your Linked List: \"))\n",
    "head = Node(0)\n",
    "temp = head\n",
    "for i in range(1, lenLL):\n",
    "    temp.next = Node(i)\n",
    "    temp = temp.next"
   ]
  },
  {
   "cell_type": "code",
   "execution_count": 26,
   "id": "1e3ecc0b-91e3-4b44-b108-a4d397b29ca5",
   "metadata": {},
   "outputs": [
    {
     "name": "stdout",
     "output_type": "stream",
     "text": [
      "0\n",
      "1\n",
      "2\n",
      "3\n",
      "4\n"
     ]
    }
   ],
   "source": [
    "# program for printing the values of linked list\n",
    "# suppose a LL: head = temp = 0 --> 1 --> 2 --> 3 --> 4 --> None\n",
    "\n",
    "def printValLL(head):\n",
    "    temp = head\n",
    "    while temp != None:\n",
    "        print(temp.data)\n",
    "        temp = temp.next\n",
    "printValLL(head)"
   ]
  },
  {
   "cell_type": "code",
   "execution_count": 28,
   "id": "c7d4fed1-f8e7-4876-a6d1-e09ea8fc8304",
   "metadata": {
    "scrolled": true
   },
   "outputs": [
    {
     "name": "stdout",
     "output_type": "stream",
     "text": [
      "Printing before inserting node:\n",
      "0\n",
      "1\n",
      "2\n",
      "6\n",
      "3\n",
      "4\n",
      "Printing after inserting node:\n",
      "0\n",
      "1\n",
      "2\n",
      "6\n",
      "3\n",
      "4\n",
      "Printing after inserting node:\n",
      "0\n",
      "1\n",
      "2\n",
      "6\n",
      "3\n",
      "4\n",
      "Printing after inserting node:\n",
      "0\n",
      "1\n",
      "2\n",
      "6\n",
      "6\n",
      "3\n",
      "4\n",
      "Printing after inserting node:\n",
      "0\n",
      "1\n",
      "2\n",
      "6\n",
      "6\n",
      "3\n",
      "4\n",
      "Printing after inserting node:\n",
      "0\n",
      "1\n",
      "2\n",
      "6\n",
      "6\n",
      "3\n",
      "4\n",
      "Printing after inserting node:\n",
      "0\n",
      "1\n",
      "2\n",
      "6\n",
      "6\n",
      "3\n",
      "4\n"
     ]
    }
   ],
   "source": [
    "# why it is more flexible than array\n",
    "# suppose an array [0 1 2 3 4 5] and I want to insert 6 in between so TC will be O(n) but in case of LL TC will be O(1) \n",
    "# suppose a LL 0 --> 1 --> 2 --> 3 -x-> 4 --> 5 --> None now insert 6 after 3. so \n",
    "# 0 --> 1 --> 2 --> 3 --> 6 --> 4 --> 5 --> None (New LL) TC O(1)\n",
    "# so iteration in LL to insert 6 is O(n) but insertion is O(1)\n",
    "# whereas in arrays both are O(n) # same for deletion\n",
    "# program is like:\n",
    "\n",
    "def insertNode(head, i, val):\n",
    "    insertNode = Node(val)\n",
    "    curr = head\n",
    "    future = curr.next\n",
    "    counter = 0\n",
    "    print(\"Printing before inserting node:\")\n",
    "    printValLL(head)\n",
    "    while future:\n",
    "        if counter == i:\n",
    "            curr.next = insertNode\n",
    "            insertNode.next = future\n",
    "        counter += 1\n",
    "        curr = curr.next\n",
    "        future = curr.next\n",
    "        print(\"Printing after inserting node:\")\n",
    "        printValLL(head)\n",
    "insertNode(head, 2, 6)"
   ]
  },
  {
   "cell_type": "code",
   "execution_count": 29,
   "id": "beb7e62f-3a38-43b6-b80c-0a40aa5adaf3",
   "metadata": {
    "scrolled": true
   },
   "outputs": [
    {
     "name": "stdout",
     "output_type": "stream",
     "text": [
      "Printing before deletion:\n",
      "0\n",
      "1\n",
      "2\n",
      "6\n",
      "6\n",
      "3\n",
      "4\n",
      "Printing after deletion:\n",
      "0\n",
      "1\n",
      "2\n",
      "6\n",
      "6\n",
      "3\n",
      "4\n",
      "Printing after deletion:\n",
      "0\n",
      "1\n",
      "2\n",
      "6\n",
      "6\n",
      "3\n",
      "4\n",
      "Printing after deletion:\n",
      "0\n",
      "1\n",
      "2\n",
      "6\n",
      "3\n",
      "4\n",
      "Printing after deletion:\n",
      "0\n",
      "1\n",
      "2\n",
      "6\n",
      "3\n",
      "4\n"
     ]
    }
   ],
   "source": [
    "def deleteNode(head, i):\n",
    "    past = head \n",
    "    curr = past.next\n",
    "    future = curr.next\n",
    "    counter = 0\n",
    "    print(\"Printing before deletion:\")\n",
    "    printValLL(head)\n",
    "    while future:\n",
    "        if counter == i:\n",
    "            past.next = future\n",
    "            curr.next = None\n",
    "        counter += 1\n",
    "        past = past.next\n",
    "        curr = past.next\n",
    "        future = curr.next\n",
    "        print(\"Printing after deletion:\")\n",
    "        printValLL(head)\n",
    "deleteNode(head, 2)  \n",
    "        \n",
    "    "
   ]
  },
  {
   "cell_type": "code",
   "execution_count": 30,
   "id": "8180b5d8-31ef-49f4-b36e-e112401d4269",
   "metadata": {},
   "outputs": [
    {
     "name": "stdin",
     "output_type": "stream",
     "text": [
      "Hey user, pass me the length of your Linked List:  5\n"
     ]
    },
    {
     "name": "stdout",
     "output_type": "stream",
     "text": [
      "Original Linked List:\n",
      "0 --> 1 --> 2 --> 3 --> 4None\n",
      "Linked List after insertion:\n",
      "0 --> 1 --> 6 --> 2 --> 3 --> 4None\n",
      "Linked List after deletion:\n",
      "0 --> 1 --> 2 --> 3 --> 4None\n"
     ]
    }
   ],
   "source": [
    "class Node:\n",
    "    def __init__(self, data):  # Constructor with double underscores\n",
    "        self.data = data\n",
    "        self.next = None  # Currently, it is None, meaning it is a solo node\n",
    "\n",
    "# Create a linked list by taking input from the user\n",
    "lenLL = int(input(\"Hey user, pass me the length of your Linked List: \"))\n",
    "if lenLL > 0:\n",
    "    head = Node(0)  # Initialize head\n",
    "    temp = head\n",
    "    for i in range(1, lenLL):\n",
    "        temp.next = Node(i)\n",
    "        temp = temp.next\n",
    "else:\n",
    "    head = None  # If the length is 0 or less, the list is empty\n",
    "\n",
    "# Function to print the values of the linked list\n",
    "def printValLL(head):\n",
    "    temp = head\n",
    "    while temp is not None:\n",
    "        print(temp.data, end=\" --> \" if temp.next else \"\")\n",
    "        temp = temp.next\n",
    "    print(\"None\")  # End of the linked list\n",
    "\n",
    "print(\"Original Linked List:\")\n",
    "printValLL(head)\n",
    "\n",
    "# Function to insert a node at a given position\n",
    "def insertNode(head, i, val):\n",
    "    newNode = Node(val)\n",
    "    curr = head\n",
    "    counter = 0\n",
    "    if i == 0:\n",
    "        newNode.next = head\n",
    "        head = newNode\n",
    "        return head\n",
    "    while curr is not None and counter < i - 1:\n",
    "        curr = curr.next\n",
    "        counter += 1\n",
    "    if curr is None:\n",
    "        print(f\"Position {i} is out of bounds.\")\n",
    "        return head\n",
    "    newNode.next = curr.next\n",
    "    curr.next = newNode\n",
    "    return head\n",
    "\n",
    "# Inserting a node\n",
    "head = insertNode(head, 2, 6)\n",
    "print(\"Linked List after insertion:\")\n",
    "printValLL(head)\n",
    "\n",
    "# Function to delete a node at a given position\n",
    "def deleteNode(head, i):\n",
    "    if i == 0 and head is not None:\n",
    "        head = head.next\n",
    "        return head\n",
    "    past = head \n",
    "    curr = past.next\n",
    "    counter = 0\n",
    "    while curr is not None and counter < i - 1:\n",
    "        past = past.next\n",
    "        curr = past.next\n",
    "        counter += 1\n",
    "    if curr is None or curr.next is None:\n",
    "        print(f\"Position {i} is out of bounds.\")\n",
    "        return head\n",
    "    past.next = curr.next\n",
    "    return head\n",
    "\n",
    "# Deleting a node\n",
    "head = deleteNode(head, 2)\n",
    "print(\"Linked List after deletion:\")\n",
    "printValLL(head)\n"
   ]
  },
  {
   "cell_type": "code",
   "execution_count": null,
   "id": "6a984612-344c-4456-85fe-c212332eb933",
   "metadata": {},
   "outputs": [],
   "source": []
  }
 ],
 "metadata": {
  "kernelspec": {
   "display_name": "Python 3 (ipykernel)",
   "language": "python",
   "name": "python3"
  },
  "language_info": {
   "codemirror_mode": {
    "name": "ipython",
    "version": 3
   },
   "file_extension": ".py",
   "mimetype": "text/x-python",
   "name": "python",
   "nbconvert_exporter": "python",
   "pygments_lexer": "ipython3",
   "version": "3.12.3"
  }
 },
 "nbformat": 4,
 "nbformat_minor": 5
}
