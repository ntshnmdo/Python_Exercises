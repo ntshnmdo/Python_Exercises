{
 "cells": [
  {
   "cell_type": "markdown",
   "id": "5a383f73-d275-43a7-bfeb-13eef61831c1",
   "metadata": {},
   "source": [
    "In python, a Function is a clock of organized, reusable (DRY-Dont repeat yourself) code with a name that is used to perform a single specific task. it can take argument and return the value.\n",
    "\n",
    "In a program when the program gets larger and lerger, we can you multiple functions wiothin it to make it more organized and manageable.\n",
    "\n",
    "### User Defined Functions"
   ]
  },
  {
   "cell_type": "code",
   "execution_count": 2,
   "id": "4a61c1ca-3b56-46b5-b347-2a690114ba98",
   "metadata": {},
   "outputs": [
    {
     "ename": "SyntaxError",
     "evalue": "'return' outside function (1290295926.py, line 7)",
     "output_type": "error",
     "traceback": [
      "\u001b[1;36m  Cell \u001b[1;32mIn[2], line 7\u001b[1;36m\u001b[0m\n\u001b[1;33m    return value\u001b[0m\n\u001b[1;37m    ^\u001b[0m\n\u001b[1;31mSyntaxError\u001b[0m\u001b[1;31m:\u001b[0m 'return' outside function\n"
     ]
    }
   ],
   "source": [
    "# Syntax:\n",
    "\n",
    "def function_name(parameter1, parameter2):\n",
    "    \"\"\"docstring\"\"\"\n",
    "    # function body\n",
    "    # write some action\n",
    "return value"
   ]
  },
  {
   "cell_type": "code",
   "execution_count": 7,
   "id": "ff2bb959-4c1b-43b2-88f3-44dc5cb9b0ac",
   "metadata": {},
   "outputs": [
    {
     "name": "stdout",
     "output_type": "stream",
     "text": [
      "Number 1:  2\n",
      "Number 2:  4\n",
      "Result:  6\n"
     ]
    }
   ],
   "source": [
    "# example 1:\n",
    "\n",
    "def add(num1, num2):                # function_name: add\n",
    "    print(\"Number 1: \", num1)\n",
    "    print(\"Number 2: \", num2)\n",
    "    addition = num1 + num2\n",
    "    return addition # return fucntion value\n",
    "\n",
    "res = add(2,4) # function call\n",
    "print(\"Result: \", res)"
   ]
  },
  {
   "cell_type": "markdown",
   "id": "944b15af-4dac-4d88-b250-3e10955c9dcb",
   "metadata": {},
   "source": [
    "### Defining a function without any parameters\n",
    "Function can be declared without parameters"
   ]
  },
  {
   "cell_type": "code",
   "execution_count": 8,
   "id": "eb833770-d1ef-46ea-a890-ef18ac4b308a",
   "metadata": {},
   "outputs": [
    {
     "name": "stdout",
     "output_type": "stream",
     "text": [
      "Welcome to python tutorials\n"
     ]
    }
   ],
   "source": [
    "# example 2: \n",
    "\n",
    "def greet():\n",
    "    print(\"Welcome to python tutorials\")\n",
    "\n",
    "# call function using its name\n",
    "greet()"
   ]
  },
  {
   "cell_type": "code",
   "execution_count": 13,
   "id": "f3ab9b01-0684-4cae-bdd5-ae98f8c0c352",
   "metadata": {},
   "outputs": [
    {
     "name": "stdout",
     "output_type": "stream",
     "text": [
      "9\n"
     ]
    }
   ],
   "source": [
    "# example 3:\n",
    "\n",
    "def add_two_numbers():\n",
    "    num_one = 3\n",
    "    num_two = 6\n",
    "    total = num_one + num_two\n",
    "    print(total)\n",
    "\n",
    "add_two_numbers()"
   ]
  },
  {
   "cell_type": "code",
   "execution_count": 14,
   "id": "081cb899-1d4b-4e29-b30c-3f53eea52fec",
   "metadata": {},
   "outputs": [
    {
     "name": "stdout",
     "output_type": "stream",
     "text": [
      "Nitish Namdeo\n"
     ]
    }
   ],
   "source": [
    "# example 4: print your name\n",
    "\n",
    "def generate_full_name():\n",
    "    first_name = 'Nitish'\n",
    "    last_name = 'Namdeo'\n",
    "    space = ' '\n",
    "    full_name = first_name + space + last_name\n",
    "    print(full_name)\n",
    "\n",
    "generate_full_name()"
   ]
  },
  {
   "cell_type": "markdown",
   "id": "2d33fc40-2d27-43bb-8706-0e98b6b456eb",
   "metadata": {},
   "source": [
    "### Defining a function without parameters and return statement\n"
   ]
  },
  {
   "cell_type": "code",
   "execution_count": 15,
   "id": "cf9cd24c-c37c-4ecc-8262-46cd7b13f281",
   "metadata": {},
   "outputs": [
    {
     "name": "stdout",
     "output_type": "stream",
     "text": [
      "9\n"
     ]
    }
   ],
   "source": [
    "# example 5:\n",
    "\n",
    "def add_two_numbers():\n",
    "    num_one = 3\n",
    "    num_two = 6\n",
    "    total = num_one + num_two\n",
    "    return total\n",
    "\n",
    "print(add_two_numbers())"
   ]
  },
  {
   "cell_type": "code",
   "execution_count": 17,
   "id": "b491692b-cee8-4caa-8fc0-bc518299b5b8",
   "metadata": {},
   "outputs": [
    {
     "name": "stdout",
     "output_type": "stream",
     "text": [
      "Nitish Namdeo\n"
     ]
    }
   ],
   "source": [
    "# example 6:\n",
    "\n",
    "def generate_full_name():\n",
    "    first_name = \"Nitish\"\n",
    "    last_name = \"Namdeo\"\n",
    "    space = \" \"\n",
    "    full_name = first_name + space + last_name\n",
    "    return full_name\n",
    "\n",
    "print(generate_full_name())"
   ]
  },
  {
   "cell_type": "markdown",
   "id": "62ebd32b-c0cf-47ff-b67d-510cdde6c0a6",
   "metadata": {},
   "source": [
    "### Defining a function with parameters\n",
    "\n",
    "In a function we can pass different data types (number, string, boolean, list, tuple, dictionary or set) as a parameter\n",
    "\n",
    "### Single Parameter:\n",
    "If our function takes a parameter we should call our function with an argument"
   ]
  },
  {
   "cell_type": "code",
   "execution_count": 39,
   "id": "2fcbf1a4-12e7-443e-aa03-f46958c37e5a",
   "metadata": {},
   "outputs": [
    {
     "name": "stdout",
     "output_type": "stream",
     "text": [
      "Hello, Nitish. Good Morning !\n"
     ]
    }
   ],
   "source": [
    "# example 7:\n",
    "\n",
    "def greet(name):\n",
    "    print(\"Hello, \" + name + \". Good Morning !\")  \n",
    "\n",
    "greet('Nitish')"
   ]
  },
  {
   "cell_type": "code",
   "execution_count": 36,
   "id": "86ba71c0-769d-44b1-b4f6-7e1c23b989b8",
   "metadata": {},
   "outputs": [
    {
     "name": "stdout",
     "output_type": "stream",
     "text": [
      "55\n",
      "None\n",
      "5050\n",
      "None\n"
     ]
    }
   ],
   "source": [
    "#example 8:\n",
    "\n",
    "def sum_of_numbers(n):\n",
    "    total = 0\n",
    "    for i in range(n+1):\n",
    "        total += i\n",
    "    print(total)\n",
    "\n",
    "print(sum_of_numbers(10))\n",
    "print(sum_of_numbers(100))"
   ]
  },
  {
   "cell_type": "code",
   "execution_count": 37,
   "id": "03c7a245-56df-4593-9079-23cadc1d2afe",
   "metadata": {},
   "outputs": [
    {
     "name": "stdout",
     "output_type": "stream",
     "text": [
      "Hello Nitish Welcome to course\n",
      "Your course name is  MAS\n"
     ]
    }
   ],
   "source": [
    "### Two_Parameters\n",
    "\n",
    "# example 9 :\n",
    "\n",
    "def course(name, course_name):\n",
    "    print(\"Hello\", name, \"Welcome to course\")\n",
    "    print(\"Your course name is \", course_name)\n",
    "\n",
    "course('Nitish', 'MAS')"
   ]
  },
  {
   "cell_type": "markdown",
   "id": "5f3cb35a-599a-4cec-8e3c-31c42d028702",
   "metadata": {},
   "source": [
    "### Defining a function with parameters and return statement"
   ]
  },
  {
   "cell_type": "code",
   "execution_count": 2,
   "id": "1c530aa3-7060-43ca-997f-689ad846130d",
   "metadata": {},
   "outputs": [
    {
     "name": "stdout",
     "output_type": "stream",
     "text": [
      "9\n"
     ]
    }
   ],
   "source": [
    "# example 10:\n",
    "\n",
    "def square_number(x):\n",
    "    return x * x\n",
    "\n",
    "print(square_number(3))"
   ]
  },
  {
   "cell_type": "code",
   "execution_count": 3,
   "id": "655497ae-a351-4d6b-805d-e4a911dd621d",
   "metadata": {},
   "outputs": [
    {
     "name": "stdout",
     "output_type": "stream",
     "text": [
      "314.0\n"
     ]
    }
   ],
   "source": [
    "# example 11:\n",
    "\n",
    "def area_of_circle(r):\n",
    "    Pi = 3.14\n",
    "    area = Pi * r ** 2\n",
    "    return area\n",
    "\n",
    "print(area_of_circle(10))"
   ]
  },
  {
   "cell_type": "code",
   "execution_count": 7,
   "id": "169c3b1c-ac6f-4fbe-af1f-f533097d04be",
   "metadata": {},
   "outputs": [
    {
     "name": "stdout",
     "output_type": "stream",
     "text": [
      "Full Name: Nitish Namdeo\n"
     ]
    }
   ],
   "source": [
    "# example 12:\n",
    "\n",
    "def generate_full_name(first_name, last_name):\n",
    "    space = ' '\n",
    "    full_name = first_name + space + last_name\n",
    "    return full_name\n",
    "\n",
    "print('Full Name:', generate_full_name('Nitish','Namdeo'))"
   ]
  },
  {
   "cell_type": "code",
   "execution_count": 10,
   "id": "690248d0-3fb9-49e4-a470-315bd51ae1d6",
   "metadata": {},
   "outputs": [
    {
     "name": "stdout",
     "output_type": "stream",
     "text": [
      "Your Current Age is:  27.029999999999973\n"
     ]
    }
   ],
   "source": [
    "# example 13:\n",
    "\n",
    "def calculate_age(current_year, birth_year):\n",
    "    age = current_year - birth_year\n",
    "    return age\n",
    "\n",
    "print(\"Your Current Age is: \", calculate_age(2024.09, 1997.06))"
   ]
  },
  {
   "cell_type": "code",
   "execution_count": 14,
   "id": "007663e3-8207-4bc6-b1da-1bccb0d33cd4",
   "metadata": {},
   "outputs": [
    {
     "name": "stdout",
     "output_type": "stream",
     "text": [
      "Weight of the object in Newtons:  981.0 N\n"
     ]
    }
   ],
   "source": [
    "# example 14:\n",
    "\n",
    "def weight_of_object(mass, gravity):\n",
    "    weight = str(mass * gravity) + ' N'\n",
    "    return weight\n",
    "\n",
    "print(\"Weight of the object in Newtons: \", weight_of_object(100, 9.81))"
   ]
  },
  {
   "cell_type": "markdown",
   "id": "e63a078c-5291-4aa4-90e4-211fd6d3cdfc",
   "metadata": {},
   "source": [
    "### Return Function"
   ]
  },
  {
   "cell_type": "code",
   "execution_count": 15,
   "id": "55199b67-f086-4af2-80d1-9f058fb19c9c",
   "metadata": {},
   "outputs": [
    {
     "name": "stdout",
     "output_type": "stream",
     "text": [
      "Nitish Namdeo\n",
      "None\n"
     ]
    }
   ],
   "source": [
    "# example 15:\n",
    "\n",
    "def fullname(firstname, lastname):\n",
    "    space = ' '\n",
    "    fullname = firstname + space + lastname\n",
    "    print(fullname)\n",
    "\n",
    "print(fullname('Nitish', 'Namdeo')) \n",
    "    "
   ]
  },
  {
   "cell_type": "markdown",
   "id": "5e735f3c-09a2-4414-9680-f7f13fa5c261",
   "metadata": {},
   "source": [
    "If we do not **return** a value with a function, then our function is returning **None** by default. To return a value with a function we use the keyword **return** followed by the variable we are returning. We can return any kind of data types from a function."
   ]
  },
  {
   "cell_type": "code",
   "execution_count": 17,
   "id": "d0155057-ba36-4b46-8b96-af5136217b75",
   "metadata": {},
   "outputs": [
    {
     "name": "stdout",
     "output_type": "stream",
     "text": [
      "Nitish Namdeo\n"
     ]
    }
   ],
   "source": [
    "# example 15 with return statement\n",
    "\n",
    "def fullname(firstname, lastname):\n",
    "    space = ' '\n",
    "    full_name = firstname + space + lastname\n",
    "    return full_name\n",
    "print(fullname('Nitish', 'Namdeo'))"
   ]
  },
  {
   "cell_type": "code",
   "execution_count": 18,
   "id": "3364444e-bab4-422e-b2f9-0b30eb3910e2",
   "metadata": {},
   "outputs": [
    {
     "name": "stdout",
     "output_type": "stream",
     "text": [
      "Adding the two values\n",
      "Printing within function\n",
      "30\n",
      "total:  30\n",
      "Hello\n",
      "Rest of the code\n"
     ]
    }
   ],
   "source": [
    "# example 16\n",
    "\n",
    "def sum(a,b): \n",
    "    print(\"Adding the two values\")\n",
    "    print(\"Printing within function\")\n",
    "    print(a+b)\n",
    "    return a+b\n",
    "\n",
    "def msg(): #function 2 within function\n",
    "    print(\"Hello\")\n",
    "    return\n",
    "\n",
    "total = sum(10,20)\n",
    "print('total: ', total)\n",
    "msg()\n",
    "print(\"Rest of the code\")"
   ]
  },
  {
   "cell_type": "code",
   "execution_count": 20,
   "id": "93fd64d0-b7d8-4977-bf02-fd1d35724315",
   "metadata": {},
   "outputs": [
    {
     "name": "stdout",
     "output_type": "stream",
     "text": [
      "Even Numbers in the list are:  [2, 4, 34, 64, 64]\n"
     ]
    }
   ],
   "source": [
    "# example 17:\n",
    "\n",
    "def is_even(list1):\n",
    "    even_num = []\n",
    "    for n in list1:\n",
    "        if n % 2 == 0:\n",
    "            even_num.append(n)\n",
    "    return even_num\n",
    "\n",
    "even_num = is_even([2,3,4,34,64,23,13,64])\n",
    "print(\"Even Numbers in the list are: \", even_num)"
   ]
  },
  {
   "cell_type": "markdown",
   "id": "19579900-429e-481a-b537-bd261d6921e8",
   "metadata": {},
   "source": [
    "### Return Multiple values\n",
    "In python you can also return multiple values from a function. Use the return statement by separating each expression by a comma.\n"
   ]
  },
  {
   "cell_type": "code",
   "execution_count": 22,
   "id": "87b4ce1e-81a9-40f1-b906-a50756085300",
   "metadata": {},
   "outputs": [
    {
     "name": "stdout",
     "output_type": "stream",
     "text": [
      "Addition:  12\n",
      "Substract:  8\n",
      "Multiplication:  20\n",
      "Division:  5.0\n"
     ]
    }
   ],
   "source": [
    "# example 18:\n",
    "\n",
    "def arithmetic(num1, num2):\n",
    "    add = num1 + num2\n",
    "    substract = num1 - num2\n",
    "    multiplication = num1 * num2\n",
    "    division = num1 / num2\n",
    "    return add, substract, multiplication, division\n",
    "\n",
    "a, b, c, d = arithmetic(10, 2) # reading four return values in four variables\n",
    "\n",
    "print(\"Addition: \", a)\n",
    "print(\"Substract: \", b)\n",
    "print(\"Multiplication: \", c)\n",
    "print(\"Division: \", d)"
   ]
  },
  {
   "cell_type": "code",
   "execution_count": 23,
   "id": "fb9b3db7-8c49-471b-bae7-b5499f423bf7",
   "metadata": {},
   "outputs": [
    {
     "name": "stdout",
     "output_type": "stream",
     "text": [
      "Happy birthday, Bill. Hope you have a wonderful day!\n"
     ]
    }
   ],
   "source": [
    "# example 19\n",
    "\n",
    "def wish(name):\n",
    "    print(\"Happy birthday, \" + name + \". Hope you have a wonderful day!\")\n",
    "\n",
    "wish('Bill')"
   ]
  },
  {
   "cell_type": "markdown",
   "id": "d1c88b1f-a95c-4c0f-9b6f-73238e8c6797",
   "metadata": {},
   "source": [
    "# example 20\n",
    "\n",
    "def greetings (name = 'Clark'):\n",
    "    message = name + ', welcome to python for data science'\n",
    "    return message\n",
    "print(greetings())\n",
    "print(greetings('Milan'))"
   ]
  },
  {
   "cell_type": "code",
   "execution_count": 25,
   "id": "5222123e-cbe8-415a-b55a-ddf05041b3c3",
   "metadata": {},
   "outputs": [
    {
     "name": "stdout",
     "output_type": "stream",
     "text": [
      "Albert Camus\n",
      "Nitish Namdeo\n"
     ]
    }
   ],
   "source": [
    "# example 21\n",
    "\n",
    "def generate_full_name(first_name = 'Albert', last_name = 'Camus'):\n",
    "    space = ' '\n",
    "    full_name = first_name + space + last_name\n",
    "    return full_name\n",
    "\n",
    "print(generate_full_name())\n",
    "print(generate_full_name('Nitish', 'Namdeo'))"
   ]
  },
  {
   "cell_type": "code",
   "execution_count": 26,
   "id": "1c42a562-9f34-41a0-afc6-d90c2fc5ed09",
   "metadata": {},
   "outputs": [
    {
     "name": "stdout",
     "output_type": "stream",
     "text": [
      "value of x is: 9\n",
      "value of y is: 6\n"
     ]
    }
   ],
   "source": [
    "# example 22\n",
    "\n",
    "def swap(x,y):\n",
    "    temp = x; # value of x will go inside temp\n",
    "    x = y;    # value of y will go inside x\n",
    "    y = temp; # value of temp will go inside y\n",
    "    print(\"value of x is:\", x)\n",
    "    print(\"value of y is:\", y)\n",
    "    return # \"return is optional\"\n",
    "\n",
    "x = 6\n",
    "y = 9\n",
    "swap(x,y)  # call function"
   ]
  },
  {
   "cell_type": "markdown",
   "id": "07767a44-ab34-4355-8d68-a5d8664e2e77",
   "metadata": {},
   "source": [
    "### function **pass** statement"
   ]
  },
  {
   "cell_type": "code",
   "execution_count": 27,
   "id": "e9b4c812-3cc0-4d2c-83a7-ac3bb32bc4aa",
   "metadata": {},
   "outputs": [],
   "source": [
    "# example 23\n",
    "\n",
    "def addition(num1, num2):\n",
    "    pass\n",
    "addition(10,2)"
   ]
  },
  {
   "cell_type": "markdown",
   "id": "11c36ee2-9777-4012-97e0-0de600c8b5a9",
   "metadata": {},
   "source": [
    "### Global, Local and Non-Local Variables\n",
    "The inner fucntion does have access to the outer functions l;ocal scope\n",
    "Global Variables: a variable declared outside of the fucntion or in global scope is known as a global variable. This means that a global vairable can be accessed inside or outside of the function."
   ]
  },
  {
   "cell_type": "code",
   "execution_count": 1,
   "id": "95b0a20b-eba9-41b9-b77c-b88bb2579aa2",
   "metadata": {},
   "outputs": [
    {
     "name": "stdout",
     "output_type": "stream",
     "text": [
      "Value in 1st function: 999\n",
      "Value in 2nd function: 999\n"
     ]
    }
   ],
   "source": [
    "# example24: cREATE A global variable\n",
    "\n",
    "global_var = 999\n",
    "\n",
    "def fun1():\n",
    "    print(\"Value in 1st function:\", global_var)\n",
    "\n",
    "def fun2():\n",
    "    print(\"Value in 2nd function:\", global_var)\n",
    "\n",
    "fun1()\n",
    "fun2()\n"
   ]
  },
  {
   "cell_type": "code",
   "execution_count": 2,
   "id": "f0daa19f-118d-4e6d-b644-7ace88056c3b",
   "metadata": {},
   "outputs": [
    {
     "name": "stdout",
     "output_type": "stream",
     "text": [
      "x inside: global\n",
      "x outside: global\n"
     ]
    }
   ],
   "source": [
    "# example 25: \n",
    "\n",
    "x = \"global\"\n",
    "\n",
    "def fun():\n",
    "    print(\"x inside:\", x)\n",
    "\n",
    "fun()\n",
    "print(\"x outside:\", x)"
   ]
  },
  {
   "cell_type": "code",
   "execution_count": 3,
   "id": "68ecb125-6190-475d-b8ec-7669b3fdad01",
   "metadata": {},
   "outputs": [
    {
     "ename": "UnboundLocalError",
     "evalue": "cannot access local variable 'x' where it is not associated with a value",
     "output_type": "error",
     "traceback": [
      "\u001b[1;31m---------------------------------------------------------------------------\u001b[0m",
      "\u001b[1;31mUnboundLocalError\u001b[0m                         Traceback (most recent call last)",
      "Cell \u001b[1;32mIn[3], line 9\u001b[0m\n\u001b[0;32m      6\u001b[0m     x \u001b[38;5;241m=\u001b[39m x \u001b[38;5;241m*\u001b[39m \u001b[38;5;241m2\u001b[39m\n\u001b[0;32m      7\u001b[0m     \u001b[38;5;28mprint\u001b[39m(x)\n\u001b[1;32m----> 9\u001b[0m \u001b[43mfun\u001b[49m\u001b[43m(\u001b[49m\u001b[43m)\u001b[49m\n",
      "Cell \u001b[1;32mIn[3], line 6\u001b[0m, in \u001b[0;36mfun\u001b[1;34m()\u001b[0m\n\u001b[0;32m      5\u001b[0m \u001b[38;5;28;01mdef\u001b[39;00m \u001b[38;5;21mfun\u001b[39m():\n\u001b[1;32m----> 6\u001b[0m     x \u001b[38;5;241m=\u001b[39m \u001b[43mx\u001b[49m \u001b[38;5;241m*\u001b[39m \u001b[38;5;241m2\u001b[39m\n\u001b[0;32m      7\u001b[0m     \u001b[38;5;28mprint\u001b[39m(x)\n",
      "\u001b[1;31mUnboundLocalError\u001b[0m: cannot access local variable 'x' where it is not associated with a value"
     ]
    }
   ],
   "source": [
    "# example 26: what if we want to change the value of x inside a function?\n",
    "\n",
    "x = \"global\"\n",
    "\n",
    "def fun():\n",
    "    x = x * 2\n",
    "    print(x)\n",
    "\n",
    "fun()"
   ]
  },
  {
   "cell_type": "markdown",
   "id": "4ef3b9d0-1e59-4b03-bfdd-7fb9f6d80a94",
   "metadata": {},
   "source": [
    "#### Explanation:\n",
    "the output shows an error because Python treats x as a local variable and x is also not defined inside fun().\n",
    "To make this work, we use global keyword.\n",
    "\n",
    "## What is Global Keyword?\n",
    "in python, global keyword allows you to modify the variable outside of the cuurent scope. It is used to create a global variable and  make changes to the variable in a local context.\n",
    "\n",
    "### Rules of Global Keyword\n",
    "The basic rules for global keyword in python are:\n",
    "1. when we create a variable inside a function, it local bydefault.\n",
    "2. when we define a variable outside a function, it is global bydefault . you dont have to use global keyword.\n",
    "3. we use global keyword to read and write a global variable inside a function.\n",
    "4. use of global keyword outside the function has no effect.\n",
    "\n",
    "### Use of global Keyword"
   ]
  },
  {
   "cell_type": "code",
   "execution_count": 4,
   "id": "dc270489-4051-4c76-8869-4cc27bd54d6c",
   "metadata": {},
   "outputs": [
    {
     "name": "stdout",
     "output_type": "stream",
     "text": [
      "1\n"
     ]
    }
   ],
   "source": [
    "# example 27: accessing global variable from inside a function\n",
    "\n",
    "a = 1 # global variable\n",
    "\n",
    "def add():\n",
    "    print(a)\n",
    "\n",
    "add()"
   ]
  },
  {
   "cell_type": "code",
   "execution_count": 5,
   "id": "770404b0-61f3-4ccc-9d55-ea952cafac21",
   "metadata": {},
   "outputs": [
    {
     "ename": "UnboundLocalError",
     "evalue": "cannot access local variable 'a' where it is not associated with a value",
     "output_type": "error",
     "traceback": [
      "\u001b[1;31m---------------------------------------------------------------------------\u001b[0m",
      "\u001b[1;31mUnboundLocalError\u001b[0m                         Traceback (most recent call last)",
      "Cell \u001b[1;32mIn[5], line 9\u001b[0m\n\u001b[0;32m      6\u001b[0m     a \u001b[38;5;241m=\u001b[39m a \u001b[38;5;241m+\u001b[39m \u001b[38;5;241m3\u001b[39m \u001b[38;5;66;03m# modifying\u001b[39;00m\n\u001b[0;32m      7\u001b[0m     \u001b[38;5;28mprint\u001b[39m(a)\n\u001b[1;32m----> 9\u001b[0m \u001b[43madd\u001b[49m\u001b[43m(\u001b[49m\u001b[43m)\u001b[49m\n",
      "Cell \u001b[1;32mIn[5], line 6\u001b[0m, in \u001b[0;36madd\u001b[1;34m()\u001b[0m\n\u001b[0;32m      5\u001b[0m \u001b[38;5;28;01mdef\u001b[39;00m \u001b[38;5;21madd\u001b[39m():\n\u001b[1;32m----> 6\u001b[0m     a \u001b[38;5;241m=\u001b[39m \u001b[43ma\u001b[49m \u001b[38;5;241m+\u001b[39m \u001b[38;5;241m3\u001b[39m \u001b[38;5;66;03m# modifying\u001b[39;00m\n\u001b[0;32m      7\u001b[0m     \u001b[38;5;28mprint\u001b[39m(a)\n",
      "\u001b[1;31mUnboundLocalError\u001b[0m: cannot access local variable 'a' where it is not associated with a value"
     ]
    }
   ],
   "source": [
    "# example 28: Modifying the global variable from inside the function\n",
    "\n",
    "a = 1  # global variable\n",
    "\n",
    "def add():\n",
    "    a = a + 3 # modifying\n",
    "    print(a)\n",
    "\n",
    "add()"
   ]
  },
  {
   "cell_type": "markdown",
   "id": "ea8b7bf7-9e53-41d2-b72c-94ecd4215631",
   "metadata": {},
   "source": [
    "THis is becasue we can only access the global variable from inside the function but we canot modify it\n",
    "the solution for this is to use global keyword inside the function."
   ]
  },
  {
   "cell_type": "code",
   "execution_count": 7,
   "id": "8ed82bcb-c976-4eda-8ce1-f523a03a412d",
   "metadata": {},
   "outputs": [
    {
     "name": "stdout",
     "output_type": "stream",
     "text": [
      "Inside add(): 3\n",
      "In main: 3\n"
     ]
    }
   ],
   "source": [
    "# example 29: changing the global variable from inside the function using global keyword\n",
    "\n",
    "a = 0 # global vartiable\n",
    "\n",
    "def add():\n",
    "    global a # using global keyword inside function\n",
    "    a = a + 3 # CHANGE\n",
    "    print(\"Inside add():\", a)\n",
    "\n",
    "add()\n",
    "print(\"In main:\", a) # this will print the changed a "
   ]
  },
  {
   "cell_type": "code",
   "execution_count": 9,
   "id": "681b612c-7422-4672-a293-059bb1ab6cc6",
   "metadata": {},
   "outputs": [
    {
     "name": "stdout",
     "output_type": "stream",
     "text": [
      "Value in 1st function: 9\n",
      "Value in 2nd function: 999\n",
      "Value in 3rd function: 9\n"
     ]
    }
   ],
   "source": [
    "# example 30: without 'global' keyword\n",
    "\n",
    "global_var = 9 # global variable\n",
    "\n",
    "def fun1():\n",
    "    print(\"Value in 1st function:\", global_var)\n",
    "\n",
    "def fun2():\n",
    "    # modifying the global var\n",
    "    # function will treat it as a local variable\n",
    "    global_var = 999\n",
    "    print(\"Value in 2nd function:\", global_var)\n",
    "\n",
    "def fun3():\n",
    "    print(\"Value in 3rd function:\", global_var)\n",
    "\n",
    "fun1()\n",
    "fun2()\n",
    "fun3()"
   ]
  },
  {
   "cell_type": "code",
   "execution_count": 10,
   "id": "30c75912-8002-498c-9dd5-4fbeba5f3597",
   "metadata": {},
   "outputs": [
    {
     "name": "stdout",
     "output_type": "stream",
     "text": [
      "Value in 1st function: 9\n",
      "Value in 2nd function: 999\n",
      "Value in 3rd function: 999\n"
     ]
    }
   ],
   "source": [
    "# example 31: use the 'global' keyword\n",
    "\n",
    "x = 9 # global var\n",
    "\n",
    "# defining 1st function\n",
    "def fun1():\n",
    "    print(\"Value in 1st function:\", x)\n",
    "\n",
    "# defining 2nd function\n",
    "def fun2():\n",
    "    # modify g;lobal variable using g;loba;l keyword\n",
    "    global x\n",
    "    x = 999\n",
    "    print(\"Value in 2nd function:\", x)\n",
    "\n",
    "# defining 3rd function\n",
    "def fun3():\n",
    "    print(\"Value in 3rd function:\", x)\n",
    "\n",
    "fun1()\n",
    "fun2()\n",
    "fun3()"
   ]
  },
  {
   "cell_type": "markdown",
   "id": "a6fdef2a-c6f2-457f-975d-f1ae0d8e43c0",
   "metadata": {},
   "source": [
    "### Local Variables\n",
    "A variable decalared inside the function's body or in the local scope is known as a local variable\n",
    "if we try to access the local variable from the outside of the function, we will get the error as NameError."
   ]
  },
  {
   "cell_type": "code",
   "execution_count": 11,
   "id": "00e06d74-e22c-4206-8c95-074e7ad6614e",
   "metadata": {},
   "outputs": [
    {
     "name": "stdout",
     "output_type": "stream",
     "text": [
      "Python\n",
      "DataScience\n"
     ]
    },
    {
     "ename": "NameError",
     "evalue": "name 'local_lang' is not defined",
     "output_type": "error",
     "traceback": [
      "\u001b[1;31m---------------------------------------------------------------------------\u001b[0m",
      "\u001b[1;31mNameError\u001b[0m                                 Traceback (most recent call last)",
      "Cell \u001b[1;32mIn[11], line 14\u001b[0m\n\u001b[0;32m     11\u001b[0m \u001b[38;5;66;03m# outside of function\u001b[39;00m\n\u001b[0;32m     12\u001b[0m \u001b[38;5;28mprint\u001b[39m(global_lang) \u001b[38;5;66;03m# output\u001b[39;00m\n\u001b[1;32m---> 14\u001b[0m \u001b[38;5;28mprint\u001b[39m(\u001b[43mlocal_lang\u001b[49m) \u001b[38;5;66;03m# error: NameError\u001b[39;00m\n",
      "\u001b[1;31mNameError\u001b[0m: name 'local_lang' is not defined"
     ]
    }
   ],
   "source": [
    "# example 32: \n",
    "\n",
    "global_lang = 'DataScience'\n",
    "\n",
    "def var_scope_test():\n",
    "    local_lang = 'Python'\n",
    "    print(local_lang)\n",
    "\n",
    "var_scope_test() # output 'Python'\n",
    "\n",
    "# outside of function\n",
    "print(global_lang) # output\n",
    "\n",
    "print(local_lang) # error: NameError"
   ]
  },
  {
   "cell_type": "code",
   "execution_count": 14,
   "id": "98bfc93a-b507-4736-8e97-c45f4ada71e3",
   "metadata": {},
   "outputs": [
    {
     "name": "stdout",
     "output_type": "stream",
     "text": [
      "(a,b): ( 6 , 30 )\n",
      "Global a:  90\n",
      "Local a:  90\n"
     ]
    },
    {
     "ename": "NameError",
     "evalue": "name 'b' is not defined",
     "output_type": "error",
     "traceback": [
      "\u001b[1;31m---------------------------------------------------------------------------\u001b[0m",
      "\u001b[1;31mNameError\u001b[0m                                 Traceback (most recent call last)",
      "Cell \u001b[1;32mIn[14], line 13\u001b[0m\n\u001b[0;32m     11\u001b[0m \u001b[38;5;28mprint\u001b[39m(\u001b[38;5;124m\"\u001b[39m\u001b[38;5;124mGlobal a: \u001b[39m\u001b[38;5;124m\"\u001b[39m,a) \u001b[38;5;66;03m# a = 90\u001b[39;00m\n\u001b[0;32m     12\u001b[0m \u001b[38;5;28mprint\u001b[39m(\u001b[38;5;124m\"\u001b[39m\u001b[38;5;124mLocal a: \u001b[39m\u001b[38;5;124m\"\u001b[39m, a) \u001b[38;5;66;03m# local a, will not call outside function # isntead global will print\u001b[39;00m\n\u001b[1;32m---> 13\u001b[0m \u001b[38;5;28mprint\u001b[39m(\u001b[38;5;124m\"\u001b[39m\u001b[38;5;124mLocal b: \u001b[39m\u001b[38;5;124m\"\u001b[39m, \u001b[43mb\u001b[49m) \u001b[38;5;66;03m# same reason # error\u001b[39;00m\n",
      "\u001b[1;31mNameError\u001b[0m: name 'b' is not defined"
     ]
    }
   ],
   "source": [
    "# example 33: \n",
    "\n",
    "a = 90 # global var\n",
    "\n",
    "def print_data():\n",
    "    a = 6 # local var modified a\n",
    "    b = 30 # local var\n",
    "    print(\"(a,b): (\",a,\",\",b,\")\")\n",
    "\n",
    "print_data()\n",
    "print(\"Global a: \",a) # a = 90\n",
    "print(\"Local a: \", a) # local a, will not call outside function # isntead global will print\n",
    "print(\"Local b: \", b) # same reason # error"
   ]
  },
  {
   "cell_type": "code",
   "execution_count": 15,
   "id": "369e4b40-c0df-42f7-a44e-342423fdcc7a",
   "metadata": {},
   "outputs": [
    {
     "name": "stdout",
     "output_type": "stream",
     "text": [
      "Value is : 999\n"
     ]
    },
    {
     "ename": "NameError",
     "evalue": "name 'loc_var' is not defined",
     "output_type": "error",
     "traceback": [
      "\u001b[1;31m---------------------------------------------------------------------------\u001b[0m",
      "\u001b[1;31mNameError\u001b[0m                                 Traceback (most recent call last)",
      "Cell \u001b[1;32mIn[15], line 11\u001b[0m\n\u001b[0;32m      8\u001b[0m     \u001b[38;5;28mprint\u001b[39m(\u001b[38;5;124m\"\u001b[39m\u001b[38;5;124mValue is :\u001b[39m\u001b[38;5;124m\"\u001b[39m, loc_var)\n\u001b[0;32m     10\u001b[0m fun1()\n\u001b[1;32m---> 11\u001b[0m \u001b[43mfun2\u001b[49m\u001b[43m(\u001b[49m\u001b[43m)\u001b[49m\n",
      "Cell \u001b[1;32mIn[15], line 8\u001b[0m, in \u001b[0;36mfun2\u001b[1;34m()\u001b[0m\n\u001b[0;32m      7\u001b[0m \u001b[38;5;28;01mdef\u001b[39;00m \u001b[38;5;21mfun2\u001b[39m():\n\u001b[1;32m----> 8\u001b[0m     \u001b[38;5;28mprint\u001b[39m(\u001b[38;5;124m\"\u001b[39m\u001b[38;5;124mValue is :\u001b[39m\u001b[38;5;124m\"\u001b[39m, \u001b[43mloc_var\u001b[49m)\n",
      "\u001b[1;31mNameError\u001b[0m: name 'loc_var' is not defined"
     ]
    }
   ],
   "source": [
    "# exercise 34: \n",
    "\n",
    "def fun1():\n",
    "    loc_var = 999 # local variable\n",
    "    print(\"Value is :\", loc_var)\n",
    "\n",
    "def fun2():\n",
    "    print(\"Value is :\", loc_var)\n",
    "\n",
    "fun1()\n",
    "fun2()"
   ]
  },
  {
   "cell_type": "code",
   "execution_count": 16,
   "id": "7832442a-a82a-442c-ab27-f74bbd2d8966",
   "metadata": {},
   "outputs": [
    {
     "name": "stdout",
     "output_type": "stream",
     "text": [
      "globalglobal\n",
      "local_var\n"
     ]
    }
   ],
   "source": [
    "# example 35:\n",
    "x = 'global' # global var\n",
    "\n",
    "def fun():\n",
    "    global x # redefine x\n",
    "    y = 'local_var' # local var\n",
    "    x = x * 2 # modify x\n",
    "    print(x)\n",
    "    print(y)\n",
    "\n",
    "fun()"
   ]
  },
  {
   "cell_type": "code",
   "execution_count": 17,
   "id": "41533fb3-faef-4fd0-a158-894bd714008a",
   "metadata": {},
   "outputs": [
    {
     "name": "stdout",
     "output_type": "stream",
     "text": [
      "Value inside the body of function: 10\n",
      "Value outside of function: 20\n"
     ]
    }
   ],
   "source": [
    "# example 36: \n",
    "\n",
    "def my_func():\n",
    "    x = 10 # local var\n",
    "    print(\"Value inside the body of function:\", x)\n",
    "\n",
    "x = 20 # global var\n",
    "my_func()\n",
    "print(\"Value outside of function:\",x)"
   ]
  },
  {
   "cell_type": "code",
   "execution_count": null,
   "id": "12d44bb8-1941-428c-8f0b-d8c3e5bbb409",
   "metadata": {},
   "outputs": [],
   "source": []
  }
 ],
 "metadata": {
  "kernelspec": {
   "display_name": "Python 3 (ipykernel)",
   "language": "python",
   "name": "python3"
  },
  "language_info": {
   "codemirror_mode": {
    "name": "ipython",
    "version": 3
   },
   "file_extension": ".py",
   "mimetype": "text/x-python",
   "name": "python",
   "nbconvert_exporter": "python",
   "pygments_lexer": "ipython3",
   "version": "3.12.3"
  }
 },
 "nbformat": 4,
 "nbformat_minor": 5
}
