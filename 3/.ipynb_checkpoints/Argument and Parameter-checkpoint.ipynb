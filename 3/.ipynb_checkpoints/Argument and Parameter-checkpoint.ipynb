{
 "cells": [
  {
   "cell_type": "markdown",
   "id": "9143fa41-15d5-4eed-8bc4-357e2566ad1d",
   "metadata": {},
   "source": [
    "### Function Argument and Parameter\n",
    " the argument is a value, variable,or an object, that we p[ass to a fucntion or method call.\n",
    " there can be two types of data that can be pased in the fucntion.\n",
    "\n",
    " 1. the first type of data is called arguments\n",
    " 2. second type of data is parameters (received in the function definiotion)\n",
    "    - arguments can be literals, variables, and expressions\n",
    "    - parameters must be variable to hold incoming values.\n",
    "    - arguments are called actual arguments and parameters are called formal arguments\n",
    "\n",
    "### Python Function Arguments \n",
    "in pythoin, there are 2 types of arguments allowed \n",
    "- positional arguments (basic)\n",
    "- variable function arguments </b>\n",
    "\n",
    "### Positional Arguments (Basic)"
   ]
  },
  {
   "cell_type": "code",
   "execution_count": 2,
   "id": "094c2b14-74be-4d64-a6db-3c9b02903333",
   "metadata": {},
   "outputs": [
    {
     "name": "stdout",
     "output_type": "stream",
     "text": [
      "Hello Nitish, Good Morning!\n"
     ]
    }
   ],
   "source": [
    "# example 1:\n",
    "\n",
    "def greet(name, msg): # function greet() has two parameters\n",
    "    print(\"Hello\", name + ', ' + msg)\n",
    "\n",
    "greet(\"Nitish\", \"Good Morning!\")\n",
    "\n",
    "# since we have called this function with two arguments, it will not give errors.\n",
    "# if we call with 1 or 0 arguments (less than parameters) it gives error."
   ]
  },
  {
   "cell_type": "code",
   "execution_count": 3,
   "id": "e65c7004-6ce7-43ef-a48b-0ca6f237f475",
   "metadata": {},
   "outputs": [
    {
     "ename": "TypeError",
     "evalue": "greet() missing 1 required positional argument: 'msg'",
     "output_type": "error",
     "traceback": [
      "\u001b[1;31m---------------------------------------------------------------------------\u001b[0m",
      "\u001b[1;31mTypeError\u001b[0m                                 Traceback (most recent call last)",
      "Cell \u001b[1;32mIn[3], line 1\u001b[0m\n\u001b[1;32m----> 1\u001b[0m \u001b[43mgreet\u001b[49m\u001b[43m(\u001b[49m\u001b[38;5;124;43m\"\u001b[39;49m\u001b[38;5;124;43mnitish\u001b[39;49m\u001b[38;5;124;43m\"\u001b[39;49m\u001b[43m)\u001b[49m \u001b[38;5;66;03m# one argument\u001b[39;00m\n",
      "\u001b[1;31mTypeError\u001b[0m: greet() missing 1 required positional argument: 'msg'"
     ]
    }
   ],
   "source": [
    "greet(\"nitish\") # one argument"
   ]
  },
  {
   "cell_type": "code",
   "execution_count": 5,
   "id": "bbe40698-b71a-4263-8fd0-7fc6b18cca92",
   "metadata": {},
   "outputs": [
    {
     "ename": "TypeError",
     "evalue": "greet() missing 2 required positional arguments: 'name' and 'msg'",
     "output_type": "error",
     "traceback": [
      "\u001b[1;31m---------------------------------------------------------------------------\u001b[0m",
      "\u001b[1;31mTypeError\u001b[0m                                 Traceback (most recent call last)",
      "Cell \u001b[1;32mIn[5], line 1\u001b[0m\n\u001b[1;32m----> 1\u001b[0m \u001b[43mgreet\u001b[49m\u001b[43m(\u001b[49m\u001b[43m)\u001b[49m \u001b[38;5;66;03m# no arguments\u001b[39;00m\n",
      "\u001b[1;31mTypeError\u001b[0m: greet() missing 2 required positional arguments: 'name' and 'msg'"
     ]
    }
   ],
   "source": [
    "greet() # no arguments"
   ]
  },
  {
   "cell_type": "code",
   "execution_count": 10,
   "id": "dd20c468-712f-4031-892b-a310b47558ac",
   "metadata": {},
   "outputs": [
    {
     "name": "stdout",
     "output_type": "stream",
     "text": [
      "60\n",
      "30\n",
      "4\n",
      "-20\n"
     ]
    }
   ],
   "source": [
    "# example 2:\n",
    "\n",
    "def add(a,b):\n",
    "    print(a-b)\n",
    "\n",
    "add(90,30)\n",
    "add(60,30)\n",
    "add(49,45)\n",
    "add(40,60)"
   ]
  },
  {
   "cell_type": "code",
   "execution_count": 9,
   "id": "d57ca35b-f1b4-47c3-bbf8-3048485f485f",
   "metadata": {},
   "outputs": [
    {
     "ename": "TypeError",
     "evalue": "add() takes 2 positional arguments but 3 were given",
     "output_type": "error",
     "traceback": [
      "\u001b[1;31m---------------------------------------------------------------------------\u001b[0m",
      "\u001b[1;31mTypeError\u001b[0m                                 Traceback (most recent call last)",
      "Cell \u001b[1;32mIn[9], line 6\u001b[0m\n\u001b[0;32m      3\u001b[0m \u001b[38;5;28;01mdef\u001b[39;00m \u001b[38;5;21madd\u001b[39m(a,b):\n\u001b[0;32m      4\u001b[0m     \u001b[38;5;28mprint\u001b[39m(a\u001b[38;5;241m+\u001b[39mb)\n\u001b[1;32m----> 6\u001b[0m \u001b[43madd\u001b[49m\u001b[43m(\u001b[49m\u001b[38;5;241;43m34\u001b[39;49m\u001b[43m,\u001b[49m\u001b[38;5;241;43m53\u001b[39;49m\u001b[43m,\u001b[49m\u001b[38;5;241;43m54\u001b[39;49m\u001b[43m)\u001b[49m\n",
      "\u001b[1;31mTypeError\u001b[0m: add() takes 2 positional arguments but 3 were given"
     ]
    }
   ],
   "source": [
    "# example 3: calling more arguments than parameters\n",
    "\n",
    "def add(a,b):\n",
    "    print(a+b)\n",
    "\n",
    "add(34,53,54)"
   ]
  },
  {
   "cell_type": "markdown",
   "id": "1617a8ed-ae06-49e6-883f-f4102aad9632",
   "metadata": {},
   "source": [
    "### Variable Function Arguments\n",
    "\n",
    "Three different forms of this type are :\n",
    "- Default Arguments\n",
    "- Keyword Arguments\n",
    "- Arbitrary/ variable-length arguments </b>\n",
    "\n",
    "### 1. Default Arguments"
   ]
  },
  {
   "cell_type": "code",
   "execution_count": 15,
   "id": "71a22cec-0a58-4493-85bc-0cd3b7a59329",
   "metadata": {},
   "outputs": [
    {
     "name": "stdout",
     "output_type": "stream",
     "text": [
      "Hello Nitish, Good Morning!\n",
      "Hello Nitish, Good Evening\n",
      "Hello Nitish, How are you?\n"
     ]
    }
   ],
   "source": [
    "# example 4:\n",
    "\n",
    "def greet(name, msg=\"Good Morning!\"): # 2 parameters but msg is default \n",
    "    print(\"Hello\", name +\", \"+msg)\n",
    "\n",
    "greet(\"Nitish\")\n",
    "greet(\"Nitish\", \"Good Evening\")\n",
    "greet(\"Nitish\", \"How are you?\") # arguments must be in order as parameters"
   ]
  },
  {
   "cell_type": "code",
   "execution_count": 24,
   "id": "f84d8eca-7156-4367-bff6-278232d1c91a",
   "metadata": {},
   "outputs": [
    {
     "name": "stdout",
     "output_type": "stream",
     "text": [
      "Details of: Nitish\n",
      "Employee Id: 7\n",
      "Age: 26\n",
      "Company: Baidu.com\n",
      "---------------------\n",
      "Details of: Shubham\n",
      "Employee Id: 23\n",
      "Age: 25\n",
      "Company: Samsung\n"
     ]
    }
   ],
   "source": [
    "# example 5: It prints default age if it is not passed\n",
    "\n",
    "def emp_data(name, emp_id, age, company=\"Baidu.com\"): # total 4 parameters (3 is fixed and 1 is default)\n",
    "    print(\"Details of:\",name)\n",
    "    print(\"Employee Id:\",emp_id)\n",
    "    print(\"Age:\",age)\n",
    "    print(\"Company:\",company)\n",
    "\n",
    "# calling emp data function\n",
    "emp_data(\"Nitish\",7, 26)\n",
    "print(\"---------------------\")\n",
    "emp_data(\"Shubham\",23,25,\"Samsung\")"
   ]
  },
  {
   "cell_type": "markdown",
   "id": "8c63c1d6-78d1-4967-9eb6-31a456ce20f3",
   "metadata": {},
   "source": [
    "### 2. Keyword Arguments"
   ]
  },
  {
   "cell_type": "code",
   "execution_count": 28,
   "id": "5918c18b-f41c-4cd9-a117-fcaebf1cfcad",
   "metadata": {},
   "outputs": [
    {
     "name": "stdout",
     "output_type": "stream",
     "text": [
      "Hello Eric, How do you do?\n"
     ]
    }
   ],
   "source": [
    "# example 6:\n",
    "def greet(name, msg): # function greet() has two parameters\n",
    "    print(\"Hello\", name + ', ' + msg)\n",
    "greet(\"Eric\", \"How do you do?\")"
   ]
  },
  {
   "cell_type": "code",
   "execution_count": 29,
   "id": "bcf81dab-1f9d-408b-9871-143a71556e67",
   "metadata": {},
   "outputs": [
    {
     "name": "stdout",
     "output_type": "stream",
     "text": [
      "Hello Eric, How do you do?\n"
     ]
    }
   ],
   "source": [
    "# 2 keyword arguments\n",
    "greet(name=\"Eric\",msg=\"How do you do?\") # keywords is used"
   ]
  },
  {
   "cell_type": "code",
   "execution_count": 31,
   "id": "183071c2-6ded-4af4-8385-a1f90b7ffc9f",
   "metadata": {},
   "outputs": [
    {
     "name": "stdout",
     "output_type": "stream",
     "text": [
      "Hello Nitish, How are you?\n"
     ]
    }
   ],
   "source": [
    "# 2 keywords out of order\n",
    "greet(msg=\"How are you?\", name=\"Nitish\") # order doesnot affect the call"
   ]
  },
  {
   "cell_type": "code",
   "execution_count": 32,
   "id": "051bf31f-f7f5-4ed1-9226-6d2709b99dc6",
   "metadata": {},
   "outputs": [
    {
     "name": "stdout",
     "output_type": "stream",
     "text": [
      "Hello Nitish, how are you?\n"
     ]
    }
   ],
   "source": [
    "# 1 positional and 1 keyword argument\n",
    "greet(\"Nitish\",msg=\"how are you?\")"
   ]
  },
  {
   "cell_type": "markdown",
   "id": "d825eac9-a402-4187-a85b-dd99303d5966",
   "metadata": {},
   "source": [
    "### these cases are possible but keep in mind one case that is \n",
    "- keyword arguments must follow positional arguments Otherwise it will result in error"
   ]
  },
  {
   "cell_type": "code",
   "execution_count": 33,
   "id": "49cc7204-c0f9-4fa4-8b3b-62e27081ca64",
   "metadata": {},
   "outputs": [
    {
     "ename": "SyntaxError",
     "evalue": "positional argument follows keyword argument (1415390097.py, line 1)",
     "output_type": "error",
     "traceback": [
      "\u001b[1;36m  Cell \u001b[1;32mIn[33], line 1\u001b[1;36m\u001b[0m\n\u001b[1;33m    greet(name=\"Nitish\",\"how are you?\")\u001b[0m\n\u001b[1;37m                                      ^\u001b[0m\n\u001b[1;31mSyntaxError\u001b[0m\u001b[1;31m:\u001b[0m positional argument follows keyword argument\n"
     ]
    }
   ],
   "source": [
    "greet(name=\"Nitish\",\"how are you?\")"
   ]
  },
  {
   "cell_type": "code",
   "execution_count": 40,
   "id": "e10826e7-3156-40e6-b845-3afe9c2e8524",
   "metadata": {},
   "outputs": [
    {
     "name": "stdout",
     "output_type": "stream",
     "text": [
      "Nitish Namdeo\n",
      "Your Full_Name:  Nitish Namdeo\n"
     ]
    }
   ],
   "source": [
    "# example 7: \n",
    "\n",
    "def full_name(firstname, lastname):\n",
    "    space = \" \"\n",
    "    name = firstname + space + lastname\n",
    "    return name\n",
    "print(full_name(\"Nitish\",\"Namdeo\"))\n",
    "print(\"Your Full_Name: \", full_name(lastname=\"Namdeo\",firstname=\"Nitish\"))"
   ]
  },
  {
   "cell_type": "markdown",
   "id": "d2301c46-f2f9-4a48-b71c-b8aeec872bf6",
   "metadata": {},
   "source": [
    "### Python Arbitrary/ Variable-length Arguments\n",
    "Sometimes, we do not know in advance the number of arguments that will be passed into a function. Python allow us to handle this kind of situation through function calls with an arbitrary number of arguments\n",
    "We can pass any number of arguments to this function. Internally all these values are represented in the form of a tuple.\n",
    "In the function definition, we use an asterisk * before the parameter name to denote this kind of argument. For example:"
   ]
  },
  {
   "cell_type": "code",
   "execution_count": 41,
   "id": "b1e3f867-7b61-47ee-bdcf-6d20f0dbcb76",
   "metadata": {},
   "outputs": [
    {
     "name": "stdout",
     "output_type": "stream",
     "text": [
      "hello nitish\n",
      "hello shubham\n",
      "hello shaurya\n",
      "hello ajeet\n",
      "hello swastik\n"
     ]
    }
   ],
   "source": [
    "# example 8:\n",
    "\n",
    "def greet(*names):\n",
    "    ''' THis function greets all the person in the name tuple'''\n",
    "    # so the function names will be the tuple ( arguments)\n",
    "    for name in names:\n",
    "        print(\"hello\", name)\n",
    "\n",
    "greet(\"nitish\",\"shubham\",\"shaurya\",\"ajeet\",\"swastik\")"
   ]
  },
  {
   "cell_type": "code",
   "execution_count": 44,
   "id": "0fae8bf0-ed95-48fd-b545-3d0253667109",
   "metadata": {},
   "outputs": [
    {
     "name": "stdout",
     "output_type": "stream",
     "text": [
      "Sum is:  0\n",
      "Sum is:  33\n",
      "Sum is:  704.0\n"
     ]
    }
   ],
   "source": [
    "# example 9:\n",
    "\n",
    "def addition(*numbers):\n",
    "    total = 0\n",
    "    for no in numbers:\n",
    "        total = total + no\n",
    "    print(\"Sum is: \", total)\n",
    "\n",
    "addition() # 0 arguments\n",
    "addition(10,3,5,7,8) # 5 arguments\n",
    "addition(12,453,4.45,234.55)"
   ]
  },
  {
   "cell_type": "code",
   "execution_count": 45,
   "id": "e1dc9bd8-15ae-4e55-b4dd-5be1c77f031f",
   "metadata": {},
   "outputs": [
    {
     "name": "stdout",
     "output_type": "stream",
     "text": [
      "20\n"
     ]
    }
   ],
   "source": [
    "# example 10:\n",
    "\n",
    "def sum_all_nums(*nums):\n",
    "    total = 0\n",
    "    for num in nums:\n",
    "        total += num\n",
    "    return total\n",
    "\n",
    "print(sum_all_nums(3,4,6,7))"
   ]
  },
  {
   "cell_type": "markdown",
   "id": "77abd839-55de-4afa-9324-d973b3803084",
   "metadata": {},
   "source": [
    "#### Default and Arbitrary number of parameters in functions"
   ]
  },
  {
   "cell_type": "code",
   "execution_count": 46,
   "id": "4c7c36df-3223-4e6e-9b54-01b29ff3beb8",
   "metadata": {},
   "outputs": [
    {
     "name": "stdout",
     "output_type": "stream",
     "text": [
      "Output is: \n",
      "10\n",
      "Output is: \n",
      "19\n",
      "23\n",
      "54\n",
      "Output is: \n",
      "43\n",
      "65\n",
      "76\n",
      "54\n"
     ]
    }
   ],
   "source": [
    "# example 11:\n",
    "\n",
    "def info(arg1, *vartuple):\n",
    "    print(\"Output is: \")\n",
    "    print(arg1)\n",
    "    for var in vartuple:\n",
    "        print(var)\n",
    "    return\n",
    "\n",
    "info(10)\n",
    "info(19,23,54)\n",
    "info(43,65,76,54)"
   ]
  },
  {
   "cell_type": "markdown",
   "id": "dc45d2dc-958f-4b36-9859-b15f9d56e7cf",
   "metadata": {},
   "source": [
    "#### Function as a parameter of another function"
   ]
  },
  {
   "cell_type": "code",
   "execution_count": 47,
   "id": "f97ea4f4-631b-4948-a59b-f5528e8cbea3",
   "metadata": {},
   "outputs": [
    {
     "name": "stdout",
     "output_type": "stream",
     "text": [
      "9\n"
     ]
    }
   ],
   "source": [
    "# example 12:\n",
    "# you can pass function around as parameter\n",
    "\n",
    "def square_number(n):\n",
    "    return n * n\n",
    "def do_something(f, x):\n",
    "    return f(x)\n",
    "print(do_something(square_number, 3))"
   ]
  },
  {
   "cell_type": "code",
   "execution_count": null,
   "id": "37470bdf-8afe-40a0-a39d-7ee1d48d4211",
   "metadata": {},
   "outputs": [],
   "source": []
  }
 ],
 "metadata": {
  "kernelspec": {
   "display_name": "Python 3 (ipykernel)",
   "language": "python",
   "name": "python3"
  },
  "language_info": {
   "codemirror_mode": {
    "name": "ipython",
    "version": 3
   },
   "file_extension": ".py",
   "mimetype": "text/x-python",
   "name": "python",
   "nbconvert_exporter": "python",
   "pygments_lexer": "ipython3",
   "version": "3.12.3"
  }
 },
 "nbformat": 4,
 "nbformat_minor": 5
}
