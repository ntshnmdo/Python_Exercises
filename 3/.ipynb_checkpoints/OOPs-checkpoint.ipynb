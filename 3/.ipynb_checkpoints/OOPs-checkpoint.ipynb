{
 "cells": [
  {
   "cell_type": "markdown",
   "id": "39deb6a1-7c5d-4bf4-b27a-20cd74122f4a",
   "metadata": {},
   "source": [
    "Class Syntax:\n",
    "\n",
    "class classname:\n",
    "\n",
    "     class suite\n",
    "\n",
    "Class suite: it contains statements, variblae, metyhod, funciotn, attributes"
   ]
  },
  {
   "cell_type": "code",
   "execution_count": 1,
   "id": "88831098-6421-438c-8ba0-57d83650de53",
   "metadata": {},
   "outputs": [],
   "source": [
    "class parrot:\n",
    "    pass"
   ]
  },
  {
   "cell_type": "code",
   "execution_count": 4,
   "id": "c284a193-d4ec-4229-8822-95c92402008d",
   "metadata": {},
   "outputs": [
    {
     "name": "stdout",
     "output_type": "stream",
     "text": [
      "<class '__main__.person'>\n"
     ]
    }
   ],
   "source": [
    "# creating a class:\n",
    "class person:\n",
    "    pass\n",
    "print(person)"
   ]
  },
  {
   "cell_type": "markdown",
   "id": "f8ded421-6e35-4dd8-bb76-b1afd489a8a0",
   "metadata": {},
   "source": [
    "### Object\n",
    "\n",
    "the physical existence of the class. \n",
    "\n",
    "syntax:\n",
    "reference_variable = classname()"
   ]
  },
  {
   "cell_type": "code",
   "execution_count": 3,
   "id": "055d7437-5be1-487b-91b9-b49809c7a204",
   "metadata": {},
   "outputs": [
    {
     "name": "stdout",
     "output_type": "stream",
     "text": [
      "<__main__.person object at 0x000001999E730A10>\n"
     ]
    }
   ],
   "source": [
    "# example 1: we can create an object by calling the class \n",
    "\n",
    "p = person()\n",
    "print(p)"
   ]
  },
  {
   "cell_type": "code",
   "execution_count": 6,
   "id": "ff762a65-f994-41c8-992e-d72f8d676ff9",
   "metadata": {},
   "outputs": [
    {
     "name": "stdout",
     "output_type": "stream",
     "text": [
      "Welcome to MAS class on OOPs\n"
     ]
    }
   ],
   "source": [
    "# example 2: creating class and onjects in python\n",
    "\n",
    "class student:\n",
    "    def learn(self):\n",
    "        print(\"Welcome to MAS class on OOPs\")\n",
    "\n",
    "stud = student()\n",
    "stud.learn()"
   ]
  },
  {
   "cell_type": "markdown",
   "id": "11182dcb-3da6-4d82-a5f0-8aac724a98c1",
   "metadata": {},
   "source": [
    "### Class constructor\n",
    "Python has built in __init__() constructor function. it has self parameter which is reference to the current instance of the class"
   ]
  },
  {
   "cell_type": "code",
   "execution_count": 7,
   "id": "3e2411ab-84ca-4045-9950-660a779285f3",
   "metadata": {},
   "outputs": [
    {
     "name": "stdout",
     "output_type": "stream",
     "text": [
      "MAS\n",
      "<__main__.person object at 0x000001999E6FAF60>\n"
     ]
    }
   ],
   "source": [
    "class person:\n",
    "    def __init__(self, name):\n",
    "        # self allows to attach parameter to the class\n",
    "        self.name = name\n",
    "\n",
    "p = person('MAS')\n",
    "print(p.name)\n",
    "print(p)"
   ]
  },
  {
   "cell_type": "code",
   "execution_count": 1,
   "id": "4d98e274-e283-4a85-ad84-80fe00f5989b",
   "metadata": {},
   "outputs": [
    {
     "name": "stdout",
     "output_type": "stream",
     "text": [
      "Name is: Arthur and percentage is: 90\n"
     ]
    }
   ],
   "source": [
    "# example \n",
    "\n",
    "class student:\n",
    "    def __init__(self, name, percentage):\n",
    "        self.name = name\n",
    "        self.percentage = percentage\n",
    "\n",
    "    def show(self):\n",
    "        print(\"Name is:\", self.name, \"and percentage is:\", self.percentage)\n",
    "\n",
    "stud = student(\"Arthur\", 90)\n",
    "stud.show()"
   ]
  },
  {
   "cell_type": "code",
   "execution_count": 4,
   "id": "f7a38a80-1d3e-4a77-abeb-72c1bf4fe855",
   "metadata": {},
   "outputs": [
    {
     "ename": "SyntaxError",
     "evalue": "invalid syntax (2348969551.py, line 17)",
     "output_type": "error",
     "traceback": [
      "\u001b[1;36m  Cell \u001b[1;32mIn[4], line 17\u001b[1;36m\u001b[0m\n\u001b[1;33m    p = person('mohit', 'purohit', 96, 'england', ;'london')\u001b[0m\n\u001b[1;37m                                                  ^\u001b[0m\n\u001b[1;31mSyntaxError\u001b[0m\u001b[1;31m:\u001b[0m invalid syntax\n"
     ]
    }
   ],
   "source": [
    "# example \n",
    "\n",
    "class person:\n",
    "    species = \"Human\"\n",
    "    def __init__(self, firstname, lastname, age, country, city):\n",
    "        self.firstname = firstname\n",
    "        self.lastname = lastname\n",
    "        self.age = age\n",
    "        self.country = country\n",
    "        self.city = city\n",
    "    def person_info(self):\n",
    "        return (f'{self.firstname} {self.lastname} is {self.age} years old. '+\n",
    "                f'He lives in {self.city}, {self.country}')\n",
    "    def walking(self):\n",
    "        return f'{self.firstname} is walking'\n",
    "\n",
    "p = person('mohit', 'purohit', 96, 'england', ;'london')\n",
    "q = person('sahil', 'naik', 21, 'India', 'Banglore')\n",
    "print(p.person_info())\n",
    "print(q.walking())\n",
    "print(f\"p's class variable: {p.__class__.species} and q'class variable {q.__class__.species} \")"
   ]
  },
  {
   "cell_type": "code",
   "execution_count": null,
   "id": "46475c0c-8674-4e12-aa13-07d1a625dd21",
   "metadata": {},
   "outputs": [],
   "source": []
  }
 ],
 "metadata": {
  "kernelspec": {
   "display_name": "Python 3 (ipykernel)",
   "language": "python",
   "name": "python3"
  },
  "language_info": {
   "codemirror_mode": {
    "name": "ipython",
    "version": 3
   },
   "file_extension": ".py",
   "mimetype": "text/x-python",
   "name": "python",
   "nbconvert_exporter": "python",
   "pygments_lexer": "ipython3",
   "version": "3.12.3"
  }
 },
 "nbformat": 4,
 "nbformat_minor": 5
}
