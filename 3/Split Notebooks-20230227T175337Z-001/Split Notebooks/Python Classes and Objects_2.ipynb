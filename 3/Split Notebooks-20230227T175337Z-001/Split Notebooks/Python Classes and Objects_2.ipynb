{
 "cells": [
  {
   "cell_type": "markdown",
   "id": "8ce8986c",
   "metadata": {},
   "source": [
    "## Types of Constructors\n",
    "\n",
    "We have two types of constructors in Python:\n",
    "\n",
    "* **Non-parameterized**: The constructors in Python which have no parameter is known as a non parameterized constructor. The non-parameterized constructor uses when we do not want to manipulate the value or the constructor that has only self as an argument.\n",
    "* **Parameterized Constructor**: The constructor with parameters is known as a parameterized constructor. The parameterized constructor has multiple parameters along with the self."
   ]
  },
  {
   "cell_type": "code",
   "execution_count": 7,
   "id": "f78faeab",
   "metadata": {},
   "outputs": [
    {
     "name": "stdout",
     "output_type": "stream",
     "text": [
      "This is non parametrized constructor\n",
      "Hello Arthur\n"
     ]
    }
   ],
   "source": [
    "# Example 1: Constructor without parameters (Non-parameterized)\n",
    "\n",
    "class Test:\n",
    "    # Constructor - non parameterized\n",
    "    def __init__(self):\n",
    "        print(\"This is non parametrized constructor\")\n",
    "\n",
    "    def show(self, name):\n",
    "        print(\"Hello\", name)\n",
    "\n",
    "# creating object of the class\n",
    "t = Test()         # Output:This is non parametrized constructor\n",
    "\n",
    "# calling the instance method\n",
    "t.show(\"Arthur\")   # Output Hello Arthur"
   ]
  },
  {
   "cell_type": "code",
   "execution_count": 8,
   "id": "8f7307fb",
   "metadata": {},
   "outputs": [
    {
     "name": "stdout",
     "output_type": "stream",
     "text": [
      "This is parametrized constructor\n",
      "Fruit is Apple and Color is red\n"
     ]
    }
   ],
   "source": [
    "# Example 2: Constructor with parameters\n",
    "\n",
    "class Fruit:\n",
    "    # parameterized constructor\n",
    "    def __init__(self, name, color):\n",
    "        print(\"This is parametrized constructor\")\n",
    "        self.name = name\n",
    "        self.color = color\n",
    "\n",
    "    def show(self):\n",
    "        print(\"Fruit is\", self.name, \"and Color is\", self.color)\n",
    "\n",
    "# creating object of the class\n",
    "# this will invoke parameterized constructor\n",
    "obj = Fruit(\"Apple\", \"red\")   # Output This is parametrized constructor\n",
    "\n",
    "# calling the instance method using the object\n",
    "obj.show()                    # Output Fruit is Apple and Color "
   ]
  },
  {
   "cell_type": "markdown",
   "id": "4bf08a00",
   "metadata": {},
   "source": [
    "**Explanation:**\n",
    "\n",
    "In the above example, we create a **parameterized constructor** with parameters **`name`** and **`color`**. When we create an object of Test class called **`obj`**, the parameterized constructor will be executed automatically."
   ]
  },
  {
   "cell_type": "code",
   "execution_count": 9,
   "id": "d1551d2c",
   "metadata": {},
   "outputs": [
    {
     "name": "stdout",
     "output_type": "stream",
     "text": [
      "This is parametrized constructor\n",
      "Hello World\n"
     ]
    }
   ],
   "source": [
    "# Example 3:\n",
    "\n",
    "class Student:\n",
    "    # Constructor - parameterized\n",
    "    def __init__(self, name):\n",
    "        print(\"This is parametrized constructor\")\n",
    "        self.name = name\n",
    "\n",
    "    def show(self):\n",
    "        print(\"Hello\",self.name)\n",
    "\n",
    "student = Student(\"World\")\n",
    "student.show()"
   ]
  },
  {
   "cell_type": "code",
   "execution_count": 10,
   "id": "4e5dca37",
   "metadata": {},
   "outputs": [
    {
     "name": "stdout",
     "output_type": "stream",
     "text": [
      "Jane is a students\n",
      "Bella is also a students\n"
     ]
    }
   ],
   "source": [
    "# Example 4: Creating Class and Object in Python\n",
    "\n",
    "class MasterStudentClass:\n",
    "    # class attribute\n",
    "    species = \"students\"\n",
    "\n",
    "    # instance attribute\n",
    "    def __init__(self, name, age):\n",
    "        self.name = name\n",
    "        self.age = age\n",
    "\n",
    "# instantiate the Parrot class\n",
    "jane = MasterStudentClass(\"Jane\", 18)\n",
    "bella = MasterStudentClass(\"Bella\", 19)\n",
    "candy = MasterStudentClass(\"Candy\", 17)\n",
    "lucia = MasterStudentClass(\"Lucia\", 18)\n",
    "ran = MasterStudentClass(\"Ran\", 20)\n",
    "\n",
    "# access the class attributes\n",
    "print(\"Jane is a {}\".format(jane.__class__.species))         # Jane is a students\n",
    "print(\"Bella is also a {}\".format(bella.__class__.species))  # Be"
   ]
  },
  {
   "cell_type": "code",
   "execution_count": 11,
   "id": "a3fd96cf",
   "metadata": {},
   "outputs": [
    {
     "name": "stdout",
     "output_type": "stream",
     "text": [
      "Name :  Mark , Id :  101\n"
     ]
    }
   ],
   "source": [
    "# Example 5:\n",
    "\n",
    "class Student:\n",
    "    \n",
    "    # class attribute\n",
    "    'Common base class for all students'\n",
    "    student_count=0\n",
    "\n",
    "    def __init__(self, name, id):  # check the number of underscore '_' used\n",
    "        self.name = name\n",
    "        self.id = id\n",
    "        Student.student_count+=1\n",
    "\n",
    "    def printStudentData(self):\n",
    "        print (\"Name : \", self.name, \", Id : \", self.id)\n",
    "\n",
    "s=Student(\"Mark\",101)\n",
    "s.printStudentData()  # Name :  Mark , Id :  101"
   ]
  },
  {
   "cell_type": "markdown",
   "id": "e81feaef",
   "metadata": {},
   "source": [
    "**Explanation:**\n",
    "\n",
    "* The variable **`student_count`** is a class variable whose value is shared among all the instances of a in this class. This can be accessed as **`Student.student_count`** from inside the class or outside the class.\n",
    "\n",
    "* The first method **`__init__()`** is a special method, which is called class **constructor** or **initialization** method that Python calls when you create a new instance of this class.\n",
    "\n",
    "* You declare other class methods like normal functions with the exception that the first argument to each method is self. Python adds the self argument to the list for you; you do not need to include it when you call the methods."
   ]
  },
  {
   "cell_type": "markdown",
   "id": "2414dbdf",
   "metadata": {},
   "source": [
    "## Creating Instance Objects"
   ]
  },
  {
   "cell_type": "markdown",
   "id": "6f1f688c",
   "metadata": {},
   "source": [
    "To create instances of a class, you call the class using class name and pass in whatever arguments its **`__init__`** method accepts. Lets Create Studnet class object of above example :\n",
    "\n",
    "    std=Student('Vijay','102')"
   ]
  },
  {
   "cell_type": "markdown",
   "id": "abdb4a2d",
   "metadata": {},
   "source": [
    "## Accessing Attributes with self Parameter"
   ]
  },
  {
   "cell_type": "markdown",
   "id": "fcaef856",
   "metadata": {},
   "source": [
    "The **`self`** is used to represent the instance of the class. It is the default variable that is always pointing to the current object.\n",
    "\n",
    "By using **`self`**, we can access the instance variable and instance method of the object. While defining constructor and instance method, the **`self`** is their first parameter.\n",
    "\n",
    "It’s not required the first parameter named to be **`self`**, we can give any name whatever we like, but it has to be the first parameter of any function in the class.\n",
    "\n",
    "You access the object's attributes using the dot operator with object. Class variable would be accessed using class name as follows:"
   ]
  },
  {
   "cell_type": "code",
   "execution_count": 12,
   "id": "90e9f994",
   "metadata": {},
   "outputs": [
    {
     "name": "stdout",
     "output_type": "stream",
     "text": [
      "Employee ID is  19116 and name is Amy\n",
      "Employee of IT department\n"
     ]
    }
   ],
   "source": [
    "# Example 1:\n",
    "\n",
    "class Employee:\n",
    "    def __init__(self, id, name):\n",
    "        # instance variable\n",
    "        self.id = id\n",
    "        self.name = name\n",
    "    \n",
    "    # instance method\n",
    "    def info(self):\n",
    "        print(\"Employee ID is \", self.id, \"and name is\", self.name)\n",
    "\n",
    "    # instance method \n",
    "    def department(self):\n",
    "        print(\"Employee of IT department\")\n",
    "\n",
    "emp = Employee(19116, \"Amy\", )\n",
    "emp.info()         # Output Employee ID is 19116 and name is Amy\n",
    "\n",
    "emp.department()   # Output Employee of IT department"
   ]
  },
  {
   "cell_type": "markdown",
   "id": "6497c1d4",
   "metadata": {},
   "source": [
    "**Explanation:**\n",
    "\n",
    "In the above example, all methods including **`__init__`** have a self parameter. We created two instance variables **`id`** and **`name`**. Then we create an object of a class **`Employee`** called **`emp`** and accessed instance methods of the class called **`info()`** and **`department()`** respectively."
   ]
  },
  {
   "cell_type": "code",
   "execution_count": 13,
   "id": "018640d2",
   "metadata": {},
   "outputs": [
    {
     "name": "stdout",
     "output_type": "stream",
     "text": [
      "Total Student :  3\n",
      "Name :  Milan , Id :  101\n",
      "Name :  Vijay , Id :  102\n",
      "Name :  Chirag , Id :  103\n"
     ]
    }
   ],
   "source": [
    "# Example 2:\n",
    "\n",
    "class Student:\n",
    "    'Common base class for all students'\n",
    "    student_count=0\n",
    "\n",
    "    def __init__(self, name, id):\n",
    "        self.name = name\n",
    "        self.id = id\n",
    "        Student.student_count+=1\n",
    "\n",
    "    def printStudentData(self):\n",
    "        print (\"Name : \", self.name, \", Id : \", self.id)\n",
    "\n",
    "std1=Student(\"Milan\",101)\n",
    "std2=Student(\"Vijay\",102)\n",
    "std3=Student(\"Chirag\",103)\n",
    "\n",
    "print(\"Total Student : \",Student.student_count)\n",
    "std1.printStudentData()\n",
    "std2.printStudentData()\n",
    "std3.printStudentData()"
   ]
  },
  {
   "cell_type": "markdown",
   "id": "9e30fa18",
   "metadata": {},
   "source": [
    "Instead of using the normal statements to access attributes, you can use the following functions:\n",
    "\n",
    "* **`getattr(obj, name[, default])`** − to access the attribute of object.\n",
    "\n",
    "* **`hasattr(obj,name)`** − to check if an attribute exists or not.\n",
    "\n",
    "* **`setattr(obj,name,value)`** − to set an attribute. If attribute does not exist, then it would be created.\n",
    "\n",
    "* **`delattr(obj, name)`** − to delete an attribute.\n",
    "\n",
    "**Example:**"
   ]
  },
  {
   "cell_type": "raw",
   "id": "bd8d7bb9",
   "metadata": {},
   "source": [
    "hasattr(std1, 'id') # Returns true if 'id' attribute exists\n",
    "getattr(std1, 'id') # Returns value of 'id' attribute\n",
    "setattr(std1, 'id', 104) # Set attribute 'id' 104\n",
    "delattr(std1, 'id') # Delete attribute 'id'"
   ]
  }
 ],
 "metadata": {
  "kernelspec": {
   "display_name": "Python 3",
   "language": "python",
   "name": "python3"
  },
  "language_info": {
   "codemirror_mode": {
    "name": "ipython",
    "version": 3
   },
   "file_extension": ".py",
   "mimetype": "text/x-python",
   "name": "python",
   "nbconvert_exporter": "python",
   "pygments_lexer": "ipython3",
   "version": "3.8.3"
  }
 },
 "nbformat": 4,
 "nbformat_minor": 5
}
