{
 "cells": [
  {
   "cell_type": "markdown",
   "id": "66fb96b2",
   "metadata": {},
   "source": [
    "# Python Inheritance\n",
    "\n",
    "The **process of inheriting the properties of the base (or parent) class into a derived (or child) class is called inheritance**. Inheritance enables us to define a class that takes all the functionality from a base class and allows us to add more. In this tutorial, you will learn to use inheritance in Python."
   ]
  },
  {
   "cell_type": "markdown",
   "id": "8925a209",
   "metadata": {},
   "source": [
    "## Inheritance in Python\n",
    "\n",
    "Inheritance is a powerful feature in object oriented programming. The main purpose of inheritance is the reusability of code because we can use the existing class to create a new class instead of creating it from scratch.\n",
    "\n",
    "It refers to defining a new class with little or no modification to an existing class. The new class is called **derived (or child)** class and the one from which it inherits is called the **base (or parent)** class.\n",
    "\n",
    "In inheritance, the derived class acquires and access all the data members, properties, and functions from the base class. Also, a derived class can also provide its specific implementation to the methods of the base class."
   ]
  },
  {
   "attachments": {
    "i.png": {
     "image/png": "[encoded data removed]"
    }
   },
   "cell_type": "markdown",
   "id": "984a7a55",
   "metadata": {},
   "source": [
    "![i.png](attachment:i.png)"
   ]
  },
  {
   "cell_type": "markdown",
   "id": "1f175e28",
   "metadata": {},
   "source": [
    "**Syntax:**\n",
    "\n",
    "class BaseClass:\n",
    "    \n",
    "    Body of base class\n",
    "class DerivedClass(BaseClass):\n",
    "    \n",
    "    Body of derived class"
   ]
  },
  {
   "cell_type": "markdown",
   "id": "7c61934e",
   "metadata": {},
   "source": [
    "## Types Of Inheritance\n",
    "\n",
    "In Python, based upon the number of child and parent classes involved, there are five types of inheritance. The type of inheritance are listed below:\n",
    "\n",
    "**1. Single Inheritance**\n",
    "\n",
    "**2. Multiple Inheritance**\n",
    "\n",
    "**3. Multilevel inheritance**\n",
    "\n",
    "**4. Hierarchical Inheritance**\n",
    "\n",
    "**5. Hybrid Inheritance**\n",
    "\n",
    "Now let’s see each in detail with example."
   ]
  },
  {
   "cell_type": "markdown",
   "id": "7f9df82b",
   "metadata": {},
   "source": [
    "## Python Single Inheritance\n",
    "\n",
    "In single inheritance, a derived class inherits from a single-base class. Here in one derived class and one base class."
   ]
  },
  {
   "attachments": {
    "si.png": {
     "image/png": "[encoded data removed]"
    }
   },
   "cell_type": "markdown",
   "id": "ae05f935",
   "metadata": {},
   "source": [
    "![si.png](attachment:si.png)"
   ]
  },
  {
   "cell_type": "markdown",
   "id": "011dc23d",
   "metadata": {},
   "source": [
    "Here, the **`Derived`** class is derived from **`Base`** class."
   ]
  },
  {
   "cell_type": "code",
   "execution_count": 1,
   "id": "69720d95",
   "metadata": {},
   "outputs": [
    {
     "name": "stdout",
     "output_type": "stream",
     "text": [
      "Inside Vehicle class\n",
      "Inside Car class\n"
     ]
    }
   ],
   "source": [
    "# Example 1: Single Inheritance\n",
    "\n",
    "# Base class\n",
    "class Vehicle:\n",
    "    def Vehicle_info(self):\n",
    "        print('Inside Vehicle class')\n",
    "\n",
    "# Derived class\n",
    "class Car(Vehicle):\n",
    "    def car_info(self):\n",
    "        print('Inside Car class')\n",
    "\n",
    "# Create object of Car\n",
    "car = Car()\n",
    "\n",
    "# access Vehicle's info using car object\n",
    "car.Vehicle_info()\n",
    "car.car_info()"
   ]
  },
  {
   "cell_type": "markdown",
   "id": "ad82ddc5",
   "metadata": {},
   "source": [
    "## Python Multiple Inheritance"
   ]
  },
  {
   "attachments": {
    "mpi.png": {
     "image/png": "[encoded data removed]"
    }
   },
   "cell_type": "markdown",
   "id": "fba8e7ae",
   "metadata": {},
   "source": [
    "In multiple inheritance, one derived class can inherit from multiple base classes.\n",
    "\n",
    "![mpi.png](attachment:mpi.png)\n",
    "\n",
    "Here, the **`MultiDerived class`** is derived from **`Base1`** and **`Base2`** classes."
   ]
  },
  {
   "cell_type": "code",
   "execution_count": 2,
   "id": "9059144e",
   "metadata": {},
   "outputs": [
    {
     "name": "stdout",
     "output_type": "stream",
     "text": [
      "Inside Person class\n",
      "Name: Milaan Age: 33\n",
      "Inside Company class\n",
      "Name: Google location: Atlanta\n",
      "Inside Employee class\n",
      "Salary: 19000 Skill: Machine Learning\n"
     ]
    }
   ],
   "source": [
    "# Example 1: Multiple Inheritance\n",
    "\n",
    "# Base class 1\n",
    "class Person:\n",
    "    def person_info(self, name, age):\n",
    "        print('Inside Person class')\n",
    "        print('Name:', name, 'Age:', age)\n",
    "\n",
    "# Base class 2\n",
    "class Company:\n",
    "    def company_info(self, company_name, location):\n",
    "        print('Inside Company class')\n",
    "        print('Name:', company_name, 'location:', location)\n",
    "\n",
    "# Derived class\n",
    "class Employee(Person, Company):\n",
    "    def Employee_info(self, salary, skill):\n",
    "        print('Inside Employee class')\n",
    "        print('Salary:', salary, 'Skill:', skill)\n",
    "\n",
    "# Create object of Employee\n",
    "emp = Employee()\n",
    "\n",
    "# access data\n",
    "emp.person_info('Milaan', 33)\n",
    "emp.company_info('Google', 'Atlanta')\n",
    "emp.Employee_info(19000, 'Machine Learning')"
   ]
  },
  {
   "cell_type": "code",
   "execution_count": 3,
   "id": "c18790f5",
   "metadata": {},
   "outputs": [
    {
     "name": "stdout",
     "output_type": "stream",
     "text": [
      "first\n",
      "second\n",
      "third\n"
     ]
    }
   ],
   "source": [
    "# Example 2:\n",
    "\n",
    "class First(object):  # Base class1\n",
    "    def __init__(self):\n",
    "        super(First, self).__init__()\n",
    "        print(\"first\")\n",
    "\n",
    "class Second(object):  # Base class2\n",
    "    def __init__(self):\n",
    "        super(Second, self).__init__()\n",
    "        print(\"second\")\n",
    "\n",
    "class Third(Second, First):  # Derived class derived from Base class 1 and Base class 2\n",
    "    def __init__(self):\n",
    "        super(Third, self).__init__()\n",
    "        print(\"third\")\n",
    "\n",
    "Third(); #call Third class constructor"
   ]
  },
  {
   "cell_type": "code",
   "execution_count": 4,
   "id": "f77c9e84",
   "metadata": {},
   "outputs": [
    {
     "name": "stdout",
     "output_type": "stream",
     "text": [
      "Dog has four legs.\n",
      "Dog is a warm-blooded animal.\n"
     ]
    }
   ],
   "source": [
    "# Example 3:\n",
    "\n",
    "class Mammal(object):\n",
    "    def __init__(self, mammalName):\n",
    "        print(mammalName, 'is a warm-blooded animal.')\n",
    "    \n",
    "class Dog(Mammal):\n",
    "    def __init__(self):\n",
    "        print('Dog has four legs.')\n",
    "        super().__init__('Dog')\n",
    "    \n",
    "d1 = Dog()"
   ]
  },
  {
   "cell_type": "markdown",
   "id": "abe92467",
   "metadata": {},
   "source": [
    "**Explanation:**\n",
    "\n",
    "Here, we called the **`__init__()`** method of the **`Mammal`** class (from the **`Dog`** class) using code\n",
    "\n",
    "**`super().__init__('Dog')`**\n",
    "\n",
    "instead of\n",
    "\n",
    "**`Mammal.__init__(self, 'Dog')`**\n",
    "\n",
    "Since we do not need to specify the name of the base class when we call its members, we can easily change the base class name (if we need to)."
   ]
  },
  {
   "cell_type": "markdown",
   "id": "8361ff00",
   "metadata": {},
   "source": [
    "changing base class to CanidaeFamily\n",
    "\n",
    "class Dog(CanidaeFamily):\n",
    "\n",
    "      def __init__(self):\n",
    "  \n",
    "        print('Dog has four legs.')\n",
    "\n",
    "        # no need to change this\n",
    "        super().__init__('Dog')"
   ]
  },
  {
   "cell_type": "markdown",
   "id": "a5b841e9",
   "metadata": {},
   "source": [
    "The super() built-in function returns a proxy object, a substitute object that can call methods of the base class via delegation. This is called indirection (ability to reference base object with **`super()`** built-in function).\n",
    "\n",
    "Since the indirection is computed at the runtime, we can use different base classes at different times (if we need to)."
   ]
  },
  {
   "cell_type": "code",
   "execution_count": 6,
   "id": "c7eba8d5",
   "metadata": {},
   "outputs": [
    {
     "name": "stdout",
     "output_type": "stream",
     "text": [
      "Dog has 4 legs.\n",
      "Dog can't swim.\n",
      "Dog can't fly.\n",
      "Dog is a warm-blooded animal.\n",
      "Dog is an animal.\n",
      "\n",
      "Bat can't swim.\n",
      "Bat is a warm-blooded animal.\n",
      "Bat is an animal.\n"
     ]
    }
   ],
   "source": [
    "# Example 4:\n",
    "\n",
    "class Animal:\n",
    "    def __init__(self, Animal):\n",
    "        print(Animal, 'is an animal.');\n",
    "\n",
    "class Mammal(Animal):  # Mammal derived to Animal\n",
    "    def __init__(self, mammalName):\n",
    "        print(mammalName, 'is a warm-blooded animal.')\n",
    "        super().__init__(mammalName)\n",
    "    \n",
    "class NonWingedMammal(Mammal):  # NonWingedMammal derived from Mammal (derived from Animal)\n",
    "    def __init__(self, NonWingedMammal):\n",
    "        print(NonWingedMammal, \"can't fly.\")\n",
    "        super().__init__(NonWingedMammal)\n",
    "\n",
    "class NonMarineMammal(Mammal):  # NonMarineMammal derived from Mammal (derived from Animal)\n",
    "    def __init__(self, NonMarineMammal):\n",
    "        print(NonMarineMammal, \"can't swim.\")\n",
    "        super().__init__(NonMarineMammal)\n",
    "\n",
    "class Dog(NonMarineMammal, NonWingedMammal):  # Dog derived from NonMarineMammal and NonWingedMammal\n",
    "    def __init__(self):\n",
    "        print('Dog has 4 legs.');\n",
    "        super().__init__('Dog')\n",
    "    \n",
    "d = Dog()\n",
    "print('')\n",
    "bat = NonMarineMammal('Bat')"
   ]
  },
  {
   "cell_type": "markdown",
   "id": "f104e9e8",
   "metadata": {},
   "source": [
    "## Why super() keyword\n",
    "The **`super()`** function is most commonly used with **`__init__`** function in base class. This is usually the only place where we need to do some things in a child then complete the **initialization** in the **parent**.\n",
    "\n",
    "class Child(Parent):\n",
    "    \n",
    "    def __init__(self, stuff)\n",
    "        \n",
    "        self.stuff = stuff\n",
    "        super(Child, self).__init__()"
   ]
  },
  {
   "cell_type": "markdown",
   "id": "9edf96e3",
   "metadata": {},
   "source": [
    "## Private members of parent class\n",
    "We don’t always want the instance variables of the parent class to be inherited by the child class i.e. we can make some of the instance variables of the parent class private, which won’t be available to the child class. We can make an instance variable by adding double underscores before its name."
   ]
  },
  {
   "cell_type": "code",
   "execution_count": 7,
   "id": "5a42658e",
   "metadata": {},
   "outputs": [
    {
     "ename": "AttributeError",
     "evalue": "type object 'D' has no attribute 'd'",
     "output_type": "error",
     "traceback": [
      "\u001b[1;31m---------------------------------------------------------------------------\u001b[0m",
      "\u001b[1;31mAttributeError\u001b[0m                            Traceback (most recent call last)",
      "\u001b[1;32m<ipython-input-7-5768efa4a35f>\u001b[0m in \u001b[0;36m<module>\u001b[1;34m\u001b[0m\n\u001b[0;32m     16\u001b[0m \u001b[0mobject1\u001b[0m \u001b[1;33m=\u001b[0m \u001b[0mD\u001b[0m\u001b[1;33m(\u001b[0m\u001b[1;33m)\u001b[0m\u001b[1;33m\u001b[0m\u001b[1;33m\u001b[0m\u001b[0m\n\u001b[0;32m     17\u001b[0m \u001b[1;31m# produces an error as d is private instance variable\u001b[0m\u001b[1;33m\u001b[0m\u001b[1;33m\u001b[0m\u001b[1;33m\u001b[0m\u001b[0m\n\u001b[1;32m---> 18\u001b[1;33m \u001b[0mprint\u001b[0m\u001b[1;33m(\u001b[0m\u001b[0mD\u001b[0m\u001b[1;33m.\u001b[0m\u001b[0md\u001b[0m\u001b[1;33m)\u001b[0m\u001b[1;33m\u001b[0m\u001b[1;33m\u001b[0m\u001b[0m\n\u001b[0m",
      "\u001b[1;31mAttributeError\u001b[0m: type object 'D' has no attribute 'd'"
     ]
    }
   ],
   "source": [
    "## Example:\n",
    "\n",
    "# Python program to demonstrate private members\n",
    "# of the parent class\n",
    "class C(object):\n",
    "    def __init__(self):\n",
    "            self.c = 21\n",
    "            # d is private instance variable\n",
    "            self.__d = 42  # Note: before 'd' there are two '_'\n",
    "\n",
    "class D(C):\n",
    "    def __init__(self):\n",
    "            self.e = 84\n",
    "            C.__init__(self)\n",
    "\n",
    "object1 = D()\n",
    "# produces an error as d is private instance variable\n",
    "print(D.d)"
   ]
  }
 ],
 "metadata": {
  "kernelspec": {
   "display_name": "Python 3",
   "language": "python",
   "name": "python3"
  },
  "language_info": {
   "codemirror_mode": {
    "name": "ipython",
    "version": 3
   },
   "file_extension": ".py",
   "mimetype": "text/x-python",
   "name": "python",
   "nbconvert_exporter": "python",
   "pygments_lexer": "ipython3",
   "version": "3.8.3"
  }
 },
 "nbformat": 4,
 "nbformat_minor": 5
}
