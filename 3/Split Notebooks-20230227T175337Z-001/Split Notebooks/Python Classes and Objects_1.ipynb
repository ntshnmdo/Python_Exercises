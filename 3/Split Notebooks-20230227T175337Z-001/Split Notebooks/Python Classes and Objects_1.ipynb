{
 "cells": [
  {
   "cell_type": "markdown",
   "id": "6ae5e8f8",
   "metadata": {},
   "source": [
    "# Python Classes and Objects\n",
    "In this class, you will learn about the core functionality of Python objects and classes. You'll learn what a class is, how to create it and use it in your program."
   ]
  },
  {
   "cell_type": "markdown",
   "id": "081b9cdb",
   "metadata": {},
   "source": [
    "# Python Classes and Objects\n",
    "\n",
    "Python is an object oriented programming language. Everything in Python is an object, with its properties and methods. A number, string, list, dictionary, tuple, set etc. used in a program is an object of a corresponding built-in class. We create class to create an object. Unlike procedure oriented programming, where the main emphasis is on functions, object oriented programming stresses on objects.\n",
    "\n",
    "An object is simply a collection of data (variables) and methods (functions) that act on those data. Similarly, a class is a blueprint for that object.\n",
    "\n",
    "We can think of class as a sketch (prototype) of a house. It contains all the details about the floors, doors, windows etc. Based on these descriptions we build the house. House is the object.\n",
    "\n",
    "As many houses can be made from a house's blueprint, we can create many objects from a class. An object is also called an instance of a class and the process of creating this object is called **instantiation**. We instantiate a class to create an object. The class defines attributes and the behavior of the object, while the object, on the other hand, represents the class.\n",
    "\n",
    "We have been working with classes and objects right from the beginning of this challenge unknowingly. Every element in a Python program is an object of a class. Let us check if everything in python is a class:"
   ]
  },
  {
   "cell_type": "code",
   "execution_count": 1,
   "id": "b104a01c",
   "metadata": {},
   "outputs": [
    {
     "name": "stdout",
     "output_type": "stream",
     "text": [
      "➡ 10 belongs to <class 'int'>\n",
      "➡ 'string' belongs to <class 'str'>\n",
      "➡ True belongs to <class 'bool'>\n",
      "➡ [1,2,3] belongs to <class 'list'>\n",
      "➡ (1,2,3) belongs to <class 'tuple'>\n",
      "➡ {1,2,3} belongs to <class 'set'>\n",
      "➡ {1:'A', 2:'B'} belongs to <class 'dict'>\n"
     ]
    }
   ],
   "source": [
    "num = 10\n",
    "print(\"➡ 10 belongs to\",type(num))           # <class 'int'>\n",
    "\n",
    "string = 'string'\n",
    "print(\"➡ 'string' belongs to\",type(string))  # <class 'str'>\n",
    "\n",
    "boolean = True\n",
    "print(\"➡ True belongs to\",type(boolean))     # <class 'bool'>\n",
    "\n",
    "list_1 = [1,2,3]\n",
    "print(\"➡ [1,2,3] belongs to\",type(list_1))   # <class 'list'>\n",
    "\n",
    "tuple_1 = (1,2,3)\n",
    "print(\"➡ (1,2,3) belongs to\",type(tuple_1))  # <class 'tuple'>\n",
    "\n",
    "set_1 = {1,2,3}\n",
    "print(\"➡ {1,2,3} belongs to\",type(set_1))    # <class 'set'>\n",
    "    \n",
    "dict_1 = {1:'A', 2:'B'}\n",
    "print(\"➡ {1:'A', 2:'B'} belongs to\",type(dict_1))  # <class 'dict'>"
   ]
  },
  {
   "cell_type": "markdown",
   "id": "2cb3c3b5",
   "metadata": {},
   "source": [
    "## Defining a Class in Python\n",
    "Like function definitions begin with the def keyword in Python, class definitions begin with a class keyword.\n",
    "\n",
    "The first string inside the class is called docstring and has a brief description about the class. Although not mandatory, this is highly recommended.\n",
    "\n",
    "Here is a simple class definition."
   ]
  },
  {
   "cell_type": "code",
   "execution_count": 2,
   "id": "061633a5",
   "metadata": {},
   "outputs": [],
   "source": [
    "class MyNewClass:\n",
    "    '''This is a docstring. I have created a new class'''\n",
    "    pass"
   ]
  },
  {
   "cell_type": "markdown",
   "id": "c00c64c9",
   "metadata": {},
   "source": [
    "A class creates a new local namespace where all its attributes are defined. Attributes may be data or functions.\n",
    "\n",
    "There are also special attributes in it that begins with double underscores **`__`**. For example, **`__doc__`** gives us the docstring of that class.\n",
    "\n",
    "As soon as we define a class, a new class object is created with the same name. This class object allows us to access the different attributes as well as to instantiate new objects of that class."
   ]
  },
  {
   "cell_type": "code",
   "execution_count": 3,
   "id": "9c73c37c",
   "metadata": {},
   "outputs": [
    {
     "name": "stdout",
     "output_type": "stream",
     "text": [
      "10\n",
      "<function Person.greet at 0x000001A9F2D9EAF0>\n",
      "This is a person class\n"
     ]
    }
   ],
   "source": [
    "# Example 1: Creating Class and Object in Python\n",
    "\n",
    "class Person:\n",
    "    \"This is a person class\"\n",
    "    age = 10\n",
    "\n",
    "    def greet(self):\n",
    "        print('Hello')\n",
    "\n",
    "print(Person.age)      # Output: 10\n",
    "\n",
    "print(Person.greet)    # Output: <function Person.greet>\n",
    "\n",
    "print(Person.__doc__)  # Output: 'This is my second class'"
   ]
  },
  {
   "cell_type": "markdown",
   "id": "050116c3",
   "metadata": {},
   "source": [
    "## Creating an Object in Python"
   ]
  },
  {
   "cell_type": "markdown",
   "id": "fdad049d",
   "metadata": {},
   "source": [
    "We saw that the class object could be used to access different attributes.\n",
    "\n",
    "It can also be used to create new object instances (instantiation) of that class. The procedure to create an object is similar to a function call.\n",
    "\n",
    "    harry = Person()\n",
    "    \n",
    "This will create a new object instance named **`harry`**. We can access the attributes of objects using the object name prefix.\n",
    "\n",
    "Attributes may be data or method. Methods of an object are corresponding functions of that class.\n",
    "\n",
    "This means to say, since **`Person.greet`** is a function object (attribute of class), **`Person.greet`** will be a method object.\n",
    "\n"
   ]
  },
  {
   "cell_type": "code",
   "execution_count": 4,
   "id": "8cac19af",
   "metadata": {},
   "outputs": [
    {
     "name": "stdout",
     "output_type": "stream",
     "text": [
      "<function Person.greet at 0x000001A9F2D9EA60>\n",
      "<bound method Person.greet of <__main__.Person object at 0x000001A9F2D779D0>>\n",
      "Hello\n"
     ]
    }
   ],
   "source": [
    "class Person:\n",
    "    \"This is a person class\"\n",
    "    age = 10\n",
    "\n",
    "    def greet(self):\n",
    "        print('Hello')\n",
    "\n",
    "# create a new object of Person class\n",
    "harry = Person()\n",
    "\n",
    "print(Person.greet)  # Output: <function Person.greet>\n",
    "\n",
    "print(harry.greet)  # Output: <bound method Person.greet of <__main__.Person object>>\n",
    "\n",
    "# Calling object's greet() method\n",
    "harry.greet()  # Output: Hello"
   ]
  },
  {
   "cell_type": "markdown",
   "id": "018234dc",
   "metadata": {},
   "source": [
    "**Explanation:**\n",
    "\n",
    "You may have noticed the **`self`** parameter in function definition inside the class but we called the method simply as **`harry.greet()`** without any arguments. It still worked.\n",
    "\n",
    "This is because, whenever an object calls its method, the object itself is passed as the first argument. So, **`harry.greet()`** translates into **`Person.greet(harry)`**.\n",
    "\n",
    "In general, calling a method with a list of n arguments is equivalent to calling the corresponding function with an argument list that is created by inserting the method's object before the first argument.\n",
    "\n",
    "For these reasons, the first argument of the function in class must be the object itself. This is conventionally called self. It can be named otherwise but we highly recommend to follow the convention.\n",
    "\n",
    "Now you must be familiar with class object, instance object, function object, method object and their differences."
   ]
  },
  {
   "cell_type": "markdown",
   "id": "5aa21210",
   "metadata": {},
   "source": [
    "## Constructors in Python"
   ]
  },
  {
   "cell_type": "markdown",
   "id": "39e7527f",
   "metadata": {},
   "source": [
    "In Python, if a class functions that begin with double underscore **`__`** are called special functions as they have special meaning.\n",
    "\n",
    "A class without a constructor is not really useful in real applications. A constructor is a special type of method used in Python to initialize the object of a Class. The constructor will be executed automatically when the object is created. If we create three objects, the constructor is called three times and initialize each object.\n",
    "\n",
    "The main purpose of the constructor is to declare and initialize instance variables. It can take at least one argument that is self. The **`__init__()`** method is called the constructor in Python. In other words, the name of the constructor should be **`__init__(self)`**."
   ]
  },
  {
   "cell_type": "markdown",
   "id": "642d43e6",
   "metadata": {},
   "source": [
    "**A constructor is optional, and if we do not provide any constructor, then Python provides the default constructor. Every class in Python has a constructor, but it’s not required to define it.**"
   ]
  },
  {
   "cell_type": "code",
   "execution_count": 5,
   "id": "f2ab1d84",
   "metadata": {},
   "outputs": [
    {
     "name": "stdout",
     "output_type": "stream",
     "text": [
      "5+6j\n"
     ]
    }
   ],
   "source": [
    "# Example 1:\n",
    "\n",
    "class ComplexNumber:\n",
    "    def __init__(self,r=0,i=1):\n",
    "        self.real=r;\n",
    "        self.imag=i;\n",
    "\n",
    "    def getData(self):\n",
    "        print('{0}+{1}j'.format(self.real,self.imag))\n",
    "\n",
    "\n",
    "c1=ComplexNumber(5,6)\n",
    "c1.getData()"
   ]
  },
  {
   "cell_type": "code",
   "execution_count": 6,
   "id": "f2d10e41",
   "metadata": {},
   "outputs": [
    {
     "name": "stdout",
     "output_type": "stream",
     "text": [
      "2+3j\n",
      "(5, 0, 10)\n"
     ]
    },
    {
     "ename": "AttributeError",
     "evalue": "'ComplexNumber' object has no attribute 'attr'",
     "output_type": "error",
     "traceback": [
      "\u001b[1;31m---------------------------------------------------------------------------\u001b[0m",
      "\u001b[1;31mAttributeError\u001b[0m                            Traceback (most recent call last)",
      "\u001b[1;32m<ipython-input-6-53c2be293b5f>\u001b[0m in \u001b[0;36m<module>\u001b[1;34m\u001b[0m\n\u001b[0;32m     23\u001b[0m \u001b[1;33m\u001b[0m\u001b[0m\n\u001b[0;32m     24\u001b[0m \u001b[1;31m# but c1 object doesn't have attribute 'attr'\u001b[0m\u001b[1;33m\u001b[0m\u001b[1;33m\u001b[0m\u001b[1;33m\u001b[0m\u001b[0m\n\u001b[1;32m---> 25\u001b[1;33m \u001b[0mprint\u001b[0m\u001b[1;33m(\u001b[0m\u001b[0mnum1\u001b[0m\u001b[1;33m.\u001b[0m\u001b[0mattr\u001b[0m\u001b[1;33m)\u001b[0m  \u001b[1;31m# AttributeError: 'ComplexNumber' object has no\u001b[0m\u001b[1;33m\u001b[0m\u001b[1;33m\u001b[0m\u001b[0m\n\u001b[0m",
      "\u001b[1;31mAttributeError\u001b[0m: 'ComplexNumber' object has no attribute 'attr'"
     ]
    }
   ],
   "source": [
    "# Example 2:\n",
    "\n",
    "class ComplexNumber:\n",
    "    def __init__(self, r=0, i=0):\n",
    "        self.real = r\n",
    "        self.imag = i\n",
    "\n",
    "    def get_data(self):\n",
    "        print(f'{self.real}+{self.imag}j')\n",
    "\n",
    "# Create a new ComplexNumber object\n",
    "num1 = ComplexNumber(2, 3)\n",
    "\n",
    "# Call get_data() method\n",
    "\n",
    "num1.get_data()   # Output: 2+3j\n",
    "\n",
    "# Create another ComplexNumber object and create a new attribute 'attr'\n",
    "num2 = ComplexNumber(5)\n",
    "num2.attr = 10\n",
    "\n",
    "print((num2.real, num2.imag, num2.attr))  # Output: (5, 0, 10)\n",
    "\n",
    "# but c1 object doesn't have attribute 'attr'\n",
    "print(num1.attr)  # AttributeError: 'ComplexNumber' object has no "
   ]
  },
  {
   "cell_type": "markdown",
   "id": "4224121b",
   "metadata": {},
   "source": [
    "**Explanation:**\n",
    "\n",
    "In the above example, we defined a new class to represent complex numbers. It has two functions, **`__init__()`** to initialize the variables (defaults to zero) and **`get_data()`** to display the number properly.\n",
    "\n",
    "An interesting thing to note in the above step is that attributes of an object can be created on the fly. We created a new attribute **`attr`** for object **`num2`** and read it as well. But this does not create that attribute for object **`num1`**."
   ]
  }
 ],
 "metadata": {
  "kernelspec": {
   "display_name": "Python 3",
   "language": "python",
   "name": "python3"
  },
  "language_info": {
   "codemirror_mode": {
    "name": "ipython",
    "version": 3
   },
   "file_extension": ".py",
   "mimetype": "text/x-python",
   "name": "python",
   "nbconvert_exporter": "python",
   "pygments_lexer": "ipython3",
   "version": "3.8.3"
  }
 },
 "nbformat": 4,
 "nbformat_minor": 5
}
