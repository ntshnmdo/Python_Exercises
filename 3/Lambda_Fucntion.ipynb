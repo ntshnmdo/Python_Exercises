{
 "cells": [
  {
   "cell_type": "markdown",
   "id": "5481b2b3-88a1-45f5-8dd9-9d0370191c91",
   "metadata": {},
   "source": [
    "Anonymous fucntion als=o called lambda function\n",
    "- Anonymous function is a function that is defined without a name\n",
    "- while normal fucntion are defined using the def keywwrd whereas the lambda function is defined using lambda keyword\n",
    "- In opposite to the normal functionn , lambda function is the single expression\n",
    "- reason to use this function is instant use / one time usage and code is very consise so there is more readiblity in code\n",
    "- lambda function can take any number of arguments but return just one value\n",
    "- syntax : lambda argument_list: expression\n",
    "- Example to print even numbers"
   ]
  },
  {
   "cell_type": "code",
   "execution_count": 1,
   "id": "d7c83ce4-da0e-4a3f-8a99-1a419dc7164e",
   "metadata": {},
   "outputs": [
    {
     "name": "stdout",
     "output_type": "stream",
     "text": [
      "Even NUmbers are:  [10, 2, 4, 16]\n"
     ]
    }
   ],
   "source": [
    "# example 1: progrma for even numbrs without lambda function\n",
    "\n",
    "def even_numbers(nums):\n",
    "    even_list = []\n",
    "    for n in nums:\n",
    "        if n % 2 == 0:\n",
    "            even_list.append(n)\n",
    "    return even_list\n",
    "\n",
    "num_list = [10, 2, 4, 3, 7, 15,16]\n",
    "ans = even_numbers(num_list)\n",
    "print(\"Even NUmbers are: \", ans)"
   ]
  },
  {
   "cell_type": "code",
   "execution_count": 2,
   "id": "961fa798-85e9-4f48-9011-27b9f35331ba",
   "metadata": {},
   "outputs": [
    {
     "name": "stdout",
     "output_type": "stream",
     "text": [
      "Even Numbers are:  [10, 8, 4, 6, 2]\n"
     ]
    }
   ],
   "source": [
    "# example 2: program with lambda fucntion\n",
    "\n",
    "l = [10, 9, 8, 7 ,5, 4, 6, 3, 2, 1]\n",
    "even_nos = list(filter(lambda x: x % 2 == 0, l))\n",
    "print(\"Even Numbers are: \", even_nos)"
   ]
  },
  {
   "cell_type": "code",
   "execution_count": 3,
   "id": "04e5a0f8-7093-425d-8091-039c1ed8545b",
   "metadata": {},
   "outputs": [
    {
     "name": "stdout",
     "output_type": "stream",
     "text": [
      "12\n"
     ]
    }
   ],
   "source": [
    "# exxa,mple 3: program to show use of lambda functions\n",
    "\n",
    "double = lambda x: x * 2\n",
    "\n",
    "print(double(6))"
   ]
  },
  {
   "cell_type": "markdown",
   "id": "0fc4b36d-a8dc-48f9-9b88-04fb26a32ab6",
   "metadata": {},
   "source": [
    "### Explanation: \n",
    "- In the above program, lambda x: x * 2 is the lambda function. Here x is the argument and x * 2 is the expression that gets evaluated and returned.\n",
    "- This function has no name. It returns a function object which is assigned to the identifier double. we can now calll it as a normal; fucntion\n",
    "-  double = lambda x: x * 2\n",
    "   - is same as\n",
    "- def double(x):\n",
    "-      return x * 2\n",
    "   "
   ]
  },
  {
   "cell_type": "code",
   "execution_count": 5,
   "id": "8de7f242-65a7-4b04-b508-f50357e13472",
   "metadata": {},
   "outputs": [
    {
     "name": "stdout",
     "output_type": "stream",
     "text": [
      "Square of number is:  25\n",
      "Square of numbr is :  25\n"
     ]
    }
   ],
   "source": [
    "# example 4: normal function definition is here \n",
    "\n",
    "def square(x):\n",
    "    return x * x\n",
    "\n",
    "# anonymous function\n",
    "sqr = lambda x: x * x\n",
    "\n",
    "print(\"Square of number is: \", square(5))\n",
    "print(\"Square of numbr is : \", sqr(5))"
   ]
  },
  {
   "cell_type": "markdown",
   "id": "e3614927-47bb-452b-b564-047d71448c0d",
   "metadata": {},
   "source": [
    "#### use of lambda Function in python\n",
    "we use lambda function when we require a nameless function for a short period of time \n",
    "\n",
    "in pyhton,m we generally use it  as a higher order funciton ( a fuinction that takes other funciotn as arguments) \n",
    "\n",
    "lambda function is used along with thte built in fucntion like filter() mapo() reduce() etc\n",
    "\n",
    "### lambda fucntiuon use with fiulter()\n",
    " - the filter() func takes in a fucn and a list as arguments\n",
    " - the func is called with all the items in the llist and a new list is returned which contains items for wichi the function evaluates True\n",
    " - Exampe\n",
    " - "
   ]
  },
  {
   "cell_type": "code",
   "execution_count": 6,
   "id": "3e84cf37-65dc-4933-aaf4-5718c24840aa",
   "metadata": {},
   "outputs": [
    {
     "name": "stdout",
     "output_type": "stream",
     "text": [
      "Even Numbers are:  [4, 8, 4]\n"
     ]
    }
   ],
   "source": [
    "# example 5: program to filter out only the even items from the list\n",
    "\n",
    "my_list = [1, 3, 4, 5, 67, 7, 8, 4, 9]\n",
    "\n",
    "new_list = list(filter(lambda x: x % 2 == 0, my_list))\n",
    "\n",
    "print(\"Even Numbers are: \", new_list)"
   ]
  },
  {
   "cell_type": "code",
   "execution_count": 7,
   "id": "7b209e0b-fd06-4d55-b1f6-9a06a9cd2797",
   "metadata": {},
   "outputs": [
    {
     "name": "stdout",
     "output_type": "stream",
     "text": [
      " positive numbrs in the list are:  [435, 56, 34, 45]\n"
     ]
    }
   ],
   "source": [
    "# example 6:\n",
    "l = [-23, -34, 435, 56, 34, -4 ,  45, - 566]\n",
    "positive_nos = list(filter(lambda x: x>0, l))\n",
    "print(\" positive numbrs in the list are: \", positive_nos)"
   ]
  },
  {
   "cell_type": "markdown",
   "id": "88baa482-19fc-4dc8-a23c-de457f5a03e2",
   "metadata": {},
   "source": [
    "### lambda function with map()\n",
    "- the map() func takes in a function and list\n",
    "- the function is called woth all the items i nthe list and a new list is retirened whioc h contaons otenms returrend bu that fucntion for each item\n",
    "- \n"
   ]
  },
  {
   "cell_type": "code",
   "execution_count": 8,
   "id": "a8a4ec0d-b2aa-4c83-9f9d-109f4b165d3b",
   "metadata": {},
   "outputs": [
    {
     "name": "stdout",
     "output_type": "stream",
     "text": [
      "Double of each item in the list is :  [2, 4, 8, 10, 12, 14, 16]\n"
     ]
    }
   ],
   "source": [
    "# example 7: progream to double each item in the list using map()\n",
    "\n",
    "my_list = [1, 2, 4, 5, 6 , 7, 8]\n",
    "new_list = list(map(lambda x: x * 2, my_list))\n",
    "print(\"Double of each item in the list is : \", new_list)"
   ]
  },
  {
   "cell_type": "code",
   "execution_count": 9,
   "id": "9afe0ffc-7e61-4560-adfd-4ebc273bef8e",
   "metadata": {},
   "outputs": [
    {
     "name": "stdout",
     "output_type": "stream",
     "text": [
      "cube of the numbers are:  [8, 64, 27, 216, 343, 729, 512]\n"
     ]
    }
   ],
   "source": [
    "# example 8:\n",
    "list1 = [2,4,3,6,7,9,8]\n",
    "list2 = list(map(lambda x: x*x*x, list1))\n",
    "print(\"cube of the numbers are: \", list2)"
   ]
  },
  {
   "cell_type": "markdown",
   "id": "049eceba-95d8-4f04-be28-efdab879918e",
   "metadata": {},
   "source": [
    "### lambda function with reduce()\n",
    "- the reduce() func is used to minimize sequence elements into a sing;e valie bt applying the specified condition \n",
    "- the reduce() func is present in the functools module hence we need to import it using the import statement before using it"
   ]
  },
  {
   "cell_type": "code",
   "execution_count": 10,
   "id": "5df2de81-1b1e-43a7-9642-e8764e30657f",
   "metadata": {},
   "outputs": [
    {
     "name": "stdout",
     "output_type": "stream",
     "text": [
      "Addition of all the items in the list:  66\n"
     ]
    }
   ],
   "source": [
    "# exca,mple 9:\n",
    "\n",
    "from functools import reduce \n",
    "list1 = [20, 13, 4 ,5 ,7 ,8, 9]\n",
    "add = reduce(lambda x, y: x+y, list1)\n",
    "print(\"Addition of all the items in the list: \", add)"
   ]
  },
  {
   "cell_type": "code",
   "execution_count": null,
   "id": "18fbce07-6210-4439-be66-66b90600308c",
   "metadata": {},
   "outputs": [],
   "source": []
  }
 ],
 "metadata": {
  "kernelspec": {
   "display_name": "Python 3 (ipykernel)",
   "language": "python",
   "name": "python3"
  },
  "language_info": {
   "codemirror_mode": {
    "name": "ipython",
    "version": 3
   },
   "file_extension": ".py",
   "mimetype": "text/x-python",
   "name": "python",
   "nbconvert_exporter": "python",
   "pygments_lexer": "ipython3",
   "version": "3.12.3"
  }
 },
 "nbformat": 4,
 "nbformat_minor": 5
}
