{
 "cells": [
  {
   "cell_type": "markdown",
   "id": "2b6b5f48-9c9d-4e79-b741-ee5230f20ff5",
   "metadata": {},
   "source": [
    "### Dictionaries\n",
    "\n",
    "- unordered collection of items falls under mapping.\n",
    "- stores data in form of key:value pair called 'item'\n",
    "- items are separated by commas\n",
    "- all items of dict are enclosed in curly bracket{}\n",
    "- keys in the dict must be unique and should be of immutable data type\n",
    "- the value can repeat and of any data type "
   ]
  },
  {
   "cell_type": "code",
   "execution_count": 1,
   "id": "781e3eb0-364e-46e1-9d23-f7d2c0a963f0",
   "metadata": {},
   "outputs": [
    {
     "data": {
      "text/plain": [
       "{'a': 14, 'b': 56, 'c': 23, 'd': 43}"
      ]
     },
     "execution_count": 1,
     "metadata": {},
     "output_type": "execute_result"
    }
   ],
   "source": [
    "# Examples\n",
    "\n",
    "D = {'a':14, 'b':56, 'c':23, 'd':43}\n",
    "D"
   ]
  },
  {
   "cell_type": "code",
   "execution_count": 2,
   "id": "33ee4bcc-15f5-4a6a-b8b9-7f184d9d725b",
   "metadata": {},
   "outputs": [
    {
     "data": {
      "text/plain": [
       "{}"
      ]
     },
     "execution_count": 2,
     "metadata": {},
     "output_type": "execute_result"
    }
   ],
   "source": [
    "D1 = {}\n",
    "D1"
   ]
  },
  {
   "cell_type": "code",
   "execution_count": 3,
   "id": "079bfbe5-4d42-40e2-af82-dbaffb510af8",
   "metadata": {},
   "outputs": [
    {
     "data": {
      "text/plain": [
       "{'a': 14, 'b': 56, 'c': 23, 'd': 43}"
      ]
     },
     "execution_count": 3,
     "metadata": {},
     "output_type": "execute_result"
    }
   ],
   "source": [
    "D2 = D\n",
    "D2"
   ]
  },
  {
   "cell_type": "markdown",
   "id": "da1306d1-0de5-4c10-8a72-b70cc17bf09b",
   "metadata": {},
   "source": [
    "### accessing items in dictionary\n",
    "- items of dictionary are accessed using 'keys'\n",
    "- each key of dictionary serves as index and maps to a value"
   ]
  },
  {
   "cell_type": "code",
   "execution_count": 4,
   "id": "00f98e4c-e59a-4b58-8d85-2c91eb7ddf87",
   "metadata": {},
   "outputs": [
    {
     "ename": "KeyError",
     "evalue": "'e'",
     "output_type": "error",
     "traceback": [
      "\u001b[1;31m---------------------------------------------------------------------------\u001b[0m",
      "\u001b[1;31mKeyError\u001b[0m                                  Traceback (most recent call last)",
      "Cell \u001b[1;32mIn[4], line 1\u001b[0m\n\u001b[1;32m----> 1\u001b[0m \u001b[43mD\u001b[49m\u001b[43m[\u001b[49m\u001b[38;5;124;43m'\u001b[39;49m\u001b[38;5;124;43me\u001b[39;49m\u001b[38;5;124;43m'\u001b[39;49m\u001b[43m]\u001b[49m \u001b[38;5;66;03m# key 'e' not present\u001b[39;00m\n",
      "\u001b[1;31mKeyError\u001b[0m: 'e'"
     ]
    }
   ],
   "source": [
    "D['e'] # key 'e' not present"
   ]
  },
  {
   "cell_type": "markdown",
   "id": "05fbd2d7-d498-48e1-a25d-f8469be387b6",
   "metadata": {},
   "source": [
    "- Dictionary is mutable as its content can be changed after it has been created"
   ]
  },
  {
   "cell_type": "code",
   "execution_count": 5,
   "id": "37ed56f0-e75f-4b05-8600-ef9807db0707",
   "metadata": {},
   "outputs": [
    {
     "data": {
      "text/plain": [
       "{'a': 12, 'b': 30, 'c': 55}"
      ]
     },
     "execution_count": 5,
     "metadata": {},
     "output_type": "execute_result"
    }
   ],
   "source": [
    "D = {'a':12, 'b':30}\n",
    "D['c'] = 55 # appended\n",
    "D"
   ]
  },
  {
   "cell_type": "code",
   "execution_count": 6,
   "id": "58eca1b3-84b7-4e59-8ef9-2a957cc3ecc2",
   "metadata": {},
   "outputs": [
    {
     "data": {
      "text/plain": [
       "{'a': 12, 'b': 30}"
      ]
     },
     "execution_count": 6,
     "metadata": {},
     "output_type": "execute_result"
    }
   ],
   "source": [
    "D = {'a':12, 'b':30}\n",
    "D"
   ]
  },
  {
   "cell_type": "code",
   "execution_count": 7,
   "id": "0ee096c2-a505-46ae-abd7-176a694ad788",
   "metadata": {},
   "outputs": [
    {
     "data": {
      "text/plain": [
       "{'a': 41, 'b': 30}"
      ]
     },
     "execution_count": 7,
     "metadata": {},
     "output_type": "execute_result"
    }
   ],
   "source": [
    "D['a']=41\n",
    "D"
   ]
  },
  {
   "cell_type": "markdown",
   "id": "bc879f93-3188-4001-804a-f3acb657dddc",
   "metadata": {},
   "source": [
    "### Dictionaries methods and built in functions"
   ]
  },
  {
   "cell_type": "code",
   "execution_count": 8,
   "id": "a58d01c5-e2d6-420a-9625-cad53c59b3b0",
   "metadata": {},
   "outputs": [
    {
     "data": {
      "text/plain": [
       "5"
      ]
     },
     "execution_count": 8,
     "metadata": {},
     "output_type": "execute_result"
    }
   ],
   "source": [
    "# len(): Count and return items (key:value) pair of dictionary as length\n",
    "\n",
    "d = {'a':32, 'b':41, 'c':67, 'd':53, 'e':78}\n",
    "d\n",
    "len(d)"
   ]
  },
  {
   "cell_type": "code",
   "execution_count": 9,
   "id": "38edaa17-12dd-46c4-9f66-ab19fb25d5ec",
   "metadata": {},
   "outputs": [
    {
     "data": {
      "text/plain": [
       "{'a': 10, 'b': 20}"
      ]
     },
     "execution_count": 9,
     "metadata": {},
     "output_type": "execute_result"
    }
   ],
   "source": [
    "# dict(): create a dictionary from sequence of key:value pairs\n",
    "# list of tuple\n",
    "L = [('a',10),('b',20)]\n",
    "D = dict(L)\n",
    "D"
   ]
  },
  {
   "cell_type": "code",
   "execution_count": 10,
   "id": "247ce447-2752-4778-a717-fd54a9be5f12",
   "metadata": {},
   "outputs": [
    {
     "data": {
      "text/plain": [
       "dict_keys(['a', 'b', 'c', 'd', 'e'])"
      ]
     },
     "execution_count": 10,
     "metadata": {},
     "output_type": "execute_result"
    }
   ],
   "source": [
    "# keys(): returns all keys in form of list.\n",
    "\n",
    "d={'a':32,'b':41,'c':57,'d':53,'e':78}\n",
    "d.keys()"
   ]
  },
  {
   "cell_type": "code",
   "execution_count": 11,
   "id": "ddaf08a1-fee3-4cd4-86e0-8b3fa1183bbc",
   "metadata": {},
   "outputs": [
    {
     "data": {
      "text/plain": [
       "dict_values([32, 41, 57, 53, 78])"
      ]
     },
     "execution_count": 11,
     "metadata": {},
     "output_type": "execute_result"
    }
   ],
   "source": [
    "# values(): returns all values in form of list\n",
    "\n",
    "d={'a':32,'b':41,'c':57,'d':53,'e':78}\n",
    "d.values()"
   ]
  },
  {
   "cell_type": "code",
   "execution_count": 12,
   "id": "34b3d6a8-aeb2-4bd5-aab6-733fefb8ef6d",
   "metadata": {},
   "outputs": [
    {
     "data": {
      "text/plain": [
       "dict_items([('a', 32), ('b', 41), ('c', 57), ('d', 53), ('e', 78)])"
      ]
     },
     "execution_count": 12,
     "metadata": {},
     "output_type": "execute_result"
    }
   ],
   "source": [
    "# items(): returns list of tuples(key-value) pair\n",
    "\n",
    "d={'a':32,'b':41,'c':57,'d':53,'e':78}\n",
    "d.items()"
   ]
  },
  {
   "cell_type": "code",
   "execution_count": 13,
   "id": "6d886d50-5bcb-4d73-bd36-b679e3d8df16",
   "metadata": {},
   "outputs": [
    {
     "data": {
      "text/plain": [
       "57"
      ]
     },
     "execution_count": 13,
     "metadata": {},
     "output_type": "execute_result"
    }
   ],
   "source": [
    "# get(): displays calue of the key passed as argument\n",
    "\n",
    "d={'a':32,'b':41,'c':57,'d':53,'e':78}\n",
    "d.get('c')"
   ]
  },
  {
   "cell_type": "code",
   "execution_count": 14,
   "id": "84c428c5-ba16-4742-ab54-7f21eeeed605",
   "metadata": {},
   "outputs": [
    {
     "data": {
      "text/plain": [
       "{'a': 32, 'b': 41, 'c': 57, 'd': 53, 'e': 78, 'f': 87}"
      ]
     },
     "execution_count": 14,
     "metadata": {},
     "output_type": "execute_result"
    }
   ],
   "source": [
    "# update(): appends new element or modify existing elelemnt as key:value pair\n",
    "\n",
    "d={'a':32,'b':41,'c':57,'d':53,'e':78}\n",
    "d.update({'f':87})\n",
    "d"
   ]
  },
  {
   "cell_type": "code",
   "execution_count": 15,
   "id": "c6ef0827-e5c9-4489-be0a-140aaa9ba842",
   "metadata": {},
   "outputs": [
    {
     "data": {
      "text/plain": [
       "{'a': 32, 'b': 41, 'd': 53, 'e': 78}"
      ]
     },
     "execution_count": 15,
     "metadata": {},
     "output_type": "execute_result"
    }
   ],
   "source": [
    "# del(): removes specific element of dictionary by passing its key as argument\n",
    "\n",
    "d={'a':32,'b':41,'c':57,'d':53,'e':78}\n",
    "del d['c']\n",
    "d"
   ]
  },
  {
   "cell_type": "code",
   "execution_count": 16,
   "id": "de5f108d-834e-4121-bd0f-ca07a02734d1",
   "metadata": {},
   "outputs": [
    {
     "data": {
      "text/plain": [
       "{}"
      ]
     },
     "execution_count": 16,
     "metadata": {},
     "output_type": "execute_result"
    }
   ],
   "source": [
    "# clear(): removes all elements from dict\n",
    "d.clear()\n",
    "d"
   ]
  },
  {
   "cell_type": "markdown",
   "id": "920348fb-d2e9-405a-a84f-9de777f2a5aa",
   "metadata": {},
   "source": [
    "### python Sets\n",
    "- sets are unordered\n",
    "- sets elements are unique. Duplicate elements are not allowed\n",
    "- a set itself may be modified, but the elements contained in the set must be of an immutable type"
   ]
  },
  {
   "cell_type": "code",
   "execution_count": 17,
   "id": "3031c8ed-b163-4621-b8ed-17c16b28d72e",
   "metadata": {},
   "outputs": [
    {
     "data": {
      "text/plain": [
       "{'bar', 'baz', 'foo', 'qux'}"
      ]
     },
     "execution_count": 17,
     "metadata": {},
     "output_type": "execute_result"
    }
   ],
   "source": [
    "x = set(['foo', 'bar', 'baz', 'foo', 'qux'])\n",
    "x"
   ]
  },
  {
   "cell_type": "code",
   "execution_count": 18,
   "id": "5cf6e781-c981-456c-bbb7-dc0cb508727d",
   "metadata": {},
   "outputs": [
    {
     "data": {
      "text/plain": [
       "{'bar', 'baz', 'foo', 'qux'}"
      ]
     },
     "execution_count": 18,
     "metadata": {},
     "output_type": "execute_result"
    }
   ],
   "source": [
    "x = set(('foo', 'bar', 'baz', 'foo', 'qux'))\n",
    "x"
   ]
  },
  {
   "cell_type": "code",
   "execution_count": 19,
   "id": "5f50e092-84c8-4d72-bc49-84eb6c3fd8bf",
   "metadata": {},
   "outputs": [
    {
     "data": {
      "text/plain": [
       "['q', 'u', 'u', 'x']"
      ]
     },
     "execution_count": 19,
     "metadata": {},
     "output_type": "execute_result"
    }
   ],
   "source": [
    "# duplicate removal using sets\n",
    "s='quux'\n",
    "\n",
    "list(s)"
   ]
  },
  {
   "cell_type": "code",
   "execution_count": 20,
   "id": "205a3e8e-afb5-4728-b78d-d7ee28792e1b",
   "metadata": {},
   "outputs": [
    {
     "data": {
      "text/plain": [
       "{'q', 'u', 'x'}"
      ]
     },
     "execution_count": 20,
     "metadata": {},
     "output_type": "execute_result"
    }
   ],
   "source": [
    "set(s)"
   ]
  },
  {
   "cell_type": "code",
   "execution_count": 21,
   "id": "3aca5eed-d24a-47b8-9986-ca07ba6b493e",
   "metadata": {},
   "outputs": [
    {
     "data": {
      "text/plain": [
       "{'bar', 'baz', 'foo', 'quux', 'quz'}"
      ]
     },
     "execution_count": 21,
     "metadata": {},
     "output_type": "execute_result"
    }
   ],
   "source": [
    "# set operations\n",
    "# union, intersection, \n",
    "x1 = {'foo', 'bar', 'baz'}\n",
    "x2 = {'baz', 'quz', 'quux'}\n",
    "\n",
    "x1.union(x2)"
   ]
  },
  {
   "cell_type": "code",
   "execution_count": 22,
   "id": "7cbfbe5b-6903-43ab-8091-6b4eaa6f3caa",
   "metadata": {},
   "outputs": [
    {
     "data": {
      "text/plain": [
       "{'baz'}"
      ]
     },
     "execution_count": 22,
     "metadata": {},
     "output_type": "execute_result"
    }
   ],
   "source": [
    "x1.intersection(x2)"
   ]
  },
  {
   "cell_type": "code",
   "execution_count": 23,
   "id": "487a8c6d-f595-472e-a8b8-47536eea0db5",
   "metadata": {},
   "outputs": [
    {
     "data": {
      "text/plain": [
       "{'baz'}"
      ]
     },
     "execution_count": 23,
     "metadata": {},
     "output_type": "execute_result"
    }
   ],
   "source": [
    "x1 & x2"
   ]
  },
  {
   "cell_type": "code",
   "execution_count": 24,
   "id": "28084de8-c048-459a-a43d-0484b4fe7aac",
   "metadata": {},
   "outputs": [
    {
     "name": "stdout",
     "output_type": "stream",
     "text": [
      "{} [] () set() \n",
      "<class 'dict'> <class 'list'> <class 'tuple'> <class 'set'> <class 'str'>\n"
     ]
    }
   ],
   "source": [
    "# example\n",
    "\n",
    "d={}; l=[]; t=(); s=set(); st=\"\"\n",
    "print(d,l,t,s,st)\n",
    "print(type(d), type(l), type(t), type(s), type(st))"
   ]
  },
  {
   "cell_type": "code",
   "execution_count": 25,
   "id": "fef56320-d7cd-438e-9fb0-777d23fc9646",
   "metadata": {},
   "outputs": [
    {
     "name": "stdout",
     "output_type": "stream",
     "text": [
      "{1: 'apple', 2: 'ball'}\n",
      "{1: 'hi', 'name': 666, 1.5: ('yes', 'very much'), 9: [3, 6, 9]}\n"
     ]
    }
   ],
   "source": [
    "# dictionary with integer keys\n",
    "my_dict1 = {1:'apple', 2:'ball'}\n",
    "print(my_dict1)\n",
    "\n",
    "# dictionary with mixed keys\n",
    "my_dict2 = {1:\"hi\", \"name\":666, 1.5:(\"yes\",\"very much\"), 9:[3,6,9]}\n",
    "print(my_dict2)"
   ]
  },
  {
   "cell_type": "code",
   "execution_count": 26,
   "id": "df4dd71e-9c6d-4ae9-92c0-99262323ba00",
   "metadata": {},
   "outputs": [
    {
     "data": {
      "text/plain": [
       "({1: 100, 'bar': 200}, {'foo': 100, 'bar': 200})"
      ]
     },
     "execution_count": 26,
     "metadata": {},
     "output_type": "execute_result"
    }
   ],
   "source": [
    "dict([(1, 100), ('bar',200)]), dict(foo=100, bar=200)"
   ]
  },
  {
   "cell_type": "code",
   "execution_count": 27,
   "id": "7e488acb-5fda-4919-a14f-1980b3819836",
   "metadata": {},
   "outputs": [
    {
     "name": "stdout",
     "output_type": "stream",
     "text": [
      "python\n",
      "gods language\n",
      "None\n"
     ]
    },
    {
     "ename": "KeyError",
     "evalue": "4",
     "output_type": "error",
     "traceback": [
      "\u001b[1;31m---------------------------------------------------------------------------\u001b[0m",
      "\u001b[1;31mKeyError\u001b[0m                                  Traceback (most recent call last)",
      "Cell \u001b[1;32mIn[27], line 13\u001b[0m\n\u001b[0;32m     10\u001b[0m \u001b[38;5;28mprint\u001b[39m(my_dict\u001b[38;5;241m.\u001b[39mget(\u001b[38;5;124m'\u001b[39m\u001b[38;5;124mc\u001b[39m\u001b[38;5;124m'\u001b[39m))\n\u001b[0;32m     12\u001b[0m \u001b[38;5;28mprint\u001b[39m(my_dict\u001b[38;5;241m.\u001b[39mget(\u001b[38;5;124m'\u001b[39m\u001b[38;5;124md\u001b[39m\u001b[38;5;124m'\u001b[39m)) \u001b[38;5;66;03m# none\u001b[39;00m\n\u001b[1;32m---> 13\u001b[0m \u001b[38;5;28mprint\u001b[39m(\u001b[43mmy_dict\u001b[49m\u001b[43m[\u001b[49m\u001b[38;5;241;43m4\u001b[39;49m\u001b[43m]\u001b[49m) \u001b[38;5;66;03m# error\u001b[39;00m\n",
      "\u001b[1;31mKeyError\u001b[0m: 4"
     ]
    }
   ],
   "source": [
    "# accessing the element from dictionary\n",
    "\n",
    "# using get vs [] \n",
    "my_dict = {1:'python', 2:'java', 3:'c++', 'c':'gods language'}\n",
    "\n",
    "# method1\n",
    "print(my_dict[1])\n",
    "\n",
    "# method2 \n",
    "print(my_dict.get('c'))\n",
    "\n",
    "print(my_dict.get('d')) # none\n",
    "print(my_dict[4]) # error"
   ]
  },
  {
   "cell_type": "code",
   "execution_count": 28,
   "id": "b010fb41-1713-4972-8865-d46e86a1bbbd",
   "metadata": {},
   "outputs": [
    {
     "name": "stdout",
     "output_type": "stream",
     "text": [
      "dict_keys([1, 2, 3, 'c'])\n",
      "python\n",
      "java\n",
      "c++\n",
      "gods language\n"
     ]
    }
   ],
   "source": [
    "# keys(): \n",
    "dict = {1:'python', 2:'java', 3:'c++', 'c':'gods language'}\n",
    "print(dict.keys())\n",
    "for x in dict.keys():\n",
    "    print(dict[x]) # to print values"
   ]
  },
  {
   "cell_type": "code",
   "execution_count": 29,
   "id": "43a0d46a-b23b-45b9-85b9-fcf207116afe",
   "metadata": {},
   "outputs": [
    {
     "name": "stdout",
     "output_type": "stream",
     "text": [
      "16\n",
      "{1: 1, 2: 4, 3: 9, 5: 25}\n"
     ]
    }
   ],
   "source": [
    "# removing elements from a dict\n",
    "\n",
    "squares = {1:1, 2:4, 3:9, 4:16, 5:25}\n",
    "# using pop(), returns value\n",
    "print(squares.pop(4)) # arg is key\n",
    "print(squares)"
   ]
  },
  {
   "cell_type": "code",
   "execution_count": 30,
   "id": "6a2fbbfe-a7d4-433b-aba5-0126bba15c9f",
   "metadata": {},
   "outputs": [
    {
     "name": "stdout",
     "output_type": "stream",
     "text": [
      "(5, 25)\n",
      "{1: 1, 2: 4, 3: 9}\n"
     ]
    }
   ],
   "source": [
    "print(squares.popitem()) # this will pop random elements \n",
    "print(squares)"
   ]
  },
  {
   "cell_type": "code",
   "execution_count": 31,
   "id": "a62c0f83-ed28-4cb9-9f72-88dfe540ed54",
   "metadata": {},
   "outputs": [
    {
     "name": "stdout",
     "output_type": "stream",
     "text": [
      "{}\n"
     ]
    }
   ],
   "source": [
    "squares.clear()\n",
    "print(squares)  # remove all items/ entry"
   ]
  },
  {
   "cell_type": "code",
   "execution_count": 32,
   "id": "15d0785d-05fd-443b-98a5-f7f32d0845cd",
   "metadata": {},
   "outputs": [
    {
     "ename": "NameError",
     "evalue": "name 'squares' is not defined",
     "output_type": "error",
     "traceback": [
      "\u001b[1;31m---------------------------------------------------------------------------\u001b[0m",
      "\u001b[1;31mNameError\u001b[0m                                 Traceback (most recent call last)",
      "Cell \u001b[1;32mIn[32], line 2\u001b[0m\n\u001b[0;32m      1\u001b[0m \u001b[38;5;28;01mdel\u001b[39;00m squares \u001b[38;5;66;03m# deletes the dictionary itself\u001b[39;00m\n\u001b[1;32m----> 2\u001b[0m \u001b[38;5;28mprint\u001b[39m(\u001b[43msquares\u001b[49m)\n",
      "\u001b[1;31mNameError\u001b[0m: name 'squares' is not defined"
     ]
    }
   ],
   "source": [
    "del squares # deletes the dictionary itself\n",
    "print(squares)"
   ]
  },
  {
   "cell_type": "code",
   "execution_count": 33,
   "id": "b1184b76-2901-4190-ac31-3d0a6ea032b7",
   "metadata": {},
   "outputs": [
    {
     "name": "stdout",
     "output_type": "stream",
     "text": [
      "False\n",
      "True\n",
      "6\n",
      "[0, 1, 3, 5, 7, 9]\n"
     ]
    }
   ],
   "source": [
    "# all(): returns True if all the keys of the dictionary are true ( or if dict is empty )\n",
    "# 0 is also consider as false\n",
    "# '0' is true\n",
    "squares = {0:0, 1:1, 3:9, 5:25, 7:49, 9:81}\n",
    "\n",
    "print(all(squares))\n",
    "print(any(squares))\n",
    "print(len(squares))\n",
    "print(sorted(squares))"
   ]
  },
  {
   "cell_type": "code",
   "execution_count": 34,
   "id": "b30f611f-7d86-4f17-b401-18bb23b6ec89",
   "metadata": {},
   "outputs": [
    {
     "name": "stdout",
     "output_type": "stream",
     "text": [
      "python\n"
     ]
    }
   ],
   "source": [
    "# str(dict): dunction produces a printable string representation of a dictionary\n",
    "\n",
    "my_dict = {1:'python', 2:'java', 3:'c++', 4:'php'}\n",
    "print(str(my_dict)[5:11])"
   ]
  },
  {
   "cell_type": "code",
   "execution_count": 35,
   "id": "9d6e13df-461b-4b22-94ca-992cc0c3ebfc",
   "metadata": {},
   "outputs": [
    {
     "name": "stdout",
     "output_type": "stream",
     "text": [
      "{'maths': 0, 'english': 0, 'science': 0}\n",
      "('maths', 0)\n",
      "('english', 0)\n",
      "('science', 0)\n",
      "['english', 'maths', 'science']\n"
     ]
    }
   ],
   "source": [
    "# fromkeys(): returns a new dictionary with keys from seq and values equal to v (defaults to None)\n",
    "marks = {}.fromkeys(['maths', 'english', 'science'], 0)\n",
    "print(marks)\n",
    "for item in marks.items():\n",
    "    print(item)\n",
    "print(list(sorted(marks.keys())))"
   ]
  },
  {
   "cell_type": "code",
   "execution_count": 36,
   "id": "ca1c4263-dd5f-4b66-aa7d-ead8ea560465",
   "metadata": {},
   "outputs": [
    {
     "name": "stdout",
     "output_type": "stream",
     "text": [
      "new_dict: {'python': None, 'c++': None, 'java': None}\n"
     ]
    }
   ],
   "source": [
    "seq = {'python', 'java', 'c++'}\n",
    "my_dict = my_dict.fromkeys(seq)\n",
    "print(\"new_dict: %s\" % str(my_dict))"
   ]
  },
  {
   "cell_type": "code",
   "execution_count": 37,
   "id": "6351fefe-fcc4-49be-9670-f0e5b8d4ef24",
   "metadata": {},
   "outputs": [
    {
     "name": "stdout",
     "output_type": "stream",
     "text": [
      "new_dict: {'python': 50, 'c++': 50, 'java': 50}\n"
     ]
    }
   ],
   "source": [
    "my_dict = my_dict.fromkeys(seq, 50)\n",
    "print(\"new_dict: %s\" % str(my_dict))"
   ]
  },
  {
   "cell_type": "code",
   "execution_count": 38,
   "id": "e45492f0-ad85-4ae4-8861-2cfd549c8c72",
   "metadata": {},
   "outputs": [
    {
     "name": "stdout",
     "output_type": "stream",
     "text": [
      "xyz\n",
      "MAS\n"
     ]
    }
   ],
   "source": [
    "# setdefault(): function is similar to get but will set dict[key] = default if key is not already in dict\n",
    "# syntax : dict.setdefault(key, default = None)\n",
    "# key --> this is the key to be searched\n",
    "# default --> this is the value to be return in case key is not found\n",
    "\n",
    "my_dict={'emp_name':'xyz', 'age':96,'emp_id':999}\n",
    "my_dict.setdefault('company','MAS')\n",
    "print(my_dict['emp_name'])\n",
    "print(my_dict['company'])"
   ]
  },
  {
   "cell_type": "markdown",
   "id": "84e57e60-e9b6-41f2-85f2-b21fd81fdbe2",
   "metadata": {},
   "source": [
    "### python dictionary comprehension\n",
    "- elegant and consice way to create a new dictionary from an iterable in python\n",
    "- for loop is used inside {} brackets"
   ]
  },
  {
   "cell_type": "code",
   "execution_count": 39,
   "id": "a63e755a-9fa0-429e-b454-43d87721c635",
   "metadata": {},
   "outputs": [
    {
     "name": "stdout",
     "output_type": "stream",
     "text": [
      "{0: 0, 1: 1, 2: 4, 3: 9, 4: 16, 5: 25}\n"
     ]
    }
   ],
   "source": [
    "# Example\n",
    "squares = {x:x*x for x in range(6)}\n",
    "print(squares)"
   ]
  },
  {
   "cell_type": "code",
   "execution_count": 40,
   "id": "578b450e-d72f-417c-82b0-4dc5b2921539",
   "metadata": {},
   "outputs": [
    {
     "name": "stdout",
     "output_type": "stream",
     "text": [
      "{0: 0, 1: 1, 2: 4, 3: 9, 4: 16, 5: 25}\n"
     ]
    }
   ],
   "source": [
    "# this code is equivalent to \n",
    "squares = {}\n",
    "for x in range(6):\n",
    "    squares[x] = x*x # squares[x] = x = x*x\n",
    "print(squares)"
   ]
  },
  {
   "cell_type": "code",
   "execution_count": 41,
   "id": "490182a4-abe5-45d2-8200-cc326685765f",
   "metadata": {},
   "outputs": [
    {
     "name": "stdout",
     "output_type": "stream",
     "text": [
      "{1: 1, 3: 9, 5: 25, 7: 49, 9: 81}\n"
     ]
    }
   ],
   "source": [
    "# if condition\n",
    "\n",
    "odd_squares = {x:x*x for x in range(11) if x%2!=0}\n",
    "print(odd_squares)"
   ]
  },
  {
   "cell_type": "code",
   "execution_count": 42,
   "id": "0380be8f-fe7b-4dcf-8f32-e4b3f0b7a5f6",
   "metadata": {},
   "outputs": [
    {
     "name": "stdout",
     "output_type": "stream",
     "text": [
      "True\n"
     ]
    }
   ],
   "source": [
    "# dictionary membership test\n",
    "\n",
    "squares = {1:1, 3:9, 5:25, 7:49, 8:64}\n",
    "\n",
    "print(1 in squares)"
   ]
  },
  {
   "cell_type": "code",
   "execution_count": 43,
   "id": "4cab0495-2b87-44bf-a945-41567af91830",
   "metadata": {},
   "outputs": [
    {
     "name": "stdout",
     "output_type": "stream",
     "text": [
      "False\n"
     ]
    }
   ],
   "source": [
    "print(2 in squares)"
   ]
  },
  {
   "cell_type": "code",
   "execution_count": 44,
   "id": "620992fd-c0c2-4da4-bb27-66f0eb3bba86",
   "metadata": {},
   "outputs": [
    {
     "name": "stdout",
     "output_type": "stream",
     "text": [
      "False\n"
     ]
    }
   ],
   "source": [
    "# membership test on;ly for keys\n",
    "print(49 in squares)"
   ]
  },
  {
   "cell_type": "code",
   "execution_count": 45,
   "id": "19f859ce-b7ff-4cec-ab77-09d9db88dc2b",
   "metadata": {},
   "outputs": [
    {
     "name": "stdout",
     "output_type": "stream",
     "text": [
      "{1, 2, 3, 4}\n",
      "{1.0, 'hello', (1, 2, 3)}\n"
     ]
    }
   ],
   "source": [
    "# sets \n",
    "set1 = {1,2,3,4}\n",
    "print(set1)\n",
    "# mixed datatypes\n",
    "set2 = {1.0, \"hello\", (1,2,3)}\n",
    "print(set2)"
   ]
  },
  {
   "cell_type": "code",
   "execution_count": 46,
   "id": "d8559ad6-aaa2-491d-a769-d07ac87685fd",
   "metadata": {},
   "outputs": [
    {
     "name": "stdout",
     "output_type": "stream",
     "text": [
      "{1, 2, 3, 4}\n"
     ]
    }
   ],
   "source": [
    "my_set = {1,2,3,4,3,2}\n",
    "print(my_set)"
   ]
  },
  {
   "cell_type": "code",
   "execution_count": 47,
   "id": "5a32c101-426b-4c5d-a084-cd235bfff2f9",
   "metadata": {},
   "outputs": [
    {
     "name": "stdout",
     "output_type": "stream",
     "text": [
      "{1, 2, 3, 4}\n"
     ]
    }
   ],
   "source": [
    "# set from list\n",
    "my_set = set([1,2,3,4,2,1]) \n",
    "print(my_set)"
   ]
  },
  {
   "cell_type": "code",
   "execution_count": 48,
   "id": "7606c4fe-469f-472a-81fe-00dfb710f298",
   "metadata": {},
   "outputs": [
    {
     "name": "stdout",
     "output_type": "stream",
     "text": [
      "{1, 2, (3, 4)}\n"
     ]
    }
   ],
   "source": [
    "# set can have immutable items\n",
    "# here (3,4) is an immutable tuple\n",
    "\n",
    "my_set = {1,2,(3,4)}\n",
    "print(my_set)"
   ]
  },
  {
   "cell_type": "code",
   "execution_count": 49,
   "id": "d262ec0a-3d12-445d-978a-663537dbe974",
   "metadata": {},
   "outputs": [
    {
     "ename": "TypeError",
     "evalue": "unhashable type: 'list'",
     "output_type": "error",
     "traceback": [
      "\u001b[1;31m---------------------------------------------------------------------------\u001b[0m",
      "\u001b[1;31mTypeError\u001b[0m                                 Traceback (most recent call last)",
      "Cell \u001b[1;32mIn[49], line 4\u001b[0m\n\u001b[0;32m      1\u001b[0m \u001b[38;5;66;03m# set cannot have mutable items\u001b[39;00m\n\u001b[0;32m      2\u001b[0m \u001b[38;5;66;03m# here [3,4] is a mutable list\u001b[39;00m\n\u001b[1;32m----> 4\u001b[0m my_set \u001b[38;5;241m=\u001b[39m {\u001b[38;5;241m1\u001b[39m,\u001b[38;5;241m2\u001b[39m,[\u001b[38;5;241m3\u001b[39m,\u001b[38;5;241m4\u001b[39m]}\n",
      "\u001b[1;31mTypeError\u001b[0m: unhashable type: 'list'"
     ]
    }
   ],
   "source": [
    "# set cannot have mutable items\n",
    "# here [3,4] is a mutable list\n",
    "\n",
    "my_set = {1,2,[3,4]}"
   ]
  },
  {
   "cell_type": "code",
   "execution_count": 50,
   "id": "162f00f4-17fa-44dc-8cfc-23fde3c0a8ed",
   "metadata": {},
   "outputs": [
    {
     "name": "stdout",
     "output_type": "stream",
     "text": [
      "<class 'dict'>\n",
      "<class 'set'>\n"
     ]
    }
   ],
   "source": [
    "a = {}\n",
    "print(type(a))\n",
    "\n",
    "b = set()\n",
    "print(type(b))"
   ]
  },
  {
   "cell_type": "code",
   "execution_count": 51,
   "id": "52b4cfb4-b2ec-490a-a29a-16c245627fa1",
   "metadata": {},
   "outputs": [
    {
     "name": "stdout",
     "output_type": "stream",
     "text": [
      "{1, 3}\n",
      "{1, 2, 3}\n"
     ]
    }
   ],
   "source": [
    "my_set = {1,3}\n",
    "print(my_set)\n",
    "\n",
    "# add an element\n",
    "my_set.add(2)\n",
    "print(my_set)"
   ]
  },
  {
   "cell_type": "code",
   "execution_count": 52,
   "id": "66e0b751-9200-406c-8bce-f79d14f09331",
   "metadata": {},
   "outputs": [
    {
     "name": "stdout",
     "output_type": "stream",
     "text": [
      "{1, 2, 3, 4}\n"
     ]
    }
   ],
   "source": [
    "# add multiple items\n",
    "my_set.update([2,3,4])\n",
    "print(my_set)"
   ]
  },
  {
   "cell_type": "code",
   "execution_count": 53,
   "id": "dfa518f9-85c0-4eee-b38f-cb429ffa8789",
   "metadata": {},
   "outputs": [
    {
     "name": "stdout",
     "output_type": "stream",
     "text": [
      "{1, 2, 3, 4, 5, 7, 8, 9, 10}\n"
     ]
    }
   ],
   "source": [
    "my_set.update([1,7],(8,9,10),{1,3,5,7})\n",
    "print(my_set)"
   ]
  },
  {
   "cell_type": "code",
   "execution_count": 54,
   "id": "a6a4cb9c-5371-4827-b49b-05b12b01dde0",
   "metadata": {},
   "outputs": [
    {
     "name": "stdout",
     "output_type": "stream",
     "text": [
      "{1, 2, 3, 4, 5}\n"
     ]
    }
   ],
   "source": [
    "# removing elements using discard() and remove()\n",
    "\n",
    "my_set = {1,2,3,4,5,6}\n",
    "\n",
    "# remove an element\n",
    "my_set.remove(6)\n",
    "print(my_set)"
   ]
  },
  {
   "cell_type": "code",
   "execution_count": 55,
   "id": "843c8e8e-8147-44bd-af32-7c2db25c1a7a",
   "metadata": {},
   "outputs": [
    {
     "name": "stdout",
     "output_type": "stream",
     "text": [
      "{1, 2, 3, 4, 5}\n"
     ]
    }
   ],
   "source": [
    "# discard() element not present in my_set\n",
    "my_set.discard(7)\n",
    "print(my_set)"
   ]
  },
  {
   "cell_type": "code",
   "execution_count": 56,
   "id": "57ec7c6b-2b4d-43df-9871-15ac645d1781",
   "metadata": {},
   "outputs": [
    {
     "name": "stdout",
     "output_type": "stream",
     "text": [
      "{1, 2, 3, 4, 5, 6, 7, 8}\n"
     ]
    }
   ],
   "source": [
    "# pop(): since sets are unordered so pop() will be random\n",
    "\n",
    "# union() : A|B or A.union(B)\n",
    "\n",
    "A = {1,2,3,4}\n",
    "B = {5,6,7,8}\n",
    "\n",
    "print(A|B)"
   ]
  },
  {
   "cell_type": "code",
   "execution_count": 57,
   "id": "07c7bf3d-e549-48fc-8278-4e58d799b7c7",
   "metadata": {},
   "outputs": [
    {
     "name": "stdout",
     "output_type": "stream",
     "text": [
      "{1, 2, 3, 4, 5, 6, 7, 8}\n"
     ]
    }
   ],
   "source": [
    "print(A.union(B))"
   ]
  },
  {
   "cell_type": "code",
   "execution_count": 58,
   "id": "07e9902a-5655-4c91-a08f-db91fcb493d9",
   "metadata": {},
   "outputs": [
    {
     "name": "stdout",
     "output_type": "stream",
     "text": [
      "set()\n"
     ]
    }
   ],
   "source": [
    "# for intersection use & and A.intersection(B)\n",
    "A={1,2,3,4}\n",
    "B={5,6,7,8}\n",
    "print(A&B)"
   ]
  },
  {
   "cell_type": "code",
   "execution_count": 59,
   "id": "5acf399c-9f75-4ca4-8e04-900c703cc021",
   "metadata": {},
   "outputs": [],
   "source": [
    "# A.difference(B) : or A-B or B-A\n",
    "# symmetrix difference using ^ operator also symmetric_difference()"
   ]
  },
  {
   "cell_type": "code",
   "execution_count": 60,
   "id": "5ef896be-e18a-4a47-a7b1-5d6648b78d84",
   "metadata": {},
   "outputs": [
    {
     "name": "stdout",
     "output_type": "stream",
     "text": [
      "{3, 5}\n"
     ]
    }
   ],
   "source": [
    "A = {1,2,4,5,6}\n",
    "B = {3,4,6,2,4,1}\n",
    "\n",
    "print(A^B)"
   ]
  },
  {
   "cell_type": "code",
   "execution_count": 61,
   "id": "56b82ed5-8947-4941-8361-729b8b0a70a4",
   "metadata": {},
   "outputs": [
    {
     "name": "stdout",
     "output_type": "stream",
     "text": [
      "{3, 5}\n"
     ]
    }
   ],
   "source": [
    "print(A.symmetric_difference(B))"
   ]
  },
  {
   "cell_type": "markdown",
   "id": "15098a00-0483-44ee-ab34-f4483ba7e273",
   "metadata": {},
   "source": [
    "### python Frozenset\n",
    "- Frozenset is a new class that has the characteristics of a set, but its elements cannot be changed once assigned\n",
    "- while tuples are immutable lists, frozensets are immutable sets\n",
    "- sets being mutable are unhashable, so they cant be used as dictionary keys.\n",
    "- on the other hand, frozensets are hashable and can ne used as keys to a dictionary\n",
    "- frozensets can be created using the frozenset() function\n",
    "- the frozenset() function returns an immutabl;e frozenset object initialized with elements from the given iterable\n",
    "- This datatype supports methods like copy(), difference(), intersection(), isdisjoint(), issubset(), issuperset(), symmetric_difference() and union()\n",
    "- syntax : frozenset([iterable])"
   ]
  },
  {
   "cell_type": "code",
   "execution_count": 62,
   "id": "783d72b0-1262-48c1-a4ff-8104a3f707bc",
   "metadata": {},
   "outputs": [],
   "source": [
    "# example:\n",
    "A = frozenset([1,2,3,4])\n",
    "B = frozenset([3,4,5,6])"
   ]
  },
  {
   "cell_type": "code",
   "execution_count": 64,
   "id": "b19567df-f89c-4de8-932f-4a444d61ca41",
   "metadata": {},
   "outputs": [
    {
     "data": {
      "text/plain": [
       "False"
      ]
     },
     "execution_count": 64,
     "metadata": {},
     "output_type": "execute_result"
    }
   ],
   "source": [
    "# isdisjoint(): Returns True if two sets have a null intersection\n",
    "A.isdisjoint(B)"
   ]
  },
  {
   "cell_type": "code",
   "execution_count": 65,
   "id": "67ebe259-1874-4b60-a13e-6649d32d0793",
   "metadata": {},
   "outputs": [
    {
     "data": {
      "text/plain": [
       "frozenset({1, 2})"
      ]
     },
     "execution_count": 65,
     "metadata": {},
     "output_type": "execute_result"
    }
   ],
   "source": [
    "A.difference(B)"
   ]
  },
  {
   "cell_type": "code",
   "execution_count": 67,
   "id": "25a83f1a-32a2-46e7-8b42-9322c17cf825",
   "metadata": {},
   "outputs": [
    {
     "data": {
      "text/plain": [
       "frozenset({1, 2, 3, 4, 5, 6})"
      ]
     },
     "execution_count": 67,
     "metadata": {},
     "output_type": "execute_result"
    }
   ],
   "source": [
    "# union of two sets\n",
    "A|B "
   ]
  },
  {
   "cell_type": "code",
   "execution_count": 68,
   "id": "856b0fb8-3e3a-4502-b230-a98c1bd62815",
   "metadata": {},
   "outputs": [
    {
     "ename": "AttributeError",
     "evalue": "'frozenset' object has no attribute 'add'",
     "output_type": "error",
     "traceback": [
      "\u001b[1;31m---------------------------------------------------------------------------\u001b[0m",
      "\u001b[1;31mAttributeError\u001b[0m                            Traceback (most recent call last)",
      "Cell \u001b[1;32mIn[68], line 1\u001b[0m\n\u001b[1;32m----> 1\u001b[0m \u001b[43mA\u001b[49m\u001b[38;5;241;43m.\u001b[39;49m\u001b[43madd\u001b[49m(\u001b[38;5;241m3\u001b[39m)\n",
      "\u001b[1;31mAttributeError\u001b[0m: 'frozenset' object has no attribute 'add'"
     ]
    }
   ],
   "source": [
    "A.add(3)"
   ]
  },
  {
   "cell_type": "code",
   "execution_count": 69,
   "id": "a1836fe3-2695-4802-9b12-83effcd9e882",
   "metadata": {},
   "outputs": [
    {
     "name": "stdout",
     "output_type": "stream",
     "text": [
      "frozenset({1, 2, 3, 4})\n",
      "frozenset({1, 2, 3, 4, 5, 6})\n",
      "frozenset({3, 4})\n",
      "frozenset({1, 2})\n",
      "frozenset({1, 2, 5, 6})\n"
     ]
    }
   ],
   "source": [
    "A = frozenset([1,2,3,4])\n",
    "B = frozenset([3,4,5,6])\n",
    "\n",
    "# copyng a frozen set\n",
    "C = A.copy()\n",
    "print(C)\n",
    "\n",
    "# union\n",
    "print(A.union(B))\n",
    "\n",
    "# intersection\n",
    "print(A.intersection(B))\n",
    "\n",
    "# difference\n",
    "print(A.difference(B))\n",
    "\n",
    "# symmetric_difference\n",
    "print(A.symmetric_difference(B))"
   ]
  },
  {
   "cell_type": "code",
   "execution_count": 70,
   "id": "450aaa0b-612d-40d2-a304-722ae7c5a2a3",
   "metadata": {},
   "outputs": [
    {
     "name": "stdout",
     "output_type": "stream",
     "text": [
      "True\n",
      "True\n",
      "True\n"
     ]
    }
   ],
   "source": [
    "A = frozenset([1,2,3,4])\n",
    "B = frozenset([3,4,5,6])\n",
    "C = frozenset([5,6])\n",
    "\n",
    "# isdisjoint()\n",
    "print(A.isdisjoint(C))\n",
    "\n",
    "# issubset()\n",
    "print(C.issubset(B))\n",
    "\n",
    "# issuperset() method\n",
    "print(B.issuperset(C))"
   ]
  },
  {
   "cell_type": "code",
   "execution_count": null,
   "id": "196e181b-a5dc-4a88-ae9c-5db853ad18af",
   "metadata": {},
   "outputs": [],
   "source": []
  }
 ],
 "metadata": {
  "kernelspec": {
   "display_name": "Python 3 (ipykernel)",
   "language": "python",
   "name": "python3"
  },
  "language_info": {
   "codemirror_mode": {
    "name": "ipython",
    "version": 3
   },
   "file_extension": ".py",
   "mimetype": "text/x-python",
   "name": "python",
   "nbconvert_exporter": "python",
   "pygments_lexer": "ipython3",
   "version": "3.12.3"
  }
 },
 "nbformat": 4,
 "nbformat_minor": 5
}
