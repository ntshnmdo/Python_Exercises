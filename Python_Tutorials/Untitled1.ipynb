{
 "cells": [
  {
   "cell_type": "code",
   "execution_count": 1,
   "id": "ea7dc419-383b-41ef-9270-7493db49bd0f",
   "metadata": {},
   "outputs": [],
   "source": [
    "### iterative approach\n",
    "def factorial_iterative(n):\n",
    "    result = 1\n",
    "    for i in range(1, n+1):\n",
    "        result *= i\n",
    "    return result"
   ]
  },
  {
   "cell_type": "code",
   "execution_count": 2,
   "id": "8ef0a56e-a88a-49c0-a615-e1a3cc21071e",
   "metadata": {},
   "outputs": [
    {
     "name": "stdout",
     "output_type": "stream",
     "text": [
      "Factorial of 6 (iterative): 720\n"
     ]
    }
   ],
   "source": [
    "num = 6\n",
    "print(f\"Factorial of {num} (iterative): {factorial_iterative(num)}\")"
   ]
  },
  {
   "cell_type": "code",
   "execution_count": 3,
   "id": "ccb81f20-a30f-4ce8-bcf3-218f0e31654e",
   "metadata": {},
   "outputs": [],
   "source": [
    "### recursive approach\n",
    "def factorial_recursive(n):\n",
    "    if n==0 or n==1:\n",
    "        return 1\n",
    "    else:\n",
    "        return n*factorial_recursive(n-1)"
   ]
  },
  {
   "cell_type": "code",
   "execution_count": 4,
   "id": "0a7e5dd1-1589-44eb-9eae-0722e0c5bd3d",
   "metadata": {},
   "outputs": [
    {
     "name": "stdout",
     "output_type": "stream",
     "text": [
      "Factorial of 6 (recursive): 720\n"
     ]
    }
   ],
   "source": [
    "num = 6\n",
    "print(f\"Factorial of {num} (recursive): {factorial_recursive(num)}\")"
   ]
  },
  {
   "cell_type": "code",
   "execution_count": 5,
   "id": "87a45304-a14b-4e3d-96c6-8e48831e8198",
   "metadata": {},
   "outputs": [],
   "source": [
    "def squareof2(n, sq):\n",
    "    for i in range(0, n):\n",
    "        if sq==2**i:\n",
    "            return true\n",
    "        else:\n",
    "            return false"
   ]
  },
  {
   "cell_type": "code",
   "execution_count": 6,
   "id": "23538df2-7b9d-4a81-85b5-6b0f2acb7613",
   "metadata": {},
   "outputs": [
    {
     "ename": "TypeError",
     "evalue": "squareof2() missing 1 required positional argument: 'sq'",
     "output_type": "error",
     "traceback": [
      "\u001b[1;31m---------------------------------------------------------------------------\u001b[0m",
      "\u001b[1;31mTypeError\u001b[0m                                 Traceback (most recent call last)",
      "Cell \u001b[1;32mIn[6], line 2\u001b[0m\n\u001b[0;32m      1\u001b[0m num \u001b[38;5;241m=\u001b[39m \u001b[38;5;241m64\u001b[39m\n\u001b[1;32m----> 2\u001b[0m \u001b[38;5;28mprint\u001b[39m(\u001b[38;5;124mf\u001b[39m\u001b[38;5;124m\"\u001b[39m\u001b[38;5;132;01m{\u001b[39;00mnum\u001b[38;5;132;01m}\u001b[39;00m\u001b[38;5;124m: \u001b[39m\u001b[38;5;132;01m{\u001b[39;00m\u001b[43msquareof2\u001b[49m\u001b[43m(\u001b[49m\u001b[43mnum\u001b[49m\u001b[43m)\u001b[49m\u001b[38;5;132;01m}\u001b[39;00m\u001b[38;5;124m\"\u001b[39m)\n",
      "\u001b[1;31mTypeError\u001b[0m: squareof2() missing 1 required positional argument: 'sq'"
     ]
    }
   ],
   "source": [
    "num = 64\n",
    "print(f\"{num}: {squareof2(num)}\")"
   ]
  },
  {
   "cell_type": "code",
   "execution_count": 7,
   "id": "ad092313-08e2-4960-b0d6-0f4722c44859",
   "metadata": {},
   "outputs": [
    {
     "name": "stdout",
     "output_type": "stream",
     "text": [
      "Is 16 a power of 2? True\n",
      "Is 18 a power of 2? False\n"
     ]
    }
   ],
   "source": [
    "def is_power_of_two(n):\n",
    "    if n <= 0:\n",
    "        return False\n",
    "    return (n & (n - 1)) == 0\n",
    "\n",
    "# Example usage\n",
    "num = 16\n",
    "print(f\"Is {num} a power of 2? {is_power_of_two(num)}\")\n",
    "\n",
    "num = 18\n",
    "print(f\"Is {num} a power of 2? {is_power_of_two(num)}\")\n"
   ]
  },
  {
   "cell_type": "code",
   "execution_count": null,
   "id": "50e9626c-3f69-4acb-b76e-6f6a2c47899d",
   "metadata": {},
   "outputs": [],
   "source": []
  }
 ],
 "metadata": {
  "kernelspec": {
   "display_name": "Python 3 (ipykernel)",
   "language": "python",
   "name": "python3"
  },
  "language_info": {
   "codemirror_mode": {
    "name": "ipython",
    "version": 3
   },
   "file_extension": ".py",
   "mimetype": "text/x-python",
   "name": "python",
   "nbconvert_exporter": "python",
   "pygments_lexer": "ipython3",
   "version": "3.12.3"
  }
 },
 "nbformat": 4,
 "nbformat_minor": 5
}
