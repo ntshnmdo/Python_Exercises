{
 "cells": [
  {
   "cell_type": "code",
   "execution_count": 1,
   "id": "0755f90a-4587-437e-8810-e4a9f14be059",
   "metadata": {},
   "outputs": [
    {
     "name": "stdout",
     "output_type": "stream",
     "text": [
      "[1, 3, 4, 5, 2, 7]\n",
      "[1, 3, 4, 5, 2, 7, 'Python']\n",
      "[1, 3, 5, 2, 7, 'Python']\n",
      "[1, 3, 'three', 5, 2, 7, 'Python']\n",
      "7\n",
      "['Python', 7, 2, 5, 'three', 3, 1]\n",
      "['a', 'd', 'f', 'r', 's']\n"
     ]
    }
   ],
   "source": [
    "### LIST\n",
    "a = [1,3,4,5,2,7] # list have integers\n",
    "print(a)\n",
    "\n",
    "# append\n",
    "a.append(\"Python\")\n",
    "print(a)\n",
    "\n",
    "# popping out\n",
    "a.pop(2)\n",
    "print(a)\n",
    "\n",
    "#insert\n",
    "a.insert(2, \"three\")\n",
    "print(a)\n",
    "\n",
    "#number of element\n",
    "print(len(a))\n",
    "\n",
    "# reversing \n",
    "a.reverse()\n",
    "print(a)\n",
    "\n",
    "a = [\"a\", \"s\", \"f\", \"d\", \"r\"]\n",
    "a.sort()\n",
    "print(a)"
   ]
  },
  {
   "cell_type": "code",
   "execution_count": 8,
   "id": "d7c4ad4d-5228-466f-ada3-66d78a8c18c7",
   "metadata": {},
   "outputs": [
    {
     "ename": "TypeError",
     "evalue": "'int' object is not callable",
     "output_type": "error",
     "traceback": [
      "\u001b[1;31m---------------------------------------------------------------------------\u001b[0m",
      "\u001b[1;31mTypeError\u001b[0m                                 Traceback (most recent call last)",
      "Cell \u001b[1;32mIn[8], line 3\u001b[0m\n\u001b[0;32m      1\u001b[0m \u001b[38;5;66;03m### tuples \u001b[39;00m\n\u001b[0;32m      2\u001b[0m t \u001b[38;5;241m=\u001b[39m (\u001b[38;5;124m'\u001b[39m\u001b[38;5;124m2\u001b[39m\u001b[38;5;124m'\u001b[39m,\u001b[38;5;124m'\u001b[39m\u001b[38;5;124mpython\u001b[39m\u001b[38;5;124m'\u001b[39m, \u001b[38;5;241m9\u001b[39m,\u001b[38;5;241m9\u001b[39m,\u001b[38;5;241m9\u001b[39m,\u001b[38;5;241m1\u001b[39m,\u001b[38;5;241m2\u001b[39m,\u001b[38;5;241m2\u001b[39m)\n\u001b[1;32m----> 3\u001b[0m \u001b[38;5;28;43mprint\u001b[39;49m\u001b[43m(\u001b[49m\u001b[43mt\u001b[49m\u001b[43m)\u001b[49m\n\u001b[0;32m      4\u001b[0m \u001b[38;5;28mprint\u001b[39m(t\u001b[38;5;241m.\u001b[39mindex(\u001b[38;5;124m\"\u001b[39m\u001b[38;5;124mpython\u001b[39m\u001b[38;5;124m\"\u001b[39m))\n\u001b[0;32m      5\u001b[0m \u001b[38;5;28mprint\u001b[39m(t\u001b[38;5;241m.\u001b[39mcount(\u001b[38;5;241m9\u001b[39m))\n",
      "\u001b[1;31mTypeError\u001b[0m: 'int' object is not callable"
     ]
    }
   ],
   "source": [
    "### tuples \n",
    "t = ('2','python', 9,9,9,1,2,2)\n",
    "print(t)\n",
    "print(t.index(\"python\"))\n",
    "print(t.count(9))"
   ]
  },
  {
   "cell_type": "code",
   "execution_count": null,
   "id": "c3dccaf3-5e90-461f-a968-643eb434ec1f",
   "metadata": {},
   "outputs": [],
   "source": [
    "### sets\n",
    "A = {\"i\", \"love\", \"python\"} # check the order of declaration\n",
    "print(A)\n",
    "#Few sets method\n",
    "#add()\n",
    "A.add(\"you?\")\n",
    "print(A)\n",
    "#pop()\n",
    "A.pop()\n",
    "print(A)\n",
    "pop_return_value = A.pop()\n",
    "print(\"Popped out '\", pop_return_value,\"' from set A\")\n",
    "\n",
    "setA = {1,2,3,'b'}\n",
    "setB = {'a'"
   ]
  },
  {
   "cell_type": "code",
   "execution_count": null,
   "id": "90c769d4-6992-485f-87cc-87aa1b941c5c",
   "metadata": {},
   "outputs": [],
   "source": []
  }
 ],
 "metadata": {
  "kernelspec": {
   "display_name": "Python 3 (ipykernel)",
   "language": "python",
   "name": "python3"
  },
  "language_info": {
   "codemirror_mode": {
    "name": "ipython",
    "version": 3
   },
   "file_extension": ".py",
   "mimetype": "text/x-python",
   "name": "python",
   "nbconvert_exporter": "python",
   "pygments_lexer": "ipython3",
   "version": "3.12.3"
  }
 },
 "nbformat": 4,
 "nbformat_minor": 5
}
