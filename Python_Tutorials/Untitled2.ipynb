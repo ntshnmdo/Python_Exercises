{
 "cells": [
  {
   "cell_type": "code",
   "execution_count": 7,
   "id": "141f01d6-9df2-4521-a8d2-0d4bda1b6c24",
   "metadata": {},
   "outputs": [
    {
     "name": "stdout",
     "output_type": "stream",
     "text": [
      "* * * * * \n",
      "* * * * * \n",
      "* * * * * \n",
      "* * * * * \n",
      "* * * * * \n"
     ]
    }
   ],
   "source": [
    "# Function to print the pattern\n",
    "def print_star_pattern():\n",
    "    # Number of rows\n",
    "    num_rows = 5\n",
    "    # Number of stars in each row\n",
    "    num_stars = 5\n",
    "    \n",
    "    for i in range(num_rows):\n",
    "        print('* ' * num_stars)\n",
    "\n",
    "# Call the function to print the pattern\n",
    "print_star_pattern()\n"
   ]
  },
  {
   "cell_type": "code",
   "execution_count": 8,
   "id": "832a1ec9-3e77-4354-a81c-13dfe3070cd4",
   "metadata": {},
   "outputs": [
    {
     "name": "stdout",
     "output_type": "stream",
     "text": [
      "* \n",
      "* * \n",
      "* * * \n",
      "* * * * \n",
      "* * * * * \n"
     ]
    }
   ],
   "source": [
    "def print_star_pattern():\n",
    "    num_rows = 5\n",
    "    for i in range (1, num_rows+1):\n",
    "        print('* ' * i)\n",
    "print_star_pattern()"
   ]
  },
  {
   "cell_type": "code",
   "execution_count": 14,
   "id": "fd6bd1d6-da89-44df-abc5-bcd93a7fd649",
   "metadata": {},
   "outputs": [
    {
     "name": "stdout",
     "output_type": "stream",
     "text": [
      "1\n",
      "12\n",
      "123\n",
      "1234\n",
      "12345\n"
     ]
    }
   ],
   "source": [
    "def print_half_pyramid(n):\n",
    "    for i in range (1, n+1):\n",
    "        for j in range (1, i+1):\n",
    "            print(j, end=\"\")\n",
    "        print()\n",
    "\n",
    "print_half_pyramid(5)"
   ]
  },
  {
   "cell_type": "code",
   "execution_count": 15,
   "id": "91b825d6-018a-421d-9786-fe32c7f81bb5",
   "metadata": {},
   "outputs": [
    {
     "name": "stdout",
     "output_type": "stream",
     "text": [
      "1\n",
      "22\n",
      "333\n",
      "4444\n",
      "55555\n"
     ]
    }
   ],
   "source": [
    "def print_pattern(n):\n",
    "    for i in range(1, n+1):\n",
    "        for j in range (1, i+1):\n",
    "            print(i, end=\"\")\n",
    "        print()\n",
    "print_pattern(5)"
   ]
  },
  {
   "cell_type": "code",
   "execution_count": null,
   "id": "57bdd4df-a7c3-4b19-a443-ea6bed03a653",
   "metadata": {},
   "outputs": [],
   "source": []
  }
 ],
 "metadata": {
  "kernelspec": {
   "display_name": "Python 3 (ipykernel)",
   "language": "python",
   "name": "python3"
  },
  "language_info": {
   "codemirror_mode": {
    "name": "ipython",
    "version": 3
   },
   "file_extension": ".py",
   "mimetype": "text/x-python",
   "name": "python",
   "nbconvert_exporter": "python",
   "pygments_lexer": "ipython3",
   "version": "3.12.3"
  }
 },
 "nbformat": 4,
 "nbformat_minor": 5
}
