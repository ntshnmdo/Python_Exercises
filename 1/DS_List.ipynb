{
 "cells": [
  {
   "cell_type": "markdown",
   "id": "57c3bed8-00a0-4edc-963f-87e901cbca8d",
   "metadata": {},
   "source": [
    "# List Data Structure"
   ]
  },
  {
   "cell_type": "code",
   "execution_count": 1,
   "id": "fadb443e-5383-496f-afbe-da5a4158a6a2",
   "metadata": {},
   "outputs": [
    {
     "data": {
      "text/plain": [
       "[4, 8, 9, 12, 11]"
      ]
     },
     "execution_count": 1,
     "metadata": {},
     "output_type": "execute_result"
    }
   ],
   "source": [
    "L = [4,8,9,12,11]\n",
    "L"
   ]
  },
  {
   "cell_type": "code",
   "execution_count": 3,
   "id": "1a301a24-6256-49ef-a953-5aa936d0324f",
   "metadata": {},
   "outputs": [
    {
     "data": {
      "text/plain": [
       "[12, 5.67, 'A']"
      ]
     },
     "execution_count": 3,
     "metadata": {},
     "output_type": "execute_result"
    }
   ],
   "source": [
    "list1 = [12,5.67,'A']\n",
    "list1"
   ]
  },
  {
   "cell_type": "code",
   "execution_count": 4,
   "id": "78d78cb2-8f65-4186-9696-7441e70e1afe",
   "metadata": {},
   "outputs": [
    {
     "data": {
      "text/plain": [
       "['eng', 'hindi', 'maths', 'sci', 'sst']"
      ]
     },
     "execution_count": 4,
     "metadata": {},
     "output_type": "execute_result"
    }
   ],
   "source": [
    "list2 = ['eng', 'hindi', 'maths', 'sci', 'sst']\n",
    "list2"
   ]
  },
  {
   "cell_type": "code",
   "execution_count": 5,
   "id": "f722329b-be65-4dff-81d8-3ac2cad2f0cf",
   "metadata": {},
   "outputs": [
    {
     "data": {
      "text/plain": [
       "[4, 8, 10, 12, 11]"
      ]
     },
     "execution_count": 5,
     "metadata": {},
     "output_type": "execute_result"
    }
   ],
   "source": [
    "L[2] = 10\n",
    "L"
   ]
  },
  {
   "cell_type": "markdown",
   "id": "5ca07469-9708-4502-bc1b-797388340cd8",
   "metadata": {},
   "source": [
    "### List Methods and Built-in functions"
   ]
  },
  {
   "cell_type": "code",
   "execution_count": 6,
   "id": "76f75460-e86d-47c7-9bc7-be9ddc355b84",
   "metadata": {},
   "outputs": [
    {
     "data": {
      "text/plain": [
       "5"
      ]
     },
     "execution_count": 6,
     "metadata": {},
     "output_type": "execute_result"
    }
   ],
   "source": [
    "# len(): counts and returns total no of elements in a list as length\n",
    "\n",
    "list2 = ['eng', 'hindi', 'maths', 'sci', 'sst']\n",
    "len(list2)"
   ]
  },
  {
   "cell_type": "code",
   "execution_count": 10,
   "id": "fb153149-565b-4bff-9c7f-356bd6ca7bf5",
   "metadata": {},
   "outputs": [
    {
     "data": {
      "text/plain": [
       "[]"
      ]
     },
     "execution_count": 10,
     "metadata": {},
     "output_type": "execute_result"
    }
   ],
   "source": [
    "# list(): create an empty or list with items\n",
    "\n",
    "L = list()\n",
    "L"
   ]
  },
  {
   "cell_type": "code",
   "execution_count": 11,
   "id": "925e82d3-f47c-4bb7-9767-3a1034026273",
   "metadata": {},
   "outputs": [
    {
     "data": {
      "text/plain": [
       "['t', 'e', 'c', 'h', 't', 'i', 'n', 'o', 'w']"
      ]
     },
     "execution_count": 11,
     "metadata": {},
     "output_type": "execute_result"
    }
   ],
   "source": [
    "L = list(\"techtinow\")\n",
    "L"
   ]
  },
  {
   "cell_type": "code",
   "execution_count": 12,
   "id": "ff2db5ed-e722-4b93-871e-9e2a6480f34c",
   "metadata": {},
   "outputs": [
    {
     "data": {
      "text/plain": [
       "['eng', 'hindi', 'maths', 'sci', 'sst', 'GK']"
      ]
     },
     "execution_count": 12,
     "metadata": {},
     "output_type": "execute_result"
    }
   ],
   "source": [
    "# append(): appends an item or list of item as single element at the end of list\n",
    "\n",
    "list2 = ['eng', 'hindi', 'maths', 'sci', 'sst']\n",
    "list2.append('GK')\n",
    "list2"
   ]
  },
  {
   "cell_type": "code",
   "execution_count": 13,
   "id": "0f4d63c9-6594-45b7-a4e0-1eee1094a6a6",
   "metadata": {},
   "outputs": [
    {
     "data": {
      "text/plain": [
       "['eng', 'hindi', 'maths', 'sci', 'sst', 'GK', ['PE', 'IT']]"
      ]
     },
     "execution_count": 13,
     "metadata": {},
     "output_type": "execute_result"
    }
   ],
   "source": [
    "list1 = ['PE', 'IT']\n",
    "list2.append(list1)\n",
    "list2"
   ]
  },
  {
   "cell_type": "code",
   "execution_count": 14,
   "id": "10a7e4fa-d047-4fe3-ac76-d41b9b9753f5",
   "metadata": {},
   "outputs": [
    {
     "data": {
      "text/plain": [
       "['eng', 'hindi', 'maths', 'sci', 'sst', 'PE', 'IT']"
      ]
     },
     "execution_count": 14,
     "metadata": {},
     "output_type": "execute_result"
    }
   ],
   "source": [
    "# extends(): appends each item of the list individually at the end of list\n",
    "\n",
    "list2 = ['eng', 'hindi', 'maths', 'sci', 'sst']\n",
    "list1 = ['PE', 'IT']\n",
    "list2.extend(list1)\n",
    "list2"
   ]
  },
  {
   "cell_type": "code",
   "execution_count": 15,
   "id": "0c92fdb9-933e-4171-9423-2ec0060cacc7",
   "metadata": {},
   "outputs": [
    {
     "data": {
      "text/plain": [
       "['eng', 'hindi', 'maths', 'GK', 'sci', 'sst']"
      ]
     },
     "execution_count": 15,
     "metadata": {},
     "output_type": "execute_result"
    }
   ],
   "source": [
    "# insert(): insert an item at a particular index in the list\n",
    "\n",
    "list2 = ['eng', 'hindi', 'maths', 'sci', 'sst']\n",
    "list2.insert(3,'GK')\n",
    "list2"
   ]
  },
  {
   "cell_type": "code",
   "execution_count": 16,
   "id": "0cb5d74e-69ad-4d9e-a5ce-c249713a20b0",
   "metadata": {},
   "outputs": [
    {
     "data": {
      "text/plain": [
       "2"
      ]
     },
     "execution_count": 16,
     "metadata": {},
     "output_type": "execute_result"
    }
   ],
   "source": [
    "# count(): count and returns a particular item in a given list\n",
    "\n",
    "list2 = ['eng', 'hindi', 'maths', 'sci', 'sst', 'GK', 'GK']\n",
    "list2.count('GK')"
   ]
  },
  {
   "cell_type": "code",
   "execution_count": 17,
   "id": "c04266c4-e69e-4a79-930b-ea9fd2eb5327",
   "metadata": {},
   "outputs": [
    {
     "data": {
      "text/plain": [
       "5"
      ]
     },
     "execution_count": 17,
     "metadata": {},
     "output_type": "execute_result"
    }
   ],
   "source": [
    "# index(): return index of the first occurrence of the item in the list. if item is not found, value error is displayed\n",
    "\n",
    "list2 = ['eng', 'hindi', 'maths', 'sci', 'sst', 'GK', 'GK']\n",
    "list2.index('GK')"
   ]
  },
  {
   "cell_type": "code",
   "execution_count": 20,
   "id": "7335811d-19a6-41a5-9fa9-3b9e2ea4c427",
   "metadata": {},
   "outputs": [
    {
     "data": {
      "text/plain": [
       "['eng', 'hindi', 'maths', 'sci', 'sst', 'GK']"
      ]
     },
     "execution_count": 20,
     "metadata": {},
     "output_type": "execute_result"
    }
   ],
   "source": [
    "# remove(): removes the first occurrence of item in the given list. if no item is found, value error is displayed\n",
    "\n",
    "list2 = ['eng', 'hindi', 'maths', 'sci', 'sst', 'GK', 'GK']\n",
    "list2.remove('GK')\n",
    "list2"
   ]
  },
  {
   "cell_type": "code",
   "execution_count": 21,
   "id": "01af4eda-29a1-453d-857e-551502575097",
   "metadata": {},
   "outputs": [
    {
     "data": {
      "text/plain": [
       "'GK'"
      ]
     },
     "execution_count": 21,
     "metadata": {},
     "output_type": "execute_result"
    }
   ],
   "source": [
    "# pop(): removes the first oocurrence of item in the given list. if no item is found, value error is displayed\n",
    "\n",
    "list2 = ['eng', 'hindi', 'maths', 'sci', 'sst', 'GK', 'GK']\n",
    "list2.pop()"
   ]
  },
  {
   "cell_type": "code",
   "execution_count": 22,
   "id": "ad35bc2a-b804-419b-89c5-6b94df2287ac",
   "metadata": {},
   "outputs": [
    {
     "data": {
      "text/plain": [
       "'sci'"
      ]
     },
     "execution_count": 22,
     "metadata": {},
     "output_type": "execute_result"
    }
   ],
   "source": [
    "list2 = ['eng', 'hindi', 'maths', 'sci', 'sst', 'GK', 'GK']\n",
    "list2.pop(3)"
   ]
  },
  {
   "cell_type": "code",
   "execution_count": 24,
   "id": "62a76beb-4223-4c0e-bcf5-50a42ac1335e",
   "metadata": {},
   "outputs": [
    {
     "data": {
      "text/plain": [
       "['GK', 'GK', 'sst', 'sci', 'maths', 'hindi', 'eng']"
      ]
     },
     "execution_count": 24,
     "metadata": {},
     "output_type": "execute_result"
    }
   ],
   "source": [
    "# reverse(): it reverses the order of element in the given list\n",
    "\n",
    "list2 = ['eng', 'hindi', 'maths', 'sci', 'sst', 'GK', 'GK']\n",
    "list2.reverse()\n",
    "list2"
   ]
  },
  {
   "cell_type": "code",
   "execution_count": 26,
   "id": "b0dae59a-661b-4b06-aeca-e9dd7f460f17",
   "metadata": {},
   "outputs": [
    {
     "data": {
      "text/plain": [
       "['eng', 'gk', 'gk', 'hindi', 'maths', 'sci', 'sst']"
      ]
     },
     "execution_count": 26,
     "metadata": {},
     "output_type": "execute_result"
    }
   ],
   "source": [
    "# sort(): it arranges the items of the list in ascending or descending order\n",
    "\n",
    "list2 = ['eng', 'hindi', 'maths', 'sci', 'sst', 'gk', 'gk']\n",
    "list2.sort()\n",
    "list2"
   ]
  },
  {
   "cell_type": "code",
   "execution_count": 27,
   "id": "4cd61a8b-766e-4c04-8457-cfb50288b398",
   "metadata": {},
   "outputs": [
    {
     "data": {
      "text/plain": [
       "[55, 12, 10, 9, 2]"
      ]
     },
     "execution_count": 27,
     "metadata": {},
     "output_type": "execute_result"
    }
   ],
   "source": [
    "L1 = [12,9,10,55,2]\n",
    "L1.sort(reverse = True)\n",
    "L1"
   ]
  },
  {
   "cell_type": "code",
   "execution_count": 28,
   "id": "ff2ee914-231a-4f5d-8b2b-dd61d875f247",
   "metadata": {},
   "outputs": [
    {
     "data": {
      "text/plain": [
       "[12, 9, 10, 55, 2]"
      ]
     },
     "execution_count": 28,
     "metadata": {},
     "output_type": "execute_result"
    }
   ],
   "source": [
    "# sorted(): it takes a list as parameter and creates a new list consisting of the same elements arranged in sorted order\n",
    "L1 = [12,9,10,55,2]\n",
    "L2 = sorted(L1)\n",
    "L1"
   ]
  },
  {
   "cell_type": "code",
   "execution_count": 29,
   "id": "dc222e50-8ff3-41a2-b266-b0d1aadfd2bc",
   "metadata": {},
   "outputs": [
    {
     "data": {
      "text/plain": [
       "[2, 9, 10, 12, 55]"
      ]
     },
     "execution_count": 29,
     "metadata": {},
     "output_type": "execute_result"
    }
   ],
   "source": [
    "L2"
   ]
  },
  {
   "cell_type": "code",
   "execution_count": 33,
   "id": "1c5d9deb-bf2d-4ae6-8f00-c296dbb7edc2",
   "metadata": {},
   "outputs": [
    {
     "data": {
      "text/plain": [
       "2"
      ]
     },
     "execution_count": 33,
     "metadata": {},
     "output_type": "execute_result"
    }
   ],
   "source": [
    "# min(): returns smallest element in given list\n",
    "\n",
    "# max(): returns largest element in given list\n",
    "\n",
    "# sum(): returns sum of all the elements in the given list\n",
    "\n",
    "L1 = [12,9,10,55,2]\n",
    "min(L1)"
   ]
  },
  {
   "cell_type": "code",
   "execution_count": 34,
   "id": "41ddff30-505a-4af6-b84b-7fec2ae636a2",
   "metadata": {},
   "outputs": [
    {
     "data": {
      "text/plain": [
       "55"
      ]
     },
     "execution_count": 34,
     "metadata": {},
     "output_type": "execute_result"
    }
   ],
   "source": [
    "max(L1)"
   ]
  },
  {
   "cell_type": "code",
   "execution_count": 35,
   "id": "33f3072e-0623-4d1e-9b77-5c9ecd0d003e",
   "metadata": {},
   "outputs": [
    {
     "data": {
      "text/plain": [
       "88"
      ]
     },
     "execution_count": 35,
     "metadata": {},
     "output_type": "execute_result"
    }
   ],
   "source": [
    "sum(L1)"
   ]
  },
  {
   "cell_type": "code",
   "execution_count": 36,
   "id": "36df6ea8-4823-432f-a4fc-ff53876384b7",
   "metadata": {},
   "outputs": [
    {
     "data": {
      "text/plain": [
       "[1, 34, ['a', 'b'], 45]"
      ]
     },
     "execution_count": 36,
     "metadata": {},
     "output_type": "execute_result"
    }
   ],
   "source": [
    "# Nested List: one list can appears inside another list\n",
    "\n",
    "L = [1, 34, ['a','b'],45]\n",
    "L"
   ]
  },
  {
   "cell_type": "code",
   "execution_count": 37,
   "id": "4895e3e4-8573-4ef2-8959-5ca5c779e12c",
   "metadata": {},
   "outputs": [
    {
     "data": {
      "text/plain": [
       "[[1, 34, ['a', 'b'], 45], [12, 22.3]]"
      ]
     },
     "execution_count": 37,
     "metadata": {},
     "output_type": "execute_result"
    }
   ],
   "source": [
    "L1 = [12,22.3]\n",
    "L2 = [L,L1]\n",
    "L2"
   ]
  },
  {
   "cell_type": "code",
   "execution_count": 1,
   "id": "c0128c0e-3f53-46d1-9f86-5bf93b781a70",
   "metadata": {},
   "outputs": [
    {
     "name": "stdout",
     "output_type": "stream",
     "text": [
      "[]\n",
      "0\n",
      "[1, 2, 3]\n",
      "[1, 'hello', 3.4]\n",
      "['mouse', [9, 3, 6], ['a']]\n",
      "[1, 2, 3, 4, 4.5, 'helloworld', 'X']\n"
     ]
    }
   ],
   "source": [
    "# Example \n",
    "\n",
    "# empty list, no item in the list\n",
    "my_list = []\n",
    "print(my_list)\n",
    "print(len(my_list))\n",
    "\n",
    "# list of integers\n",
    "my_list1 = [1,2,3]\n",
    "print(my_list1)\n",
    "\n",
    "# list with mixed data types\n",
    "my_list2 = [1,\"hello\", 3.4]\n",
    "print(my_list2)\n",
    "\n",
    "# nested list \n",
    "my_list3 = [\"mouse\", [9,3,6], ['a']]\n",
    "print(my_list3)\n",
    "\n",
    "my_list5 = [1,2,3,4,4.5,'helloworld','X']\n",
    "print(my_list5)"
   ]
  },
  {
   "cell_type": "code",
   "execution_count": 3,
   "id": "c3188278-f15b-4261-8137-2f49ee8432a1",
   "metadata": {},
   "outputs": [
    {
     "name": "stdout",
     "output_type": "stream",
     "text": [
      "p\n",
      "o\n",
      "e\n",
      "a\n",
      "5\n"
     ]
    },
    {
     "ename": "TypeError",
     "evalue": "list indices must be integers or slices, not float",
     "output_type": "error",
     "traceback": [
      "\u001b[1;31m---------------------------------------------------------------------------\u001b[0m",
      "\u001b[1;31mTypeError\u001b[0m                                 Traceback (most recent call last)",
      "Cell \u001b[1;32mIn[3], line 16\u001b[0m\n\u001b[0;32m     13\u001b[0m \u001b[38;5;28mprint\u001b[39m(n_list[\u001b[38;5;241m0\u001b[39m][\u001b[38;5;241m1\u001b[39m])\n\u001b[0;32m     14\u001b[0m \u001b[38;5;28mprint\u001b[39m(n_list[\u001b[38;5;241m1\u001b[39m][\u001b[38;5;241m3\u001b[39m])\n\u001b[1;32m---> 16\u001b[0m \u001b[38;5;28mprint\u001b[39m(\u001b[43mmy_list\u001b[49m\u001b[43m[\u001b[49m\u001b[38;5;241;43m4.0\u001b[39;49m\u001b[43m]\u001b[49m) \u001b[38;5;66;03m# type error, not float\u001b[39;00m\n",
      "\u001b[1;31mTypeError\u001b[0m: list indices must be integers or slices, not float"
     ]
    }
   ],
   "source": [
    "# example: list indexing\n",
    "\n",
    "my_list = ['p','r','o','b','e']\n",
    "\n",
    "print(my_list[0])\n",
    "print(my_list[2])\n",
    "print(my_list[4])\n",
    "\n",
    "# nested list\n",
    "n_list = [\"Happy\", [2,0,1,5]]\n",
    "\n",
    "# nested indexing\n",
    "print(n_list[0][1])\n",
    "print(n_list[1][3])\n",
    "\n",
    "print(my_list[4.0]) # type error, not float"
   ]
  },
  {
   "cell_type": "markdown",
   "id": "bcc15f6a-8c24-43c6-9a29-05d047a8fc3a",
   "metadata": {},
   "source": [
    "### Add/change list elements"
   ]
  },
  {
   "cell_type": "markdown",
   "id": "f9a38cd0-d147-4d58-b70d-e67b378a3e59",
   "metadata": {},
   "source": [
    "- Lists are mutable, meaning their elements can be changed unlike string or tuple\n",
    "- we can use the assignment operator (=) to change an item or a range of items"
   ]
  },
  {
   "cell_type": "code",
   "execution_count": 4,
   "id": "15271261-0269-4e62-a7ee-42e96cd4192e",
   "metadata": {},
   "outputs": [
    {
     "name": "stdout",
     "output_type": "stream",
     "text": [
      "[1, 4, 6, 8]\n",
      "[1, 3, 5, 7]\n"
     ]
    }
   ],
   "source": [
    "# ecample : correcting mistake values in a list\n",
    "\n",
    "odd = [2,4,6,8]\n",
    "\n",
    "odd[0] = 1\n",
    "print(odd)\n",
    "\n",
    "odd[1:4] = [3,5,7]\n",
    "print(odd)"
   ]
  },
  {
   "cell_type": "code",
   "execution_count": 5,
   "id": "7ca03afa-caa9-409d-9005-a9fe0a8b680d",
   "metadata": {},
   "outputs": [
    {
     "name": "stdout",
     "output_type": "stream",
     "text": [
      "[5, 10, 15, 20, 25]\n",
      "[5, 10, 'Multiple of 5', 20, 25]\n"
     ]
    }
   ],
   "source": [
    "# excample:\n",
    "\n",
    "data1=[5,10,15,20,25]\n",
    "print(data1)\n",
    "\n",
    "data1[2]=\"Multiple of 5\"\n",
    "print(data1)"
   ]
  },
  {
   "cell_type": "markdown",
   "id": "09387439-a1f2-40ca-a195-4c8106185bee",
   "metadata": {},
   "source": [
    "- we can add one item to a list using the append() method or add several items using extend() method."
   ]
  },
  {
   "cell_type": "code",
   "execution_count": 15,
   "id": "55c8b324-ddcc-4e9c-a2e4-b2ef4983667a",
   "metadata": {},
   "outputs": [
    {
     "name": "stdout",
     "output_type": "stream",
     "text": [
      "[1, 3, 5, 7]\n",
      "[1, 3, 5, 7, 9, 11, 13]\n",
      "[1, 3, 5, 7, 9, 11, 13, [5, 6, 7]]\n",
      "[1, 3, 5, 7, 9, 11, 13, [5, 6, 7], 5, 6, 7]\n",
      "[1, 3, 5, 7, 9, 11, 13, [5, 6, 7], 5, 6, 7]\n"
     ]
    }
   ],
   "source": [
    "# example : appending and extending lists in python\n",
    "\n",
    "odd = [1,3,5]\n",
    "\n",
    "odd.append(7)\n",
    "print(odd)\n",
    "\n",
    "odd.extend([9,11,13])\n",
    "print(odd)\n",
    "\n",
    "odd.append([5,6,7])\n",
    "print(odd)\n",
    "\n",
    "odd.extend([5,6,7])\n",
    "print(odd)\n",
    "\n",
    "odd.sort\n",
    "print(odd)"
   ]
  },
  {
   "cell_type": "code",
   "execution_count": 17,
   "id": "60ccd9ad-6128-43c7-b00f-fb369ee98adf",
   "metadata": {},
   "outputs": [
    {
     "name": "stdout",
     "output_type": "stream",
     "text": [
      "['a', 'b', 'c', 1.5, 'x', ['y', 'z']]\n"
     ]
    }
   ],
   "source": [
    "# example :\n",
    "\n",
    "list1 = ['a','b','c']\n",
    "list1.append(1.5)\n",
    "list1.append('x')\n",
    "list1.append(['y','z'])\n",
    "print(list1)"
   ]
  },
  {
   "cell_type": "markdown",
   "id": "7d88cfb9-44bb-4f94-8faf-4fcdc358bb7b",
   "metadata": {},
   "source": [
    "- we can also use + concatanation operator to combine two lists.\n",
    "- but you cannot combine list and string"
   ]
  },
  {
   "cell_type": "code",
   "execution_count": 19,
   "id": "61b19758-7b90-4004-9c73-4d6b868d5e7b",
   "metadata": {},
   "outputs": [
    {
     "ename": "TypeError",
     "evalue": "can only concatenate list (not \"str\") to list",
     "output_type": "error",
     "traceback": [
      "\u001b[1;31m---------------------------------------------------------------------------\u001b[0m",
      "\u001b[1;31mTypeError\u001b[0m                                 Traceback (most recent call last)",
      "Cell \u001b[1;32mIn[19], line 5\u001b[0m\n\u001b[0;32m      2\u001b[0m list1 \u001b[38;5;241m=\u001b[39m [\u001b[38;5;124m'\u001b[39m\u001b[38;5;124ma\u001b[39m\u001b[38;5;124m'\u001b[39m,\u001b[38;5;124m'\u001b[39m\u001b[38;5;124mb\u001b[39m\u001b[38;5;124m'\u001b[39m,\u001b[38;5;124m'\u001b[39m\u001b[38;5;124mc\u001b[39m\u001b[38;5;124m'\u001b[39m] \u001b[38;5;66;03m# this is list\u001b[39;00m\n\u001b[0;32m      3\u001b[0m a \u001b[38;5;241m=\u001b[39m \u001b[38;5;124m'\u001b[39m\u001b[38;5;124mx\u001b[39m\u001b[38;5;124m'\u001b[39m \u001b[38;5;66;03m#this is string\u001b[39;00m\n\u001b[1;32m----> 5\u001b[0m \u001b[38;5;28mprint\u001b[39m(\u001b[43mlist1\u001b[49m\u001b[38;5;241;43m+\u001b[39;49m\u001b[43ma\u001b[49m)\n",
      "\u001b[1;31mTypeError\u001b[0m: can only concatenate list (not \"str\") to list"
     ]
    }
   ],
   "source": [
    "# example :\n",
    "list1 = ['a','b','c'] # this is list\n",
    "a = 'x' #this is string\n",
    "\n",
    "print(list1+a)"
   ]
  },
  {
   "cell_type": "markdown",
   "id": "846d9cdb-dacd-4ac3-82a1-6715dd2177a1",
   "metadata": {},
   "source": [
    "Note: + operator implies that both the operands passed must be list else error will be shown"
   ]
  },
  {
   "cell_type": "markdown",
   "id": "a821cfc7-ee1b-46d3-8d9c-8458535d7d52",
   "metadata": {},
   "source": [
    "we can insert one item at a desired location by using the method insert() or insert multiple items by squeezing it into an empty slice of a list"
   ]
  },
  {
   "cell_type": "code",
   "execution_count": 1,
   "id": "1d13c994-05eb-4323-abe6-e14d99790ff8",
   "metadata": {},
   "outputs": [
    {
     "name": "stdout",
     "output_type": "stream",
     "text": [
      "[1, 3, 9]\n"
     ]
    }
   ],
   "source": [
    "# example: demonstration of list insert() method \n",
    "\n",
    "odd = [1,9]\n",
    "odd.insert(1,3)\n",
    "print(odd)"
   ]
  },
  {
   "cell_type": "code",
   "execution_count": 3,
   "id": "62f1fb63-4795-4ae0-bcce-86ca5e0be542",
   "metadata": {},
   "outputs": [
    {
     "name": "stdout",
     "output_type": "stream",
     "text": [
      "[1, 3, 5, 7, 5, 7, 9]\n"
     ]
    }
   ],
   "source": [
    "odd[2:2] = [5,7] # odd[at 2nd index : no of times]\n",
    "print(odd)"
   ]
  },
  {
   "cell_type": "markdown",
   "id": "fb69c4cb-d269-47b5-82f1-79dd9b84c611",
   "metadata": {},
   "source": [
    "### Delete/ Remove List Elements"
   ]
  },
  {
   "cell_type": "markdown",
   "id": "79b6377a-1a6a-4ddd-952c-08df58a7f1eb",
   "metadata": {},
   "source": [
    "we can delete one or more items from a list using the keyword del. It can even delelte the list entirely."
   ]
  },
  {
   "cell_type": "code",
   "execution_count": 7,
   "id": "aea5f629-e395-4d84-861d-4e27675d67b5",
   "metadata": {},
   "outputs": [
    {
     "name": "stdout",
     "output_type": "stream",
     "text": [
      "['p', 'r', 'b', 'l', 'e', 'm']\n",
      "['p', 'm']\n"
     ]
    },
    {
     "ename": "NameError",
     "evalue": "name 'my_list' is not defined",
     "output_type": "error",
     "traceback": [
      "\u001b[1;31m---------------------------------------------------------------------------\u001b[0m",
      "\u001b[1;31mNameError\u001b[0m                                 Traceback (most recent call last)",
      "Cell \u001b[1;32mIn[7], line 12\u001b[0m\n\u001b[0;32m      9\u001b[0m \u001b[38;5;28mprint\u001b[39m(my_list)\n\u001b[0;32m     11\u001b[0m \u001b[38;5;28;01mdel\u001b[39;00m my_list\n\u001b[1;32m---> 12\u001b[0m \u001b[38;5;28mprint\u001b[39m(\u001b[43mmy_list\u001b[49m) \u001b[38;5;66;03m# my_list has been deleted\u001b[39;00m\n",
      "\u001b[1;31mNameError\u001b[0m: name 'my_list' is not defined"
     ]
    }
   ],
   "source": [
    "# excample\n",
    "\n",
    "my_list = ['p', 'r', 'o', 'b', 'l', 'e', 'm']\n",
    "\n",
    "del my_list[2]\n",
    "print(my_list)\n",
    "\n",
    "del my_list[1:5]\n",
    "print(my_list)\n",
    "\n",
    "del my_list\n",
    "print(my_list) # my_list has been deleted"
   ]
  },
  {
   "cell_type": "code",
   "execution_count": 8,
   "id": "7ceeceda-fbec-4b5b-9f48-4602cfd87938",
   "metadata": {},
   "outputs": [
    {
     "name": "stdout",
     "output_type": "stream",
     "text": [
      "data in list:  ['a', 'b', 'c']\n",
      "new data in list:  ['a', 'b']\n"
     ]
    }
   ],
   "source": [
    "# example \n",
    "\n",
    "list1=['a','b','c']\n",
    "print(\"data in list: \", list1)\n",
    "\n",
    "del(list1[2])\n",
    "print(\"new data in list: \", list1)"
   ]
  },
  {
   "cell_type": "markdown",
   "id": "bed2c19f-f5e6-401d-bf6d-f0741b79d2ad",
   "metadata": {},
   "source": [
    "we can use remove() method to remove the given item or pop() method to remove an item at the given index\n",
    "the pop() method removes and returns the last item if the index is not provided. this helps us implement lists as stacks ( first in, last out data structure)\n",
    "we can also use the clear() method to empty a list."
   ]
  },
  {
   "cell_type": "code",
   "execution_count": 9,
   "id": "473e3d20-ef2a-44a6-96d6-cf198761ce58",
   "metadata": {},
   "outputs": [
    {
     "name": "stdout",
     "output_type": "stream",
     "text": [
      "['r', 'o', 'b', 'l', 'e', 'm']\n",
      "o\n",
      "['r', 'b', 'l', 'e', 'm']\n",
      "m\n",
      "['r', 'b', 'l', 'e']\n",
      "[]\n"
     ]
    }
   ],
   "source": [
    "# example \n",
    "\n",
    "my_list = ['p','r','o','b','l','e','m']\n",
    "my_list.remove('p')\n",
    "\n",
    "print(my_list)\n",
    "print(my_list.pop(1))\n",
    "print(my_list)\n",
    "print(my_list.pop())\n",
    "print(my_list)\n",
    "\n",
    "my_list.clear()\n",
    "print(my_list)"
   ]
  },
  {
   "cell_type": "markdown",
   "id": "eebf8458-8d8e-4ac9-91be-b79508e3a8d3",
   "metadata": {},
   "source": [
    "finally, we can also delete items in a list by assigning an empty list to a slice of elements"
   ]
  },
  {
   "cell_type": "code",
   "execution_count": 13,
   "id": "09a143e1-70cc-496b-972e-ab2d39a20767",
   "metadata": {},
   "outputs": [
    {
     "name": "stdout",
     "output_type": "stream",
     "text": [
      "['p', 'r', 'b', 'l', 'e', 'm']\n",
      "['p', 'r', 'e', 'm']\n"
     ]
    }
   ],
   "source": [
    "# example\n",
    "\n",
    "my_list = ['p','r','o','b','l','e','m']\n",
    "\n",
    "my_list[2:3] = [] # 3 is not included. [2] assigned to empty list\n",
    "print(my_list)\n",
    "\n",
    "my_list[2:-2] = [] # -2 not ioncluded., b and l is popped\n",
    "print(my_list)"
   ]
  },
  {
   "cell_type": "markdown",
   "id": "63269742-d33d-4845-9779-3161b9995f79",
   "metadata": {},
   "source": [
    "### python built-in list functions"
   ]
  },
  {
   "cell_type": "markdown",
   "id": "428f0680-a09e-4815-9728-74f5cf853030",
   "metadata": {},
   "source": [
    "Built-in functions like all(), any(), sorted(), min(), max(), len(), cmp(), list(), etc are commonly used with dictionaries to perform different tasks."
   ]
  },
  {
   "cell_type": "markdown",
   "id": "3ca2299f-1c23-4baa-bb24-c3964a75845b",
   "metadata": {},
   "source": [
    "### all(): returns True if all keys of the list are True. If not, it returns False"
   ]
  },
  {
   "cell_type": "code",
   "execution_count": 2,
   "id": "17f2073c-da9e-4028-a1e7-36b5ce6ddc36",
   "metadata": {},
   "outputs": [
    {
     "name": "stdout",
     "output_type": "stream",
     "text": [
      "True\n",
      "False\n",
      "False\n",
      "False\n",
      "True\n"
     ]
    }
   ],
   "source": [
    "# exca,ple how all() works for lists?\n",
    "\n",
    "i = [1,3,4,5]\n",
    "print(all(i))\n",
    "\n",
    "i = [0, False]\n",
    "print(all(i))\n",
    "\n",
    "i = [1,3,4,0]\n",
    "print(all(i))\n",
    "\n",
    "i = [0, False, 5]\n",
    "print(all(i))\n",
    "\n",
    "i = []\n",
    "print(all(i))"
   ]
  },
  {
   "cell_type": "markdown",
   "id": "55952190-b21d-4ec1-bae0-f737b8a04a52",
   "metadata": {},
   "source": [
    "### any(): returns True if any key of the list is true, If not, it returns false"
   ]
  },
  {
   "cell_type": "code",
   "execution_count": 7,
   "id": "7ce4b2bb-c69a-45a1-b2a5-3cfbcba410f5",
   "metadata": {},
   "outputs": [
    {
     "name": "stdout",
     "output_type": "stream",
     "text": [
      "True\n",
      "False\n",
      "True\n",
      "False\n"
     ]
    }
   ],
   "source": [
    "# example: True since 1,3,4 and 5 (at least one) is true.\n",
    "\n",
    "l = [1,3,4,0]\n",
    "print(any(l))\n",
    "\n",
    "l = [0, False]\n",
    "print(any(l))\n",
    "\n",
    "l = [0, False, 5]\n",
    "print(any(l))\n",
    "\n",
    "l = []\n",
    "print(any(l))"
   ]
  },
  {
   "cell_type": "markdown",
   "id": "29229453-83cc-4de5-935c-69abebc9a989",
   "metadata": {},
   "source": [
    "### sorted(dict): the sorted() function sorts the elements of a given iterable in a specific order (either ascending or descending) and returns the sorted iterable as a list."
   ]
  },
  {
   "cell_type": "code",
   "execution_count": 12,
   "id": "eb0ea75b-8e78-4b21-a58c-097212fbb6f6",
   "metadata": {},
   "outputs": [
    {
     "name": "stdout",
     "output_type": "stream",
     "text": [
      "['a', 'e', 'i', 'o', 'u']\n"
     ]
    }
   ],
   "source": [
    "# example: vowels list\n",
    "\n",
    "py_list = ['e','a','u','o','i']\n",
    "print(sorted(py_list)) # ascending order"
   ]
  },
  {
   "cell_type": "code",
   "execution_count": 13,
   "id": "d878e420-6ece-400f-bd4f-dbccc7eb3466",
   "metadata": {},
   "outputs": [
    {
     "name": "stdout",
     "output_type": "stream",
     "text": [
      "['u', 'o', 'i', 'e', 'a']\n"
     ]
    }
   ],
   "source": [
    "print(sorted(py_list, reverse=True)) #descending order"
   ]
  },
  {
   "cell_type": "markdown",
   "id": "78903064-620e-4234-b133-4b95398ffd9f",
   "metadata": {},
   "source": [
    "### min(list): the function is used to get the min value from the list. In python3 lists element's type should be same otherwise compiler throw type error"
   ]
  },
  {
   "cell_type": "code",
   "execution_count": 16,
   "id": "0f7ef913-e1bd-44c4-81c2-4acff35f1beb",
   "metadata": {},
   "outputs": [
    {
     "name": "stdout",
     "output_type": "stream",
     "text": [
      "a\n",
      "1\n"
     ]
    },
    {
     "ename": "NameError",
     "evalue": "name 'list3' is not defined",
     "output_type": "error",
     "traceback": [
      "\u001b[1;31m---------------------------------------------------------------------------\u001b[0m",
      "\u001b[1;31mNameError\u001b[0m                                 Traceback (most recent call last)",
      "Cell \u001b[1;32mIn[16], line 9\u001b[0m\n\u001b[0;32m      7\u001b[0m \u001b[38;5;28mprint\u001b[39m(\u001b[38;5;28mmin\u001b[39m(list1))\n\u001b[0;32m      8\u001b[0m \u001b[38;5;28mprint\u001b[39m(\u001b[38;5;28mmin\u001b[39m(list2))\n\u001b[1;32m----> 9\u001b[0m \u001b[38;5;28mprint\u001b[39m(\u001b[38;5;28mmin\u001b[39m(\u001b[43mlist3\u001b[49m))\n",
      "\u001b[1;31mNameError\u001b[0m: name 'list3' is not defined"
     ]
    }
   ],
   "source": [
    "# example:\n",
    "\n",
    "list1 = ['a','b','c']\n",
    "list2 = [1,2,3]\n",
    "lis3 = ['a','b','c',1,2,3]\n",
    "\n",
    "print(min(list1))\n",
    "print(min(list2))\n",
    "print(min(list3)) # typeerror: '<' not supported between instances of 'int' and 'str'"
   ]
  },
  {
   "cell_type": "markdown",
   "id": "36e6b309-bdb2-4e79-a37e-01bb7c31192b",
   "metadata": {},
   "source": [
    "### max(list): the max() function returns the elements from the list with maximum value"
   ]
  },
  {
   "cell_type": "code",
   "execution_count": 19,
   "id": "648bf6e3-ab99-4c01-aa4f-b63ca196d364",
   "metadata": {},
   "outputs": [
    {
     "name": "stdout",
     "output_type": "stream",
     "text": [
      "3\n",
      "c\n"
     ]
    },
    {
     "ename": "TypeError",
     "evalue": "'>' not supported between instances of 'str' and 'int'",
     "output_type": "error",
     "traceback": [
      "\u001b[1;31m---------------------------------------------------------------------------\u001b[0m",
      "\u001b[1;31mTypeError\u001b[0m                                 Traceback (most recent call last)",
      "Cell \u001b[1;32mIn[19], line 9\u001b[0m\n\u001b[0;32m      7\u001b[0m \u001b[38;5;28mprint\u001b[39m(\u001b[38;5;28mmax\u001b[39m(list1))\n\u001b[0;32m      8\u001b[0m \u001b[38;5;28mprint\u001b[39m(\u001b[38;5;28mmax\u001b[39m(list2))\n\u001b[1;32m----> 9\u001b[0m \u001b[38;5;28mprint\u001b[39m(\u001b[38;5;28;43mmax\u001b[39;49m\u001b[43m(\u001b[49m\u001b[43mlist3\u001b[49m\u001b[43m)\u001b[49m)\n",
      "\u001b[1;31mTypeError\u001b[0m: '>' not supported between instances of 'str' and 'int'"
     ]
    }
   ],
   "source": [
    "# example :\n",
    "\n",
    "list1 = [1,2,3]\n",
    "list2 = ['a','b','c']\n",
    "list3 = [1,2,3,'a','b','c']\n",
    "\n",
    "print(max(list1))\n",
    "print(max(list2))\n",
    "print(max(list3))"
   ]
  },
  {
   "cell_type": "markdown",
   "id": "1b0f46b9-6d56-4f85-b553-1af7ef85f665",
   "metadata": {},
   "source": [
    "### len(list): the len() function returns the number of elements in the list"
   ]
  },
  {
   "cell_type": "code",
   "execution_count": 20,
   "id": "521c4b4f-b316-45eb-b6fe-f5884acb05e6",
   "metadata": {},
   "outputs": [
    {
     "name": "stdout",
     "output_type": "stream",
     "text": [
      "3\n",
      "0\n",
      "6\n"
     ]
    }
   ],
   "source": [
    "# example \n",
    "\n",
    "list1 = ['a','b','c']\n",
    "list2 = []\n",
    "list3 = ['a','b','c',1,2,3]\n",
    "\n",
    "print(len(list1))\n",
    "print(len(list2))\n",
    "print(len(list3))"
   ]
  },
  {
   "cell_type": "markdown",
   "id": "dd1ab46b-e877-4125-b150-c49b2604fec8",
   "metadata": {},
   "source": [
    "### Python list methods\n",
    "\n",
    "#### Function--------Description\n",
    "##### append()-------Adds an element to the end of the list\n",
    "##### extend()-------Adds all the elements of an iterable (list, tuple, string etc) to the end of the list. all letter as different elements\n",
    "##### insert()-------add an element to the list at the specified index\n",
    "##### remove()-------removes the first matching element(which is passed as an argument) from the list \n",
    "##### pop()----------removes the item at the given index from the list and returns the same\n",
    "##### clear()--------removes all items from the list\n",
    "##### index()--------returns the index of the specified element in the list\n",
    "##### count()--------returns the number of times the specified element appears in the list \n",
    "##### sort()---------sorts the elements of a given list in a specific ascending or descending order\n",
    "##### reverse()------reverses the elements of the list\n",
    "##### copy()---------returns a shallow copy of the list"
   ]
  },
  {
   "cell_type": "code",
   "execution_count": 28,
   "id": "d24fcd29-3002-476d-9b4f-acf69052a8be",
   "metadata": {},
   "outputs": [
    {
     "name": "stdout",
     "output_type": "stream",
     "text": [
      "[1, 2, 3, 4, 'helloworld', ['a', 'b', 'c']]\n"
     ]
    }
   ],
   "source": [
    "# example of append\n",
    "\n",
    "list1 = [1,2,3]\n",
    "list1.append(4)\n",
    "list1.append('helloworld')\n",
    "list1.append(['a','b','c'])\n",
    "# list1.append('x','y','z') # TypeError: ;list takes exactly one argument, \n",
    "print(list1)"
   ]
  },
  {
   "cell_type": "code",
   "execution_count": 29,
   "id": "8cd87e8c-9ea2-4704-bc44-41eb656c0b2e",
   "metadata": {},
   "outputs": [
    {
     "name": "stdout",
     "output_type": "stream",
     "text": [
      "[1, 2, 3, 4, 'h', 'e', 'l', 'l', 'o', 'w', 'o', 'r', 'l', 'd', 'a', 'b', 'c']\n"
     ]
    }
   ],
   "source": [
    "# example of extend\n",
    "\n",
    "list1 = [1,2,3]\n",
    "list1.extend([4]) # int also has to be extended as list, as list can have str and int\n",
    "list1.extend('helloworld')\n",
    "list1.extend(['a','b','c'])\n",
    "#list1.extend('x','y','z') # TypeError: extend takes exactly one argument, \n",
    "print(list1)"
   ]
  },
  {
   "cell_type": "code",
   "execution_count": 30,
   "id": "b755547e-bf1f-48fd-895b-0496c22a77cb",
   "metadata": {},
   "outputs": [
    {
     "name": "stdout",
     "output_type": "stream",
     "text": [
      "['helloworld', 'python', 'java', 'c#', 'c++', 1, 2, 3]\n"
     ]
    }
   ],
   "source": [
    "# example of insert\n",
    "\n",
    "list1 = ['helloworld', 'python', 'java', 'c++', 1,2,3]\n",
    "list1.insert(3, 'c#')\n",
    "print(list1)"
   ]
  },
  {
   "cell_type": "code",
   "execution_count": 31,
   "id": "8688d762-1cff-4805-8496-a4ef25f84a23",
   "metadata": {},
   "outputs": [
    {
     "name": "stdout",
     "output_type": "stream",
     "text": [
      "index of java:  2\n"
     ]
    }
   ],
   "source": [
    "# example of index():\n",
    "\n",
    "list1 = ['helloworld', 'python', 'java', 'c++', 1,2,3]\n",
    "print(\"index of java: \", list1.index('java'))\n"
   ]
  },
  {
   "cell_type": "code",
   "execution_count": 32,
   "id": "5c0c11b2-15b7-41b7-99d1-52fd9d98b122",
   "metadata": {},
   "outputs": [
    {
     "name": "stdout",
     "output_type": "stream",
     "text": [
      "[3, 2, 1, 'java', 'python', 'helloworld']\n"
     ]
    }
   ],
   "source": [
    "# example of reverse \n",
    "\n",
    "list1 = ['helloworld', 'python', 'java', 1, 2, 3]\n",
    "list1.reverse()\n",
    "print(list1)"
   ]
  },
  {
   "cell_type": "code",
   "execution_count": 33,
   "id": "d09042ba-adf1-41a0-9f64-c62db259690c",
   "metadata": {},
   "outputs": [
    {
     "name": "stdout",
     "output_type": "stream",
     "text": [
      "list1 is  ['helloworld', 'python', 'java', 'c++', 1, 2, 3]\n",
      "list2 is  ['helloworld', 'python', 'java', 'c++', 1, 2, 3]\n"
     ]
    }
   ],
   "source": [
    "# example of copy()\n",
    "\n",
    "list1 = ['helloworld', 'python', 'java', 'c++', 1, 2, 3]\n",
    "list2 = list1.copy()\n",
    "print(\"list1 is \", list1)\n",
    "print(\"list2 is \", list2)"
   ]
  },
  {
   "cell_type": "markdown",
   "id": "e7822f0f-a638-4595-b507-52e7d91c3ec0",
   "metadata": {},
   "source": [
    "### list comprehension: elegant and concise way to create new list from an existing list in python\n",
    "- list comprehension consists of an expression followed by 'for' loop inside square brackets\n",
    "- List comprehension is considerably faster than processing a list using the 'for loop'"
   ]
  },
  {
   "cell_type": "code",
   "execution_count": 34,
   "id": "c8c86a5b-5c76-42c2-9ee9-5b0ff3fbe19a",
   "metadata": {},
   "outputs": [
    {
     "name": "stdout",
     "output_type": "stream",
     "text": [
      "[1, 2, 4, 8, 16, 32, 64, 128, 256, 512]\n"
     ]
    }
   ],
   "source": [
    "# here is the example to make a list with each item being increasing power of 2\n",
    "\n",
    "pow2 = [2 ** x for x in range(10)]\n",
    "print(pow2)"
   ]
  },
  {
   "cell_type": "code",
   "execution_count": 35,
   "id": "424b4e5b-2879-495a-be67-ee6b6acc397c",
   "metadata": {},
   "outputs": [
    {
     "name": "stdout",
     "output_type": "stream",
     "text": [
      "[1, 2, 4, 8, 16, 32, 64, 128, 256, 512]\n"
     ]
    }
   ],
   "source": [
    "# the above code is equivalent to:\n",
    "\n",
    "pow2 = []\n",
    "for x in range(10):\n",
    "    pow2.append(2 ** x)\n",
    "print(pow2)"
   ]
  },
  {
   "cell_type": "markdown",
   "id": "ff01beb4-4a1a-4889-a300-4c5fc209779d",
   "metadata": {},
   "source": [
    "- a list comprehension can optionally contain more for or if statements. an optional if statement can filter out items for the new list. Example:\n",
    "                                                                                                                "
   ]
  },
  {
   "cell_type": "code",
   "execution_count": 36,
   "id": "dfab25a3-fac6-49b5-9557-ac497b830e59",
   "metadata": {},
   "outputs": [
    {
     "data": {
      "text/plain": [
       "[64, 128, 256, 512]"
      ]
     },
     "execution_count": 36,
     "metadata": {},
     "output_type": "execute_result"
    }
   ],
   "source": [
    "pow2 = [2 ** x for x in range(10) if x>5]\n",
    "pow2"
   ]
  },
  {
   "cell_type": "code",
   "execution_count": 37,
   "id": "e4efe969-01cc-4a2c-bf47-424872d644b8",
   "metadata": {},
   "outputs": [
    {
     "data": {
      "text/plain": [
       "[1, 3, 5, 7, 9, 11, 13, 15, 17, 19]"
      ]
     },
     "execution_count": 37,
     "metadata": {},
     "output_type": "execute_result"
    }
   ],
   "source": [
    "odd = [x for x in range(20) if x % 2 == 1]\n",
    "odd"
   ]
  },
  {
   "cell_type": "code",
   "execution_count": 39,
   "id": "de416ba4-608c-47eb-b096-f5a38610f1cc",
   "metadata": {},
   "outputs": [
    {
     "data": {
      "text/plain": [
       "['Python Language', 'Python Programming', 'C Language', 'C Programming']"
      ]
     },
     "execution_count": 39,
     "metadata": {},
     "output_type": "execute_result"
    }
   ],
   "source": [
    "[x+y for x in ['Python', 'C'] for y in [' Language', ' Programming']]"
   ]
  },
  {
   "cell_type": "markdown",
   "id": "8551ef8d-2aa8-4216-afa7-bf84980f73af",
   "metadata": {},
   "source": [
    "### Other list operations in python"
   ]
  },
  {
   "cell_type": "markdown",
   "id": "712e310a-3d1e-4e92-940e-3b225ebfed32",
   "metadata": {},
   "source": [
    "1. List membership test\n",
    "- we can test if an item exists in a list or not, using the keyword 'in'."
   ]
  },
  {
   "cell_type": "code",
   "execution_count": 40,
   "id": "ab2db76f-308f-4185-810b-25694b28b770",
   "metadata": {},
   "outputs": [
    {
     "name": "stdout",
     "output_type": "stream",
     "text": [
      "True\n",
      "False\n",
      "True\n"
     ]
    }
   ],
   "source": [
    "my_list = ['p','r','o','b','l','e','m']\n",
    "\n",
    "# output: True or false\n",
    "print('p' in my_list)\n",
    "print('z' in my_list)\n",
    "print('x' not in my_list)"
   ]
  },
  {
   "cell_type": "markdown",
   "id": "d041e8da-28b7-4c4b-b96c-4a7e0e16d259",
   "metadata": {},
   "source": [
    "2. Iterating through a list\n",
    "- using for loop we can iterate through each item in a list. "
   ]
  },
  {
   "cell_type": "code",
   "execution_count": 41,
   "id": "2a94ccc5-f636-4973-887d-d41e018f75e0",
   "metadata": {},
   "outputs": [
    {
     "name": "stdout",
     "output_type": "stream",
     "text": [
      "i like  apple\n",
      "i like  banana\n",
      "i like  mango\n"
     ]
    }
   ],
   "source": [
    "for fruit in ['apple', 'banana', 'mango']:\n",
    "    print(\"i like \", fruit)"
   ]
  },
  {
   "cell_type": "markdown",
   "id": "ffa016a5-77ff-4b7a-883e-dd80ff9e61f2",
   "metadata": {},
   "source": [
    "3. Other list operations in python\n",
    "- Using a 'for' loop we can iterate through each item in a list:"
   ]
  },
  {
   "cell_type": "code",
   "execution_count": 42,
   "id": "8a3501cb-5d7f-4eb9-a41c-a7f9c2bf892c",
   "metadata": {},
   "outputs": [
    {
     "name": "stdout",
     "output_type": "stream",
     "text": [
      "a\n",
      "b\n",
      "c\n",
      "1\n",
      "2\n",
      "3\n"
     ]
    }
   ],
   "source": [
    "list1 = ['a', 'b', 'c', 1, 2, 3]\n",
    "for i in list1:\n",
    "    print(i)"
   ]
  },
  {
   "cell_type": "markdown",
   "id": "bbff13ad-8564-4ace-8402-d87bde5a0b03",
   "metadata": {},
   "source": [
    "### list comprehension vs string vs for loop in python\n",
    "Suppose, we want to separate the letters of the word Python and add the letters as items of a list.\n",
    "The first thing that comes in mind would be using String."
   ]
  },
  {
   "cell_type": "code",
   "execution_count": 45,
   "id": "27111592-89fc-4af9-b216-ac41ca85155b",
   "metadata": {},
   "outputs": [
    {
     "name": "stdout",
     "output_type": "stream",
     "text": [
      "['p', 'y', 't', 'h', 'o', 'n']\n",
      "<class 'list'>\n"
     ]
    }
   ],
   "source": [
    "# example 1: Converting string to a list \n",
    "# method 1:\n",
    "language = \"python\"\n",
    "lst = list(language)\n",
    "\n",
    "print(lst)\n",
    "print(type(lst))"
   ]
  },
  {
   "cell_type": "markdown",
   "id": "3052c6e9-84cf-406b-adf1-ad75d01af213",
   "metadata": {},
   "source": [
    "The second thing that comes in mind would be using for loop."
   ]
  },
  {
   "cell_type": "code",
   "execution_count": 47,
   "id": "59a23d80-8ad7-40a8-bb8f-65edad67489e",
   "metadata": {},
   "outputs": [
    {
     "name": "stdout",
     "output_type": "stream",
     "text": [
      "['p', 'y', 't', 'h', 'o', 'n']\n",
      "<class 'list'>\n"
     ]
    }
   ],
   "source": [
    "# example 1: iterating through a string using for loop\n",
    "# method 2:\n",
    "\n",
    "p_letters = []\n",
    "\n",
    "for letters in language:\n",
    "    p_letters.append(letters)\n",
    "print(p_letters)\n",
    "print(type(p_letters))"
   ]
  },
  {
   "cell_type": "markdown",
   "id": "330926c1-8aa7-4c00-873a-5137b651f779",
   "metadata": {},
   "source": [
    "Let's see how the above program can be written using list comprehension"
   ]
  },
  {
   "cell_type": "code",
   "execution_count": 48,
   "id": "5510d17b-1134-48c6-b40a-536f9573d5ab",
   "metadata": {},
   "outputs": [
    {
     "name": "stdout",
     "output_type": "stream",
     "text": [
      "['p', 'y', 't', 'h', 'o', 'n']\n",
      "<class 'list'>\n"
     ]
    }
   ],
   "source": [
    "# example 1: iterating through a string using list comprehension\n",
    "# method 3:\n",
    "\n",
    "p_letters = [letter for letter in 'python']\n",
    "print(p_letters)\n",
    "print(type(p_letters))"
   ]
  },
  {
   "cell_type": "markdown",
   "id": "1bcb2bd3-6f0c-4353-9bb5-44633adaad2e",
   "metadata": {},
   "source": [
    "syntax for above code is:\n",
    "[expression for item in list] = [letter for letter in 'python']\n"
   ]
  },
  {
   "cell_type": "markdown",
   "id": "e43dcf16-e072-476c-b392-bf5e40dc2a0b",
   "metadata": {},
   "source": [
    "If you notice, python is a string, not a list. This is the power of list comprehension. It can identify when it receives a string, tuple and work on it like a list"
   ]
  },
  {
   "cell_type": "markdown",
   "id": "cc19b48a-b094-4371-9c33-e535c69271c4",
   "metadata": {},
   "source": [
    "### Conditionals in List Comprehension\n",
    "For instance if you want to generate a list of numbers"
   ]
  },
  {
   "cell_type": "code",
   "execution_count": 49,
   "id": "df7b6c9c-b575-4acd-80b3-bc00398cbac8",
   "metadata": {},
   "outputs": [
    {
     "name": "stdout",
     "output_type": "stream",
     "text": [
      "[0, 1, 2, 3, 4, 5, 6, 7, 8, 9, 10]\n"
     ]
    }
   ],
   "source": [
    "# example 2:\n",
    "# method 1: generating numbers\n",
    "\n",
    "number = [i for i in range(11)]\n",
    "print(number)"
   ]
  },
  {
   "cell_type": "code",
   "execution_count": 50,
   "id": "9df3e520-02ee-425c-b972-9c676584410b",
   "metadata": {},
   "outputs": [
    {
     "name": "stdout",
     "output_type": "stream",
     "text": [
      "[0, 1, 4, 9, 16, 25, 36, 49, 64, 81, 100]\n"
     ]
    }
   ],
   "source": [
    "# method 2: Mathematical operations during iteration\n",
    "\n",
    "squares = [i * i for i in range(11)]\n",
    "print(squares)"
   ]
  },
  {
   "cell_type": "code",
   "execution_count": 51,
   "id": "ba930e51-edf6-4a7e-a53d-8d188b4a9d11",
   "metadata": {},
   "outputs": [
    {
     "name": "stdout",
     "output_type": "stream",
     "text": [
      "[(0, 0), (1, 1), (2, 4), (3, 9), (4, 16), (5, 25), (6, 36), (7, 49), (8, 64), (9, 81), (10, 100)]\n"
     ]
    }
   ],
   "source": [
    "# method 3: it is also possible to make list of tuples\n",
    "\n",
    "numbers = [(i, i * i) for i in range(11)]\n",
    "print(numbers)"
   ]
  },
  {
   "cell_type": "code",
   "execution_count": 52,
   "id": "c9658adb-4e38-4c8b-80bf-ba96849ce2c0",
   "metadata": {},
   "outputs": [
    {
     "name": "stdout",
     "output_type": "stream",
     "text": [
      "[0, 2, 4, 6, 8, 10, 12, 14, 16, 18, 20, 22, 24, 26, 28]\n"
     ]
    }
   ],
   "source": [
    "# generating even numbers\n",
    "\n",
    "ever_numbers = [i for i in range(30) if i % 2 == 0]\n",
    "print(ever_numbers)"
   ]
  },
  {
   "cell_type": "code",
   "execution_count": 53,
   "id": "bb973f01-465a-4c9b-809f-a1a0d29670d3",
   "metadata": {},
   "outputs": [
    {
     "name": "stdout",
     "output_type": "stream",
     "text": [
      "[1, 3, 5, 7, 9, 11, 13, 15, 17, 19, 21, 23, 25, 27, 29]\n"
     ]
    }
   ],
   "source": [
    "# generating odd numbers\n",
    "\n",
    "odd_numbers = [i for i in range(30) if i % 2 == 1] # if i % 2 != 0 will also work\n",
    "print(odd_numbers)"
   ]
  },
  {
   "cell_type": "code",
   "execution_count": 54,
   "id": "76d579dc-394b-4c11-a1aa-3e4ba7ffae72",
   "metadata": {},
   "outputs": [
    {
     "name": "stdout",
     "output_type": "stream",
     "text": [
      "[2, 4, 6, 8, 10]\n"
     ]
    }
   ],
   "source": [
    "# filter numbers: positive even numbers from list given below\n",
    "\n",
    "numbers = [-8,-7,-3,-1,0,1,2,3,4,5,7,6,8,10]\n",
    "filter_numbers = [i for i in numbers if i % 2 == 0 and i>0]\n",
    "print(filter_numbers)"
   ]
  },
  {
   "cell_type": "code",
   "execution_count": 55,
   "id": "57564e3a-be3c-4b73-91bb-de9bd48ef9e6",
   "metadata": {},
   "outputs": [
    {
     "name": "stdout",
     "output_type": "stream",
     "text": [
      "[1, 2, 3, 4, 5, 6, 7, 8, 9]\n"
     ]
    }
   ],
   "source": [
    "# flattening a three dimensional array\n",
    "\n",
    "list_of_lists = [[1,2,3],[4,5,6],[7,8,9]]\n",
    "flatten_list = [i for row in list_of_lists for i in row]\n",
    "print(flatten_list)"
   ]
  },
  {
   "cell_type": "code",
   "execution_count": 57,
   "id": "58b08d0e-4f74-4564-8df9-2fd80b8e000e",
   "metadata": {},
   "outputs": [
    {
     "data": {
      "text/plain": [
       "['python language', 'python programming', 'c++ language', 'c++ programming']"
      ]
     },
     "execution_count": 57,
     "metadata": {},
     "output_type": "execute_result"
    }
   ],
   "source": [
    "# x+y from two list\n",
    "[x+y for x in ['python ', 'c++ '] for y in ['language', 'programming']]\n"
   ]
  },
  {
   "cell_type": "code",
   "execution_count": 59,
   "id": "7b3ef961-1264-41df-be6b-5cd3c3c54258",
   "metadata": {},
   "outputs": [
    {
     "name": "stdout",
     "output_type": "stream",
     "text": [
      "[0, 10, 20, 30, 40, 50, 60, 70, 80, 90]\n"
     ]
    }
   ],
   "source": [
    "# example: Nested \"if\" with list comprehension\n",
    "\n",
    "num_list = [y for y in range(100) if y % 2 == 0 if y % 5 == 0]\n",
    "print(num_list)"
   ]
  },
  {
   "cell_type": "code",
   "execution_count": 61,
   "id": "0770c0b9-b2c1-41af-9921-5fb9ba4ef43f",
   "metadata": {},
   "outputs": [
    {
     "name": "stdout",
     "output_type": "stream",
     "text": [
      "['Even', 'odd', 'Even', 'odd', 'Even', 'odd', 'Even', 'odd', 'Even', 'odd']\n"
     ]
    }
   ],
   "source": [
    "# example: if else with list comprehension\n",
    "\n",
    "obj = [\"Even\" if i % 2 == 0 else \"odd\" for i in range(10)]\n",
    "print(obj)"
   ]
  },
  {
   "cell_type": "markdown",
   "id": "0f76c079-fb58-43db-beb6-e9f2a5a3e130",
   "metadata": {},
   "source": [
    "### list comprehension vs lambda functions\n",
    "\n",
    "### Lambda Function\n",
    "lambda function is a small anonymous function without a name. It can take any number of arguments, but can only have one expression. Lambda functiuon is similar to anonymous function in JavaScript. We need it when we want to write an anonymous function inside another function.\n",
    "\n",
    "### creating a lambda function\n",
    "To create a lambda function we use 'lambda' keyword followed by a parameters, followed by an expression. See the syntax and examp[le. lambda function does not use return but it explicilty returns the expression.\n",
    "\n",
    "**syntax:**\n",
    "x = lambda param1, param2, param3: param1 + param2 + param3\n",
    "print(x(arg1, arg2, arg3))\n"
   ]
  },
  {
   "cell_type": "code",
   "execution_count": 62,
   "id": "d44f9eef-b38a-4a03-84c9-669a227266ab",
   "metadata": {},
   "outputs": [
    {
     "ename": "NameError",
     "evalue": "name 'arg1' is not defined",
     "output_type": "error",
     "traceback": [
      "\u001b[1;31m---------------------------------------------------------------------------\u001b[0m",
      "\u001b[1;31mNameError\u001b[0m                                 Traceback (most recent call last)",
      "Cell \u001b[1;32mIn[62], line 2\u001b[0m\n\u001b[0;32m      1\u001b[0m x \u001b[38;5;241m=\u001b[39m \u001b[38;5;28;01mlambda\u001b[39;00m param1, param2, param3: param1 \u001b[38;5;241m+\u001b[39m param2 \u001b[38;5;241m+\u001b[39m param3\n\u001b[1;32m----> 2\u001b[0m \u001b[38;5;28mprint\u001b[39m(x(\u001b[43marg1\u001b[49m, arg2, arg3))\n",
      "\u001b[1;31mNameError\u001b[0m: name 'arg1' is not defined"
     ]
    }
   ],
   "source": [
    "x = lambda param1, param2, param3: param1 + param2 + param3\n",
    "print(x(arg1, arg2, arg3))"
   ]
  },
  {
   "cell_type": "code",
   "execution_count": 63,
   "id": "aa851099-c05d-4ffb-a00d-3b2e67195090",
   "metadata": {},
   "outputs": [
    {
     "name": "stdout",
     "output_type": "stream",
     "text": [
      "5\n"
     ]
    }
   ],
   "source": [
    "# named function\n",
    "def add_two_nums(a,b):\n",
    "    return a+b\n",
    "print(add_two_nums(2,3))"
   ]
  },
  {
   "cell_type": "code",
   "execution_count": 64,
   "id": "fb87f948-35bd-490d-8d94-16a3dd2cce3f",
   "metadata": {},
   "outputs": [
    {
     "name": "stdout",
     "output_type": "stream",
     "text": [
      "5\n"
     ]
    }
   ],
   "source": [
    "# lets change above function to lambda function\n",
    "\n",
    "add_two_nums = lambda a,b:a+b\n",
    "print(add_two_nums(2,3))"
   ]
  },
  {
   "cell_type": "code",
   "execution_count": 66,
   "id": "6c336dc0-5a13-4d11-bb13-b5287e189fc3",
   "metadata": {},
   "outputs": [
    {
     "data": {
      "text/plain": [
       "5"
      ]
     },
     "execution_count": 66,
     "metadata": {},
     "output_type": "execute_result"
    }
   ],
   "source": [
    "# self invoking lambda function  # best\n",
    "(lambda a,b:a+b)(2,3)"
   ]
  },
  {
   "cell_type": "code",
   "execution_count": 67,
   "id": "9b780419-340f-45f3-8e74-1a25bbcd787a",
   "metadata": {},
   "outputs": [
    {
     "name": "stdout",
     "output_type": "stream",
     "text": [
      "9\n"
     ]
    },
    {
     "data": {
      "text/plain": [
       "27"
      ]
     },
     "execution_count": 67,
     "metadata": {},
     "output_type": "execute_result"
    }
   ],
   "source": [
    "square = lambda a:a**2\n",
    "print(square(3))\n",
    "(lambda b:b**3)(3)"
   ]
  },
  {
   "cell_type": "code",
   "execution_count": 68,
   "id": "ac81b602-b3b3-4e60-8820-a44a664c6e9a",
   "metadata": {},
   "outputs": [
    {
     "name": "stdout",
     "output_type": "stream",
     "text": [
      "22\n"
     ]
    }
   ],
   "source": [
    "# multiple variables\n",
    "\n",
    "multiple_variable = lambda a, b, c : a ** 2 - 3 * b + 4 * c\n",
    "print(multiple_variable(5, 5, 3))"
   ]
  },
  {
   "cell_type": "code",
   "execution_count": 69,
   "id": "d8bd0395-3b88-449d-9c77-e6524d11c166",
   "metadata": {},
   "outputs": [
    {
     "name": "stdout",
     "output_type": "stream",
     "text": [
      "8\n"
     ]
    }
   ],
   "source": [
    "### Lambda function inside another function\n",
    "\n",
    "def power(x):\n",
    "    return lambda n : x ** n\n",
    "\n",
    "cube = power(2)(3) \n",
    "print(cube)"
   ]
  },
  {
   "cell_type": "code",
   "execution_count": 70,
   "id": "c632b149-3304-4f33-93df-080c5cffcb4b",
   "metadata": {},
   "outputs": [
    {
     "name": "stdout",
     "output_type": "stream",
     "text": [
      "16\n"
     ]
    }
   ],
   "source": [
    "quad = power(2)(4)\n",
    "print(quad)"
   ]
  },
  {
   "cell_type": "code",
   "execution_count": 71,
   "id": "f94c07b1-552f-4c61-a04e-64656381b472",
   "metadata": {},
   "outputs": [
    {
     "name": "stdout",
     "output_type": "stream",
     "text": [
      "['p', 'y', 't', 'h', 'o', 'n']\n"
     ]
    }
   ],
   "source": [
    "# using lambda inside list\n",
    "\n",
    "letters = list(map(lambda x: x, 'python'))\n",
    "print(letters)\n"
   ]
  },
  {
   "cell_type": "markdown",
   "id": "d1017095-1e61-42ee-ab26-1c4530ece1db",
   "metadata": {},
   "source": [
    "### Nested loop in list comprehension\n",
    "Suppose we need to compute the transpose of a matrix that requires nested for loop "
   ]
  },
  {
   "cell_type": "code",
   "execution_count": 72,
   "id": "f4f4f939-4cf9-4c7e-97df-783f33c1c799",
   "metadata": {},
   "outputs": [
    {
     "name": "stdout",
     "output_type": "stream",
     "text": [
      "[[1, 5], [2, 6], [3, 7], [4, 8]]\n"
     ]
    }
   ],
   "source": [
    "# example: transpose of matrix using nested loops\n",
    "\n",
    "transposed = []\n",
    "matrix = [[1,2,3,4], [5,6,7,8]]\n",
    "\n",
    "for i in range(len(matrix[0])):\n",
    "    transposed_row = []\n",
    "    for row in matrix:\n",
    "        transposed_row.append(row[i])\n",
    "    transposed.append(transposed_row)\n",
    "print(transposed)"
   ]
  },
  {
   "cell_type": "code",
   "execution_count": 73,
   "id": "90d2d68e-8a8d-4593-8ec0-608e9af531a1",
   "metadata": {},
   "outputs": [
    {
     "name": "stdout",
     "output_type": "stream",
     "text": [
      "[[1, 3, 5, 7], [2, 4, 6, 8]]\n"
     ]
    }
   ],
   "source": [
    "# example: transpose of a matrix using list comprehension\n",
    "\n",
    "matrix = [[1,2],[3,4],[5,6],[7,8]]\n",
    "transpose = [[row[i] for row in matrix] for i in range(2)]\n",
    "print(transpose)"
   ]
  },
  {
   "cell_type": "code",
   "execution_count": 74,
   "id": "e507e075-81a6-4570-965d-588cfebd59c5",
   "metadata": {},
   "outputs": [
    {
     "name": "stdout",
     "output_type": "stream",
     "text": [
      "10\n"
     ]
    }
   ],
   "source": [
    "l = [None] * 10\n",
    "print(len(l))"
   ]
  },
  {
   "cell_type": "code",
   "execution_count": null,
   "id": "c3c72dac-a462-4415-b27a-511d208079f3",
   "metadata": {},
   "outputs": [],
   "source": []
  }
 ],
 "metadata": {
  "kernelspec": {
   "display_name": "Python 3 (ipykernel)",
   "language": "python",
   "name": "python3"
  },
  "language_info": {
   "codemirror_mode": {
    "name": "ipython",
    "version": 3
   },
   "file_extension": ".py",
   "mimetype": "text/x-python",
   "name": "python",
   "nbconvert_exporter": "python",
   "pygments_lexer": "ipython3",
   "version": "3.12.3"
  }
 },
 "nbformat": 4,
 "nbformat_minor": 5
}
