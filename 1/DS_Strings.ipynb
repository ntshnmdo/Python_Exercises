{
 "cells": [
  {
   "cell_type": "code",
   "execution_count": 1,
   "id": "3880accb-3a8a-4e59-a944-ab1ba6cc7686",
   "metadata": {},
   "outputs": [
    {
     "name": "stdout",
     "output_type": "stream",
     "text": [
      "888\n",
      "<class 'int'>\n",
      "888\n",
      "<class 'str'>\n"
     ]
    }
   ],
   "source": [
    "print(888)\n",
    "print(type(888))\n",
    "\n",
    "print(\"888\")\n",
    "print(type(\"888\"))"
   ]
  },
  {
   "cell_type": "code",
   "execution_count": 2,
   "id": "4746c315-4b4d-4a73-91de-9d3bab31c1d3",
   "metadata": {},
   "outputs": [
    {
     "name": "stdout",
     "output_type": "stream",
     "text": [
      "P\n",
      "y\n",
      "t\n",
      "h\n",
      "o\n",
      "n\n"
     ]
    }
   ],
   "source": [
    "# Unpacking Characters\n",
    "\n",
    "language = 'Python'\n",
    "a,b,c,d,e,f = language #unpacking sequence characters into variables\n",
    "print(a)\n",
    "print(b)\n",
    "print(c)\n",
    "print(d)\n",
    "print(e)\n",
    "print(f)"
   ]
  },
  {
   "cell_type": "code",
   "execution_count": 4,
   "id": "91166e97-18b7-4634-8a29-abe62a3a285b",
   "metadata": {},
   "outputs": [
    {
     "name": "stdout",
     "output_type": "stream",
     "text": [
      "P\n",
      "y\n",
      "n\n"
     ]
    }
   ],
   "source": [
    "first_letter = language[0]\n",
    "print(first_letter)\n",
    "\n",
    "second_letter = language[1]\n",
    "print(second_letter)\n",
    "\n",
    "last_index = len(language)-1\n",
    "last_letter = language[last_index]\n",
    "print(last_letter)"
   ]
  },
  {
   "cell_type": "code",
   "execution_count": 10,
   "id": "6914f3f4-f8df-43d8-8124-53105e87d11b",
   "metadata": {},
   "outputs": [
    {
     "name": "stdout",
     "output_type": "stream",
     "text": [
      "M \t l\n",
      "y \t o\n",
      "  \t o\n",
      "A \t h\n",
      "n \t c\n",
      "a \t S\n",
      "l \t  \n",
      "y \t l\n",
      "t \t a\n",
      "i \t c\n",
      "c \t i\n",
      "a \t t\n",
      "l \t y\n",
      "  \t l\n",
      "S \t a\n",
      "c \t n\n",
      "h \t A\n",
      "o \t  \n",
      "o \t y\n",
      "l \t M\n"
     ]
    }
   ],
   "source": [
    "# Here, we are creating a simple program to retrieve string in reverse as well as normal form.\n",
    "\n",
    "name = \"My Analytical School\"\n",
    "length = len(name)\n",
    "# print(length)\n",
    "\n",
    "i = 0 # i starting from 0\n",
    "\n",
    "for n in range(-1, (-length-1), -1): # n iterating from back\n",
    "    print(name[i], \"\\t\", name[n])\n",
    "    i+=1"
   ]
  },
  {
   "cell_type": "code",
   "execution_count": 1,
   "id": "b9bb6012-182d-4d0a-b9e9-38a3036b4b90",
   "metadata": {},
   "outputs": [
    {
     "name": "stdout",
     "output_type": "stream",
     "text": [
      "The string '123456789' string is 9 characters long\n",
      "First Character of 123456789 is 1\n",
      "Second Character of 123456789 is 2\n",
      "Last Character of 123456789 is 9\n",
      "Last Character of 123456789 is 9\n",
      "Last Character of 123456789 is 9\n",
      "First Character of 123456789 is 1\n"
     ]
    }
   ],
   "source": [
    "s = \"123456789\" # indexing starts from 0 to 8\n",
    "\n",
    "print(\"The string '%s' string is %d characters long\" %(s,len(s))) # by using % we define s and len(s)\n",
    "print(\"First Character of\",s,'is',s[0])\n",
    "print(\"Second Character of\",s,'is',s[1])\n",
    "print(\"Last Character of\",s,'is',s[-1])\n",
    "print(\"Last Character of\",s,'is',s[8])\n",
    "print(\"Last Character of\",s,'is',s[len(s)-1])\n",
    "print(\"First Character of\",s,'is',s[-len(s)]) # len(s) = 9"
   ]
  },
  {
   "cell_type": "code",
   "execution_count": 5,
   "id": "6efd3548-da64-43a0-a6e5-55ecec64f9a3",
   "metadata": {},
   "outputs": [
    {
     "name": "stdout",
     "output_type": "stream",
     "text": [
      "First three char: 123\n",
      "Next three char: 456\n",
      "Last three char: 789\n"
     ]
    }
   ],
   "source": [
    "print(\"First three char:\", s[:3])\n",
    "print(\"Next three char:\", s[3:6])\n",
    "print(\"Last three char:\", s[-3:])"
   ]
  },
  {
   "cell_type": "markdown",
   "id": "0beb8f8c-17b0-497c-85f9-a37bc870a988",
   "metadata": {},
   "source": [
    "### Breaking appart strings"
   ]
  },
  {
   "cell_type": "code",
   "execution_count": 4,
   "id": "90ebc89d-4c16-4491-b8fb-39fa34cc8689",
   "metadata": {},
   "outputs": [
    {
     "name": "stdout",
     "output_type": "stream",
     "text": [
      "('one', '-', 'two-three')\n",
      "['one-two-three']\n",
      "['one', 'two', 'three']\n",
      "one<two<three\n"
     ]
    }
   ],
   "source": [
    "s = \"one-two-three\"\n",
    "print(s.partition(\"-\")) #breaks the string into three parts based on a separator\n",
    "print(s.split())\n",
    "print(s.split(\"-\"))\n",
    "print(\"<\".join(s.split(\"-\")))"
   ]
  },
  {
   "cell_type": "code",
   "execution_count": 10,
   "id": "0c832466-44e8-4fd4-9d22-c6ba47b96115",
   "metadata": {},
   "outputs": [
    {
     "name": "stdout",
     "output_type": "stream",
     "text": [
      "['This', 'will', 'split', 'all', 'words', 'into', 'a', 'list']\n"
     ]
    }
   ],
   "source": [
    "s = \"This will split all words into a list\"\n",
    "print(s.split())"
   ]
  },
  {
   "cell_type": "code",
   "execution_count": 11,
   "id": "d692feb2-90df-499c-b8f8-999f50df81bf",
   "metadata": {},
   "outputs": [
    {
     "data": {
      "text/plain": [
       "'This will split all words into a list'"
      ]
     },
     "execution_count": 11,
     "metadata": {},
     "output_type": "execute_result"
    }
   ],
   "source": [
    "\" \".join(s.split())"
   ]
  },
  {
   "cell_type": "code",
   "execution_count": 12,
   "id": "46ee3dae-8328-4ee0-8003-a13df3230cbf",
   "metadata": {},
   "outputs": [
    {
     "data": {
      "text/plain": [
       "7"
      ]
     },
     "execution_count": 12,
     "metadata": {},
     "output_type": "execute_result"
    }
   ],
   "source": [
    "\"Happy New Year\".find('ew')"
   ]
  },
  {
   "cell_type": "code",
   "execution_count": 13,
   "id": "eecee2a3-9aed-4954-8e11-0907fda6606e",
   "metadata": {},
   "outputs": [
    {
     "data": {
      "text/plain": [
       "'Brilliant New Year'"
      ]
     },
     "execution_count": 13,
     "metadata": {},
     "output_type": "execute_result"
    }
   ],
   "source": [
    "\"Happy New Year\".replace(\"Happy\", \"Brilliant\")"
   ]
  },
  {
   "cell_type": "markdown",
   "id": "afbb682e-876d-4163-a359-0423798c2144",
   "metadata": {},
   "source": [
    "### Change or Delete a string"
   ]
  },
  {
   "cell_type": "code",
   "execution_count": 14,
   "id": "0c87148e-8050-47f1-b743-3db40d854907",
   "metadata": {},
   "outputs": [
    {
     "ename": "TypeError",
     "evalue": "'str' object does not support item assignment",
     "output_type": "error",
     "traceback": [
      "\u001b[1;31m---------------------------------------------------------------------------\u001b[0m",
      "\u001b[1;31mTypeError\u001b[0m                                 Traceback (most recent call last)",
      "Cell \u001b[1;32mIn[14], line 2\u001b[0m\n\u001b[0;32m      1\u001b[0m my_string \u001b[38;5;241m=\u001b[39m \u001b[38;5;124m\"\u001b[39m\u001b[38;5;124mPython\u001b[39m\u001b[38;5;124m\"\u001b[39m\n\u001b[1;32m----> 2\u001b[0m \u001b[43mmy_string\u001b[49m\u001b[43m[\u001b[49m\u001b[38;5;241;43m5\u001b[39;49m\u001b[43m]\u001b[49m \u001b[38;5;241m=\u001b[39m \u001b[38;5;124m\"\u001b[39m\u001b[38;5;124ma\u001b[39m\u001b[38;5;124m\"\u001b[39m\n",
      "\u001b[1;31mTypeError\u001b[0m: 'str' object does not support item assignment"
     ]
    }
   ],
   "source": [
    "my_string = \"Python\"\n",
    "my_string[5] = \"a\""
   ]
  },
  {
   "cell_type": "code",
   "execution_count": 17,
   "id": "3a6ca083-c798-433c-92a6-2c87fb5645ca",
   "metadata": {},
   "outputs": [
    {
     "name": "stdout",
     "output_type": "stream",
     "text": [
      "New string sX with 2 replaced by X is 01X345\n"
     ]
    }
   ],
   "source": [
    "s = \"012345\"\n",
    "sX = s[0:2]+'X'+s[3:] # this creates a new string sX with X replacing 2.\n",
    "print(\"New string sX with 2 replaced by X is\", sX)"
   ]
  },
  {
   "cell_type": "code",
   "execution_count": 21,
   "id": "aad55146-38a2-4763-a0a1-edc54e0d6eb8",
   "metadata": {},
   "outputs": [
    {
     "name": "stdout",
     "output_type": "stream",
     "text": [
      "Another way to create sX: 01X345\n"
     ]
    }
   ],
   "source": [
    "sX = s.replace('2', 'X')\n",
    "print(\"Another way to create sX:\", sX)"
   ]
  },
  {
   "cell_type": "code",
   "execution_count": 22,
   "id": "5ae24b73-0150-4161-8991-f6cfd3a38b20",
   "metadata": {},
   "outputs": [
    {
     "ename": "TypeError",
     "evalue": "'str' object doesn't support item deletion",
     "output_type": "error",
     "traceback": [
      "\u001b[1;31m---------------------------------------------------------------------------\u001b[0m",
      "\u001b[1;31mTypeError\u001b[0m                                 Traceback (most recent call last)",
      "Cell \u001b[1;32mIn[22], line 2\u001b[0m\n\u001b[0;32m      1\u001b[0m my_string \u001b[38;5;241m=\u001b[39m \u001b[38;5;124m\"\u001b[39m\u001b[38;5;124mpython\u001b[39m\u001b[38;5;124m\"\u001b[39m\n\u001b[1;32m----> 2\u001b[0m \u001b[38;5;28;01mdel\u001b[39;00m \u001b[43mmy_string\u001b[49m\u001b[43m[\u001b[49m\u001b[38;5;241;43m2\u001b[39;49m\u001b[43m]\u001b[49m \u001b[38;5;66;03m# deleting element of a string gives error\u001b[39;00m\n",
      "\u001b[1;31mTypeError\u001b[0m: 'str' object doesn't support item deletion"
     ]
    }
   ],
   "source": [
    "my_string = \"python\"\n",
    "del my_string[2] # deleting element of a string gives error"
   ]
  },
  {
   "cell_type": "code",
   "execution_count": 23,
   "id": "c55578b9-5b5c-4c8d-9678-c718cb04807c",
   "metadata": {},
   "outputs": [],
   "source": [
    "my_string = \"python\"\n",
    "del my_string"
   ]
  },
  {
   "cell_type": "code",
   "execution_count": 24,
   "id": "2dfb082f-dbcb-4f30-89b2-e14903157a19",
   "metadata": {},
   "outputs": [
    {
     "ename": "NameError",
     "evalue": "name 'my_string' is not defined",
     "output_type": "error",
     "traceback": [
      "\u001b[1;31m---------------------------------------------------------------------------\u001b[0m",
      "\u001b[1;31mNameError\u001b[0m                                 Traceback (most recent call last)",
      "Cell \u001b[1;32mIn[24], line 1\u001b[0m\n\u001b[1;32m----> 1\u001b[0m \u001b[43mmy_string\u001b[49m\n",
      "\u001b[1;31mNameError\u001b[0m: name 'my_string' is not defined"
     ]
    }
   ],
   "source": [
    "my_string"
   ]
  },
  {
   "cell_type": "markdown",
   "id": "a91d5aac-0107-4894-ad59-4cd1e99b67e6",
   "metadata": {},
   "source": [
    "this tells that my_string doesnot exist"
   ]
  },
  {
   "cell_type": "markdown",
   "id": "38f34c7b-ad8d-4c03-95d8-cf5d0852d1a7",
   "metadata": {},
   "source": [
    "### Concatenation (+ operator)\n",
    "Joining of two or more strings into a single one is called concatenation"
   ]
  },
  {
   "cell_type": "code",
   "execution_count": 25,
   "id": "c7c0f29b-a186-4da3-a44c-40a03d014b56",
   "metadata": {},
   "outputs": [
    {
     "name": "stdout",
     "output_type": "stream",
     "text": [
      "HelloWorld!\n",
      "Hello World!\n"
     ]
    }
   ],
   "source": [
    "# concatenation\n",
    "a = \"Hello\"\n",
    "b = \"World!\"\n",
    "print(a+b)\n",
    "print(a+\" \"+b)"
   ]
  },
  {
   "cell_type": "code",
   "execution_count": 26,
   "id": "11e72150-3453-4ca2-b169-d490b327f7c5",
   "metadata": {},
   "outputs": [
    {
     "ename": "TypeError",
     "evalue": "can only concatenate str (not \"int\") to str",
     "output_type": "error",
     "traceback": [
      "\u001b[1;31m---------------------------------------------------------------------------\u001b[0m",
      "\u001b[1;31mTypeError\u001b[0m                                 Traceback (most recent call last)",
      "Cell \u001b[1;32mIn[26], line 1\u001b[0m\n\u001b[1;32m----> 1\u001b[0m \u001b[38;5;28mprint\u001b[39m(\u001b[38;5;124;43m\"\u001b[39;49m\u001b[38;5;124;43mHelloWorld\u001b[39;49m\u001b[38;5;124;43m\"\u001b[39;49m\u001b[43m \u001b[49m\u001b[38;5;241;43m+\u001b[39;49m\u001b[43m \u001b[49m\u001b[38;5;241;43m99\u001b[39;49m)\n",
      "\u001b[1;31mTypeError\u001b[0m: can only concatenate str (not \"int\") to str"
     ]
    }
   ],
   "source": [
    "print(\"HelloWorld\" + 99)"
   ]
  },
  {
   "cell_type": "markdown",
   "id": "ce7a5bec-37f0-4e0d-a732-41fa44669c12",
   "metadata": {},
   "source": [
    "can only concatenate str (not \"int\") to str"
   ]
  },
  {
   "cell_type": "markdown",
   "id": "559ff884-2bb6-4d7d-be0e-a16ba4372d5d",
   "metadata": {},
   "source": [
    "### Replication Operator(*)"
   ]
  },
  {
   "cell_type": "code",
   "execution_count": 28,
   "id": "2a170ac7-2466-49e7-a88e-c7ba1fd4ff5b",
   "metadata": {},
   "outputs": [
    {
     "name": "stdout",
     "output_type": "stream",
     "text": [
      "HelloHelloHello\n",
      "OK OK \n"
     ]
    }
   ],
   "source": [
    "print(\"Hello\" * 3)\n",
    "print(2 * \"OK \")"
   ]
  },
  {
   "cell_type": "markdown",
   "id": "e21b1961-bf06-424d-a424-53ab2ce95844",
   "metadata": {},
   "source": [
    "If we want to concatenate strings in different lines, we can use parentheses()"
   ]
  },
  {
   "cell_type": "code",
   "execution_count": 29,
   "id": "b420b1ec-5e39-4e68-b5eb-c9f8577b3601",
   "metadata": {},
   "outputs": [
    {
     "data": {
      "text/plain": [
       "'Hello World! '"
      ]
     },
     "execution_count": 29,
     "metadata": {},
     "output_type": "execute_result"
    }
   ],
   "source": [
    "# two string literals together\n",
    "\n",
    "'Hello ''World! '"
   ]
  },
  {
   "cell_type": "code",
   "execution_count": 31,
   "id": "2b8f5cf3-7261-4995-98bf-8f6143aca14c",
   "metadata": {},
   "outputs": [
    {
     "data": {
      "text/plain": [
       "'Hello World'"
      ]
     },
     "execution_count": 31,
     "metadata": {},
     "output_type": "execute_result"
    }
   ],
   "source": [
    "# using parentheses\n",
    "s = ('Hello '\n",
    "     'World')\n",
    "s"
   ]
  },
  {
   "cell_type": "code",
   "execution_count": 32,
   "id": "86dcdb20-a32d-4693-91dd-de1b9ed6da86",
   "metadata": {},
   "outputs": [
    {
     "name": "stdout",
     "output_type": "stream",
     "text": [
      "3 \"l\" letters found\n"
     ]
    }
   ],
   "source": [
    "# Iterate through a string\n",
    "\n",
    "count = 0\n",
    "\n",
    "for i in s:\n",
    "    if (i == 'l'):\n",
    "        count +=1\n",
    "print(count, '\"l\" letters found')"
   ]
  },
  {
   "cell_type": "code",
   "execution_count": 34,
   "id": "8f7dde90-6de4-4d7e-bd91-a088747446df",
   "metadata": {},
   "outputs": [
    {
     "name": "stdout",
     "output_type": "stream",
     "text": [
      "Example of IN and NOT IN operator:\n",
      "True\n",
      "True\n",
      "False\n",
      "\n",
      "False\n",
      "False\n",
      "True\n"
     ]
    }
   ],
   "source": [
    "# example of membership operators\n",
    "\n",
    "str1 = \"HelloWorld\"\n",
    "str2 = \"Hello\"\n",
    "str3 = \"World\"\n",
    "str4 = \"Milan\"\n",
    "\n",
    "print('Example of IN and NOT IN operator:')\n",
    "print(str2 in str1)\n",
    "print(str3 in str1)\n",
    "print(str4 in str1)\n",
    "print()\n",
    "print(str2 not in str1)\n",
    "print(str3 not in str1)\n",
    "print(str4 not in str1)"
   ]
  },
  {
   "cell_type": "code",
   "execution_count": 36,
   "id": "f4177823-8ee2-402c-903c-57222a9557a1",
   "metadata": {},
   "outputs": [
    {
     "name": "stdout",
     "output_type": "stream",
     "text": [
      "True\n",
      "True\n",
      "True\n",
      "False\n"
     ]
    }
   ],
   "source": [
    "# relational operators\n",
    "\n",
    "print(7==7)\n",
    "print(7>=6)\n",
    "print(7<8)\n",
    "print(8>9)"
   ]
  },
  {
   "cell_type": "markdown",
   "id": "f72475b4-0ae3-4074-89c6-138c0488af2a",
   "metadata": {},
   "source": [
    "ASCII value of \n",
    "1) a is 97\n",
    "2) b is 98\n",
    "3) c is 99 and so on\n",
    "\n",
    "1) A is 65\n",
    "2) B is 66\n",
    "3) C is 67 and so on"
   ]
  },
  {
   "cell_type": "markdown",
   "id": "8beb3fd0-cea0-4d3e-bdc6-f1b290fcae08",
   "metadata": {},
   "source": [
    "### % operators"
   ]
  },
  {
   "cell_type": "code",
   "execution_count": 39,
   "id": "e39da594-e4bb-4869-82a1-1eef85efd9c2",
   "metadata": {},
   "outputs": [
    {
     "name": "stdout",
     "output_type": "stream",
     "text": [
      "Hello World!\n",
      "Actual Number = 19\n",
      "Neeraj's PB Throw = 89.450000\n",
      "Octal equivalent of the number '19' = 23\n",
      "Hexadecimal equivalent of the number '19' = 13\n",
      "Exponential equivalent of the number '19' = 1.900000e+01\n"
     ]
    }
   ],
   "source": [
    "string1 = \"World!\"\n",
    "print(\"Hello %s\" % string1)\n",
    "print(\"Actual Number = %d\" %19)\n",
    "print(\"Neeraj's PB Throw = %f\" %89.45)\n",
    "print(\"Octal equivalent of the number '19' = %o\" %19)\n",
    "print(\"Hexadecimal equivalent of the number '19' = %x\" %19)\n",
    "print(\"Exponential equivalent of the number '19' = %e\" %19)"
   ]
  },
  {
   "cell_type": "code",
   "execution_count": 42,
   "id": "7da3512d-c36e-4c8e-8b91-c16c3b761808",
   "metadata": {},
   "outputs": [
    {
     "name": "stdout",
     "output_type": "stream",
     "text": [
      "Hello World! :). My Name is Nitish, you can call me 7.\n"
     ]
    }
   ],
   "source": [
    "string2 = \":)\"\n",
    "print(\"Hello %s %s. My Name is Nitish, you can call me %d.\" %(string1, string2,7))"
   ]
  },
  {
   "cell_type": "markdown",
   "id": "6ce2e00f-87d5-4dd2-b623-bdae86e01ed3",
   "metadata": {},
   "source": [
    "we can also specify the width of the field and the number of decimal places to be used. for example :"
   ]
  },
  {
   "cell_type": "code",
   "execution_count": 4,
   "id": "0c11c79e-de84-4417-9409-85bf2ac5fa62",
   "metadata": {},
   "outputs": [
    {
     "name": "stdout",
     "output_type": "stream",
     "text": [
      "print width 10: |         x|\n",
      "print width 10: |x         |\n",
      "The number pi = 3.1 Pi to 1 decimal places\n",
      "The number pi = 3.14 Pi to 2 decimal places\n",
      "More space pi =       3.14\n",
      "Pad pi with 0 = 0000003.14\n"
     ]
    }
   ],
   "source": [
    "print('print width 10: |%10s|'%'x') #right justified\n",
    "print('print width 10: |%-10s|'%'x') # left justified\n",
    "print('The number pi = %.1f Pi to 1 decimal places'%3.1415)\n",
    "print('The number pi = %.2f Pi to 2 decimal places'%3.1415)\n",
    "print('More space pi = %10.2f'%3.1415) # %10 gives gaps\n",
    "print('Pad pi with 0 = %010.2f'%3.1415) # %010 fills gap with 0"
   ]
  },
  {
   "cell_type": "markdown",
   "id": "140353e6-5763-4c02-b31e-78be194b4667",
   "metadata": {},
   "source": [
    "### Some Built-In Functions"
   ]
  },
  {
   "cell_type": "code",
   "execution_count": 5,
   "id": "ad4a9ab7-408b-480e-bb9f-59a76eaea638",
   "metadata": {},
   "outputs": [
    {
     "name": "stdout",
     "output_type": "stream",
     "text": [
      "list(enumerate(str)) =  [(0, 'c'), (1, 'o'), (2, 'l'), (3, 'd')]\n",
      "len(str) =  4\n"
     ]
    }
   ],
   "source": [
    "str = 'cold'\n",
    "\n",
    "list_enumerate = list(enumerate(str))\n",
    "print('list(enumerate(str)) = ', list_enumerate)\n",
    "\n",
    "print('len(str) = ', len(str))"
   ]
  },
  {
   "cell_type": "markdown",
   "id": "e64591bd-5f9b-4a9c-955f-fe1f2c3931f7",
   "metadata": {},
   "source": [
    "### Escape Sequences"
   ]
  },
  {
   "cell_type": "code",
   "execution_count": 7,
   "id": "8726cd62-56e1-4948-891f-a79a833b2c2a",
   "metadata": {},
   "outputs": [
    {
     "name": "stdout",
     "output_type": "stream",
     "text": [
      " He said, \"What's there?\" \n",
      " He said, \"What's there?\" \n",
      " He said, \"What's there?\" \n"
     ]
    }
   ],
   "source": [
    "# using triple quotes\n",
    "print(''' He said, \"What's there?\" ''')\n",
    "# Single and double quote inside single quote\n",
    "print(' He said, \"What\\'s there?\" ')\n",
    "# Double quote inside double qoutes\n",
    "print(\" He said, \\\"What\\'s there?\\\" \")"
   ]
  },
  {
   "cell_type": "code",
   "execution_count": 9,
   "id": "bfbd1749-316d-4dd0-8ea4-84b032ec305f",
   "metadata": {},
   "outputs": [
    {
     "name": "stdout",
     "output_type": "stream",
     "text": [
      "I hope everyone enjoying the python tutorials.\n",
      "Do you?\n",
      "Days\tChapters\tTopics\n",
      "Day 1\tChp 1\t\tPython_Introduction\n",
      "Day 2\tChp 2\t\tPython_Datatypes\n",
      "Day 3\tChp 3\t\tPython_Flow control\n",
      "Day 4\tChp 4\t\tPython_Functions\n",
      "Day 5\tChp 5\t\tPython_Files\n",
      "This is the backslash symbol (\\)\n"
     ]
    }
   ],
   "source": [
    "print('I hope everyone enjoying the python tutorials.\\nDo you?') # \\n -> new line\n",
    "print('Days\\tChapters\\tTopics') # \\t -> horizontal tab spaces\n",
    "print('Day 1\\tChp 1\\t\\tPython_Introduction')\n",
    "print('Day 2\\tChp 2\\t\\tPython_Datatypes')\n",
    "print('Day 3\\tChp 3\\t\\tPython_Flow control')\n",
    "print('Day 4\\tChp 4\\t\\tPython_Functions')\n",
    "print('Day 5\\tChp 5\\t\\tPython_Files')\n",
    "print('This is the backslash symbol (\\\\)') # To write backslash"
   ]
  },
  {
   "cell_type": "code",
   "execution_count": 10,
   "id": "d57559fa-b77f-4ff5-ba58-e223ee4fd12b",
   "metadata": {},
   "outputs": [
    {
     "name": "stdout",
     "output_type": "stream",
     "text": [
      "This is HEX representation\n"
     ]
    }
   ],
   "source": [
    "print(\"This is \\x48\\x45\\x58 representation\")"
   ]
  },
  {
   "cell_type": "code",
   "execution_count": 11,
   "id": "39507587-b667-42c7-af7f-1f67c3651ce5",
   "metadata": {},
   "outputs": [
    {
     "name": "stdout",
     "output_type": "stream",
     "text": [
      "This is a \n",
      "Good Example\n",
      "This is \\x61 \\nGood Example\n"
     ]
    }
   ],
   "source": [
    "# Using Raw String to ignore escape sequences\n",
    "print(\"This is \\x61 \\nGood Example\")\n",
    "print(r\"This is \\x61 \\nGood Example\")"
   ]
  },
  {
   "cell_type": "markdown",
   "id": "bfb0d6fa-9dc6-4644-b90e-229c7629f2d1",
   "metadata": {},
   "source": [
    "### format() method"
   ]
  },
  {
   "cell_type": "code",
   "execution_count": 12,
   "id": "b79cf446-95ca-43c7-9965-6f4076b72376",
   "metadata": {},
   "outputs": [
    {
     "name": "stdout",
     "output_type": "stream",
     "text": [
      "\n",
      "---default order---\n",
      "allen, will and smith\n"
     ]
    }
   ],
   "source": [
    "# python string formatting method\n",
    "# default implicit order\n",
    "default_order = \"{}, {} and {}\".format('allen', 'will', 'smith')\n",
    "print(\"\\n---default order---\")\n",
    "print(default_order)"
   ]
  },
  {
   "cell_type": "code",
   "execution_count": 16,
   "id": "a6810b8c-d8cd-48d6-8ced-5f7113d11b02",
   "metadata": {},
   "outputs": [
    {
     "name": "stdout",
     "output_type": "stream",
     "text": [
      "---positional order---\n",
      "will, allen and smith\n"
     ]
    }
   ],
   "source": [
    "# order using positional argument\n",
    "position_order = \"{1}, {0} and {2}\".format(\"allen\", \"will\", \"smith\")\n",
    "print(\"---positional order---\")\n",
    "print(position_order)"
   ]
  },
  {
   "cell_type": "code",
   "execution_count": 17,
   "id": "e90cb679-1f61-44fa-a028-bd743cb314b5",
   "metadata": {},
   "outputs": [
    {
     "name": "stdout",
     "output_type": "stream",
     "text": [
      "---Keyword Order---\n",
      "smith, will and allen\n"
     ]
    }
   ],
   "source": [
    "# order using keyword argument\n",
    "keyword_order = \"{s}, {b} and {j}\".format(j=\"allen\", b=\"will\", s=\"smith\")\n",
    "print(\"---Keyword Order---\")\n",
    "print(keyword_order)"
   ]
  },
  {
   "cell_type": "code",
   "execution_count": 18,
   "id": "d89b09c7-634a-4fc6-a8b1-4f8af20915b5",
   "metadata": {},
   "outputs": [
    {
     "data": {
      "text/plain": [
       "'Binary representation of 12 is 1100'"
      ]
     },
     "execution_count": 18,
     "metadata": {},
     "output_type": "execute_result"
    }
   ],
   "source": [
    "# formatting integers\n",
    "\"Binary representation of {0} is {0:b}\".format(12)"
   ]
  },
  {
   "cell_type": "code",
   "execution_count": 19,
   "id": "ee0722dc-f7f5-450e-b426-dc7ef97466d2",
   "metadata": {},
   "outputs": [
    {
     "data": {
      "text/plain": [
       "'Exponent representation: 1.966365e+03'"
      ]
     },
     "execution_count": 19,
     "metadata": {},
     "output_type": "execute_result"
    }
   ],
   "source": [
    "# formatting floats\n",
    "\"Exponent representation: {0:e}\".format(1966.365)"
   ]
  },
  {
   "cell_type": "code",
   "execution_count": 20,
   "id": "881a4690-1599-4eef-b9cf-25465d8d8146",
   "metadata": {},
   "outputs": [
    {
     "data": {
      "text/plain": [
       "'one third is:0.333'"
      ]
     },
     "execution_count": 20,
     "metadata": {},
     "output_type": "execute_result"
    }
   ],
   "source": [
    "# round off\n",
    "\"one third is:{0:.3f}\".format(1/3)"
   ]
  },
  {
   "cell_type": "code",
   "execution_count": 21,
   "id": "d275f459-0d31-4e48-86e8-b4fce4854f45",
   "metadata": {},
   "outputs": [
    {
     "data": {
      "text/plain": [
       "'|bread     |  butter  |       jam|'"
      ]
     },
     "execution_count": 21,
     "metadata": {},
     "output_type": "execute_result"
    }
   ],
   "source": [
    "# string alignment\n",
    "\"|{:<10}|{:^10}|{:>10}|\".format('bread', 'butter', 'jam')"
   ]
  },
  {
   "cell_type": "code",
   "execution_count": 22,
   "id": "c4222f58-8222-48f0-9855-836c5109c23a",
   "metadata": {},
   "outputs": [
    {
     "name": "stdout",
     "output_type": "stream",
     "text": [
      "The value of x is 36.35\n"
     ]
    }
   ],
   "source": [
    "x = 36.3456789\n",
    "print(\"The value of x is %3.2f\" %x)"
   ]
  },
  {
   "cell_type": "code",
   "execution_count": 23,
   "id": "ed6bef89-64e6-45f5-935d-625699552399",
   "metadata": {},
   "outputs": [
    {
     "name": "stdout",
     "output_type": "stream",
     "text": [
      "The value of x is 36.3457\n"
     ]
    }
   ],
   "source": [
    "print(\"The value of x is %3.4f\" %x)"
   ]
  },
  {
   "cell_type": "markdown",
   "id": "64c0d482-28cf-406c-b81e-1f5127376068",
   "metadata": {},
   "source": [
    "### Examples"
   ]
  },
  {
   "cell_type": "code",
   "execution_count": 24,
   "id": "2f96010b-f868-49bf-87ee-ac0d217b41f6",
   "metadata": {},
   "outputs": [
    {
     "name": "stdout",
     "output_type": "stream",
     "text": [
      "Hello world! vs Hello World!\n"
     ]
    }
   ],
   "source": [
    "s = \"heLLo woRLd!\"\n",
    "print(s.capitalize(), \"vs\", s.title())"
   ]
  },
  {
   "cell_type": "code",
   "execution_count": 25,
   "id": "80311cdf-dba2-4f6f-9b5f-5d720dadb74a",
   "metadata": {},
   "outputs": [
    {
     "name": "stdout",
     "output_type": "stream",
     "text": [
      "upper case: 'HELLO WORLD!' lower case: 'hello world!' swapped case: 'HEllO WOrlD!'\n"
     ]
    }
   ],
   "source": [
    "print(\"upper case: '%s'\"%s.upper(),\n",
    "      \"lower case: '%s'\"%s.lower(),\n",
    "      \"swapped case: '%s'\"%s.swapcase()) #upper <--> lower"
   ]
  },
  {
   "cell_type": "code",
   "execution_count": 27,
   "id": "0e432a26-b7c8-4565-976f-4ab13329cafe",
   "metadata": {},
   "outputs": [
    {
     "name": "stdout",
     "output_type": "stream",
     "text": [
      "|         Hello World          |\n",
      "|lots of space|\n",
      "%s without leading/trailing d,h,L or ! = |%s| eLLo woR\n",
      "Hello Class\n"
     ]
    }
   ],
   "source": [
    "print('|%s|'% \"Hello World\".center(30)) # center in 30 characters\n",
    "print('|%s|'% \"      lots of space     \".strip()) # strip off gaps from both the sides\n",
    "print('%s without leading/trailing d,h,L or ! = |%s|', s.strip(\"dhL!\"))\n",
    "print(\"Hello World\".replace(\"World\",\"Class\"))"
   ]
  },
  {
   "cell_type": "code",
   "execution_count": 28,
   "id": "a368f127-ec89-4cf0-b051-bbb0189008c7",
   "metadata": {},
   "outputs": [
    {
     "name": "stdout",
     "output_type": "stream",
     "text": [
      "2\n",
      "1\n",
      "1\n"
     ]
    }
   ],
   "source": [
    "# count() : returns occurrences of substring in string, syntax: count(substring, start=.., end=..)\n",
    "challenge = 'python datatypes'\n",
    "print(challenge.count('y'))\n",
    "print(challenge.count('y', 6, 15))\n",
    "print(challenge.count('ty'))"
   ]
  },
  {
   "cell_type": "code",
   "execution_count": 30,
   "id": "11e8d9db-e37b-47bd-9ccb-5a50948fcbfc",
   "metadata": {},
   "outputs": [
    {
     "name": "stdout",
     "output_type": "stream",
     "text": [
      "True\n",
      "False\n"
     ]
    }
   ],
   "source": [
    "# endswith() : checks if a string ends with a specified ending\n",
    "\n",
    "challenge = 'python datatypes'\n",
    "print(challenge.endswith('es'))\n",
    "print(challenge.endswith('type'))\n",
    "                         "
   ]
  },
  {
   "cell_type": "code",
   "execution_count": 36,
   "id": "1c98e2bb-e4a8-462e-8872-233de95626b7",
   "metadata": {},
   "outputs": [
    {
     "name": "stdout",
     "output_type": "stream",
     "text": [
      "python  datatypes\n",
      "python    datatypes\n"
     ]
    }
   ],
   "source": [
    "# expandtabs() : replaces tab character with spaces, default tab size is 8. it takes tab size argument\n",
    "\n",
    "challenge = 'python\\tdatatypes'\n",
    "print(challenge.expandtabs())\n",
    "print(challenge.expandtabs(10))"
   ]
  },
  {
   "cell_type": "code",
   "execution_count": 41,
   "id": "82b2c3ef-5414-4bcf-8c9c-9cd9a791d6e0",
   "metadata": {},
   "outputs": [
    {
     "name": "stdout",
     "output_type": "stream",
     "text": [
      "2\n",
      "7\n",
      "15\n",
      "-1\n"
     ]
    }
   ],
   "source": [
    "# find() : returns the index of first occurrence of substring\n",
    "\n",
    "challenge = 'python datatypes'\n",
    "print(challenge.find('thon'))\n",
    "print(challenge.find('d'))\n",
    "print(challenge.find('s'))\n",
    "print(challenge.find('u'))"
   ]
  },
  {
   "cell_type": "code",
   "execution_count": 42,
   "id": "a71e24c1-a23e-4ae3-90c8-701835196a61",
   "metadata": {},
   "outputs": [
    {
     "name": "stdout",
     "output_type": "stream",
     "text": [
      "I am Milaan Parmar. I am a lecturer. I live in Finland.\n"
     ]
    }
   ],
   "source": [
    "# format() : formats string into a nicer output\n",
    "\n",
    "first_name = \"Milaan\"\n",
    "last_name = \"Parmar\"\n",
    "job = \"lecturer\"\n",
    "country = \"Finland\"\n",
    "sentence = \"I am {} {}. I am a {}. I live in {}.\".format(first_name, last_name, job, country)\n",
    "print(sentence) "
   ]
  },
  {
   "cell_type": "code",
   "execution_count": 43,
   "id": "b3e5c1fb-1f00-48a4-99d9-3a3fff731ed6",
   "metadata": {},
   "outputs": [
    {
     "name": "stdout",
     "output_type": "stream",
     "text": [
      "True\n",
      "True\n",
      "False\n",
      "False\n"
     ]
    }
   ],
   "source": [
    "# isalnum: returns T/F alphanumeric characters\n",
    "\n",
    "challenge = \"pythonDatatypes\"\n",
    "print(challenge.isalnum())\n",
    "\n",
    "challenge = \"pyth0nDatatypes\"\n",
    "print(challenge.isalnum())\n",
    "\n",
    "challenge = \"python Datatypes\"\n",
    "print(challenge.isalnum())\n",
    "\n",
    "challenge = \"python datatypes 2021\"\n",
    "print(challenge.isalnum()) "
   ]
  },
  {
   "cell_type": "code",
   "execution_count": 44,
   "id": "fa340865-0295-4cdb-97db-ba252081c1b5",
   "metadata": {},
   "outputs": [
    {
     "name": "stdout",
     "output_type": "stream",
     "text": [
      "False\n",
      "True\n",
      "False\n"
     ]
    }
   ],
   "source": [
    "# isalpha(): checks if all characters are alphabets\n",
    "\n",
    "challenge = \"pyth0nDatatypes\"\n",
    "print(challenge.isalpha())\n",
    "\n",
    "challenge = \"pythonDatatype\"\n",
    "print(challenge.isalpha())\n",
    "\n",
    "challenge = \"python datatypes\"\n",
    "print(challenge.isalpha())"
   ]
  },
  {
   "cell_type": "code",
   "execution_count": 50,
   "id": "cdb9ce10-e721-4849-9163-0d5b2428a6c7",
   "metadata": {},
   "outputs": [
    {
     "name": "stdout",
     "output_type": "stream",
     "text": [
      "False\n",
      "True\n",
      "False\n"
     ]
    }
   ],
   "source": [
    "# isdigit(): checks digit characters\n",
    "\n",
    "challenge = 'ninetynine'\n",
    "print(challenge.isdigit())\n",
    "\n",
    "challenge = '99'\n",
    "print(challenge.isdigit())\n",
    "\n",
    "challenge = \"ninety9\"\n",
    "print(challenge.isdigit())\n"
   ]
  },
  {
   "cell_type": "code",
   "execution_count": 46,
   "id": "3afab9d8-6318-4748-9487-13dd73bab19a",
   "metadata": {},
   "outputs": [
    {
     "name": "stdout",
     "output_type": "stream",
     "text": [
      "True\n",
      "False\n"
     ]
    }
   ],
   "source": [
    "# isdecimal(): checks decimal characters\n",
    "\n",
    "num = \"30\"\n",
    "print(num.isdigit())\n",
    "\n",
    "num = \"30.523\"\n",
    "print(num.isdigit())"
   ]
  },
  {
   "cell_type": "code",
   "execution_count": 47,
   "id": "2d705927-ab16-44e8-bde3-5fa243be80c2",
   "metadata": {},
   "outputs": [
    {
     "name": "stdout",
     "output_type": "stream",
     "text": [
      "False\n",
      "True\n"
     ]
    }
   ],
   "source": [
    "# isidentifier(): CHECKS FOR VALID IDENTIFIER. MEANS, IT CHECK IF A STRING IS A VALID VARIABLE NAME\n",
    "\n",
    "challenge = '2021pythondatatypes'\n",
    "print(challenge.isidentifier()) # false, bcz str donot start with number\n",
    "\n",
    "challenge = 'python_datatypes'\n",
    "print(challenge.isidentifier())"
   ]
  },
  {
   "cell_type": "code",
   "execution_count": 48,
   "id": "e4c5c5cf-c875-431d-a8f0-fb80464ed5bb",
   "metadata": {},
   "outputs": [
    {
     "name": "stdout",
     "output_type": "stream",
     "text": [
      "True\n",
      "False\n"
     ]
    }
   ],
   "source": [
    "# islower(): checks if all alphabets in a string are lowercase\n",
    "\n",
    "challenge = \"python datatypes\"\n",
    "print(challenge.islower())\n",
    "\n",
    "challenge = \"Python_Datatypes\"\n",
    "print(challenge.islower())"
   ]
  },
  {
   "cell_type": "code",
   "execution_count": 49,
   "id": "b7be9c4c-cf6c-44cb-bd81-4aed1fac1f02",
   "metadata": {},
   "outputs": [
    {
     "name": "stdout",
     "output_type": "stream",
     "text": [
      "False\n",
      "True\n"
     ]
    }
   ],
   "source": [
    "# isupper(): checks if all alphabets in a string are uppercase \n",
    "\n",
    "challenge = \"Python_Datatypes\"\n",
    "print(challenge.isupper())\n",
    "\n",
    "challenge = \"PYTHON_DATATYPES\"\n",
    "print(challenge.isupper())"
   ]
  },
  {
   "cell_type": "code",
   "execution_count": 51,
   "id": "97accc84-5663-4e66-8d18-100d200984da",
   "metadata": {},
   "outputs": [
    {
     "name": "stdout",
     "output_type": "stream",
     "text": [
      "True\n",
      "False\n"
     ]
    }
   ],
   "source": [
    "# isnumeric(): checks for numeric characters\n",
    "\n",
    "num = \"90\"\n",
    "print(num.isnumeric())\n",
    "print(\"ninety\".isnumeric())"
   ]
  },
  {
   "cell_type": "code",
   "execution_count": 52,
   "id": "92745b61-5347-4e34-9444-27e8b7fcc083",
   "metadata": {},
   "outputs": [
    {
     "name": "stdout",
     "output_type": "stream",
     "text": [
      "HTML#, CSS#, JAVASCRIPT#, REACT\n"
     ]
    }
   ],
   "source": [
    "# join(): returns a concatenated string\n",
    "\n",
    "web_tech = [\"HTML\", \"CSS\", \"JAVASCRIPT\", \"REACT\"]\n",
    "result = '#, '.join(web_tech)\n",
    "print(result)"
   ]
  },
  {
   "cell_type": "code",
   "execution_count": 56,
   "id": "af7eba8f-c8ed-413d-8124-ad288f688457",
   "metadata": {},
   "outputs": [
    {
     "name": "stdout",
     "output_type": "stream",
     "text": [
      "python datatypes\n"
     ]
    }
   ],
   "source": [
    "# strip(): removes both leading and trailing characters\n",
    "\n",
    "challenge = \" python datatypes \"\n",
    "print(challenge.strip())"
   ]
  },
  {
   "cell_type": "code",
   "execution_count": 57,
   "id": "64d71e1b-827d-4f13-8708-aadb7cfcddb7",
   "metadata": {},
   "outputs": [
    {
     "name": "stdout",
     "output_type": "stream",
     "text": [
      "python data-types\n"
     ]
    }
   ],
   "source": [
    "# replace(): replaces substring inside\n",
    "\n",
    "challenge = \"python datatypes\"\n",
    "print(challenge.replace('datatypes', 'data-types'))"
   ]
  },
  {
   "cell_type": "code",
   "execution_count": 58,
   "id": "d64b2b66-bf3c-4d77-9a0a-778e88cb03f4",
   "metadata": {},
   "outputs": [
    {
     "name": "stdout",
     "output_type": "stream",
     "text": [
      "['python', 'datatypes']\n"
     ]
    }
   ],
   "source": [
    "#split(): splits string from word\n",
    "\n",
    "challenge = \"python datatypes\"\n",
    "print(challenge.split())"
   ]
  },
  {
   "cell_type": "code",
   "execution_count": 59,
   "id": "fb314c6e-865d-4a82-8392-5239ff7f504c",
   "metadata": {},
   "outputs": [
    {
     "name": "stdout",
     "output_type": "stream",
     "text": [
      "Python Datatypes\n"
     ]
    }
   ],
   "source": [
    "# title(): returns a title cased string\n",
    "\n",
    "challenge = \"python datatypes\"\n",
    "print(challenge.title())\n"
   ]
  },
  {
   "cell_type": "code",
   "execution_count": 60,
   "id": "941c1dc7-f681-49ad-a695-cff31a1d03cf",
   "metadata": {},
   "outputs": [
    {
     "name": "stdout",
     "output_type": "stream",
     "text": [
      "True\n",
      "False\n"
     ]
    }
   ],
   "source": [
    "# startswith(): checks if string starts with the specified string\n",
    "\n",
    "challenge = \"python datatypes\"\n",
    "print(challenge.startswith(\"python\"))\n",
    "\n",
    "challenge = \"datatypes of python\"\n",
    "print(challenge.startswith(\"python\"))"
   ]
  },
  {
   "cell_type": "code",
   "execution_count": 62,
   "id": "12420b8d-ffc8-4eca-950a-65cbe0bf79a2",
   "metadata": {},
   "outputs": [
    {
     "name": "stdout",
     "output_type": "stream",
     "text": [
      "PYTHON DATATYPES\n"
     ]
    }
   ],
   "source": [
    "# swapcases(): checks if string starts with the specified string\n",
    "\n",
    "challenge = \"python datatypes\"\n",
    "print(challenge.swapcase())"
   ]
  },
  {
   "cell_type": "code",
   "execution_count": 63,
   "id": "d56f658b-ee27-4ff1-8869-19cc84cd2438",
   "metadata": {},
   "outputs": [
    {
     "name": "stdout",
     "output_type": "stream",
     "text": [
      "The length of 'Hello World' is 11 characters\n",
      "True\n",
      "There are 3 'l's but only 1 world in Hello World\n",
      "\"el\" is at index 1 in Hello World\n"
     ]
    }
   ],
   "source": [
    "# examples \n",
    "\n",
    "s = \"Hello World\"\n",
    "print(\"The length of '%s' is\"%s,len(s), \"characters\")\n",
    "\n",
    "print(s.startswith(\"Hello\") and s.endswith(\"World\"))\n",
    "\n",
    "print(\"There are %d 'l's but only %d world in %s\" % (s.count('l'),s.count('World'),s))\n",
    "\n",
    "print('\"el\" is at index', s.find('el'),\"in\",s) "
   ]
  },
  {
   "cell_type": "code",
   "execution_count": null,
   "id": "30360b70-f43f-456d-ada0-e901c883cafc",
   "metadata": {},
   "outputs": [],
   "source": []
  }
 ],
 "metadata": {
  "kernelspec": {
   "display_name": "Python 3 (ipykernel)",
   "language": "python",
   "name": "python3"
  },
  "language_info": {
   "codemirror_mode": {
    "name": "ipython",
    "version": 3
   },
   "file_extension": ".py",
   "mimetype": "text/x-python",
   "name": "python",
   "nbconvert_exporter": "python",
   "pygments_lexer": "ipython3",
   "version": "3.12.3"
  }
 },
 "nbformat": 4,
 "nbformat_minor": 5
}
