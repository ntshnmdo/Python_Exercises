{
 "cells": [
  {
   "cell_type": "markdown",
   "id": "e91f7451-e73e-4b25-a175-fa98ac2e9038",
   "metadata": {},
   "source": [
    "## Number Data Type in Python"
   ]
  },
  {
   "cell_type": "code",
   "execution_count": 1,
   "id": "2ddcc2ec-dd1b-46b8-9225-66f32c8a0107",
   "metadata": {},
   "outputs": [
    {
     "name": "stdout",
     "output_type": "stream",
     "text": [
      "<class 'int'>\n",
      "<class 'float'>\n",
      "<class 'complex'>\n",
      "(7+5j)\n",
      "True\n"
     ]
    }
   ],
   "source": [
    "a = 6\n",
    "print(type(a))\n",
    "\n",
    "b = 5.0\n",
    "print(type(b))\n",
    "\n",
    "print(type(3+4j))\n",
    "\n",
    "c = 4+5j\n",
    "print(c+3)\n",
    "\n",
    "print(isinstance(c, complex)) # (complex no, ask complex)"
   ]
  },
  {
   "cell_type": "code",
   "execution_count": 2,
   "id": "2ded7e80-856e-40dc-b668-f047a76182c4",
   "metadata": {},
   "outputs": [
    {
     "name": "stdout",
     "output_type": "stream",
     "text": [
      "1\n",
      "10\n",
      "10\n"
     ]
    }
   ],
   "source": [
    "# example 1\n",
    "\n",
    "print(0b0001) # 0001 in binary is 1 in decimal and binary prefix \"0b\"\n",
    "\n",
    "print(0o12) # 12 in octal is 10 in decimal and octal prefix \"0o\"\n",
    "\n",
    "print(0x000A) # 000A in hexadecimal is 10 in decimal and hexadecimal prefix \"0x\""
   ]
  },
  {
   "cell_type": "code",
   "execution_count": 3,
   "id": "d8902543-894d-48be-a4b3-8726db13b2f0",
   "metadata": {},
   "outputs": [
    {
     "name": "stdout",
     "output_type": "stream",
     "text": [
      "107\n",
      "253\n",
      "13\n"
     ]
    }
   ],
   "source": [
    "# Example 2\n",
    "\n",
    "print(0b1101011)\n",
    "\n",
    "print(0xFB + 0b10) # adding hexdeci + binary\n",
    "\n",
    "print(0o15)"
   ]
  },
  {
   "cell_type": "code",
   "execution_count": 4,
   "id": "772ec214-3dff-4000-8c49-50c0aa152cc1",
   "metadata": {},
   "outputs": [
    {
     "data": {
      "text/plain": [
       "4.0"
      ]
     },
     "execution_count": 4,
     "metadata": {},
     "output_type": "execute_result"
    }
   ],
   "source": [
    "1 + 3.0"
   ]
  },
  {
   "cell_type": "code",
   "execution_count": 5,
   "id": "5050626e-bd28-47a5-8136-7b550aa9f0f8",
   "metadata": {},
   "outputs": [
    {
     "data": {
      "text/plain": [
       "7.0"
      ]
     },
     "execution_count": 5,
     "metadata": {},
     "output_type": "execute_result"
    }
   ],
   "source": [
    "float(7)"
   ]
  },
  {
   "cell_type": "code",
   "execution_count": 6,
   "id": "d05d8bd7-aa3d-4e9a-a2c2-54fe8d87d754",
   "metadata": {},
   "outputs": [
    {
     "data": {
      "text/plain": [
       "6"
      ]
     },
     "execution_count": 6,
     "metadata": {},
     "output_type": "execute_result"
    }
   ],
   "source": [
    "int(6.3)"
   ]
  },
  {
   "cell_type": "code",
   "execution_count": 7,
   "id": "1a876ada-fe17-4524-b5cf-6af79215c366",
   "metadata": {},
   "outputs": [
    {
     "data": {
      "text/plain": [
       "-2"
      ]
     },
     "execution_count": 7,
     "metadata": {},
     "output_type": "execute_result"
    }
   ],
   "source": [
    "int(-2.4)"
   ]
  },
  {
   "cell_type": "code",
   "execution_count": 8,
   "id": "37f0d429-3d0c-456b-85ac-62f2d6517ca6",
   "metadata": {},
   "outputs": [
    {
     "name": "stdout",
     "output_type": "stream",
     "text": [
      "12345678901234567789\n"
     ]
    }
   ],
   "source": [
    "a = 12345678901234567789\n",
    "print(a)"
   ]
  },
  {
   "cell_type": "code",
   "execution_count": 12,
   "id": "8e2418a0-8815-4591-bed6-e6b4f1f8c7fe",
   "metadata": {},
   "outputs": [
    {
     "name": "stdout",
     "output_type": "stream",
     "text": [
      "0.12345678901234568\n"
     ]
    }
   ],
   "source": [
    "b = 0.1234567890123456789\n",
    "print(b)"
   ]
  },
  {
   "cell_type": "markdown",
   "id": "09c1fcbf-0dc5-40df-9f18-091e81e3a31f",
   "metadata": {},
   "source": [
    "### Python Decimal"
   ]
  },
  {
   "cell_type": "code",
   "execution_count": 2,
   "id": "4ca9582c-9c4b-4415-81e5-401ecf0c73e5",
   "metadata": {},
   "outputs": [
    {
     "data": {
      "text/plain": [
       "False"
      ]
     },
     "execution_count": 2,
     "metadata": {},
     "output_type": "execute_result"
    }
   ],
   "source": [
    "(1.1 + 2.2) == 3.3 # boolean funtion =="
   ]
  },
  {
   "cell_type": "markdown",
   "id": "c7572001-7bc3-4810-a63d-fe606eeb2ec3",
   "metadata": {},
   "source": [
    "because the floating point numbers are implemented in computer hardware as binary fractions as the comp only understands binary(0 and 1).\n",
    "Example fraction of 1/3 will give 0.3333333333333... to infinite but our comp stores finite numbers. similarly, 0.1 will result in 0.0001100011001... "
   ]
  },
  {
   "cell_type": "code",
   "execution_count": 4,
   "id": "49fc15f3-0b13-4d5a-94f0-175196e80d48",
   "metadata": {},
   "outputs": [
    {
     "data": {
      "text/plain": [
       "3.3000000000000003"
      ]
     },
     "execution_count": 4,
     "metadata": {},
     "output_type": "execute_result"
    }
   ],
   "source": [
    "1.1 + 2.2 "
   ]
  },
  {
   "cell_type": "markdown",
   "id": "e7c2496a-cff8-4422-b226-e5f58e6165a2",
   "metadata": {},
   "source": [
    "to overcome this issue there is decimal module in python. floating numbers have prcision upto 15 decimals places. decimal module have user-settable presicion"
   ]
  },
  {
   "cell_type": "code",
   "execution_count": 7,
   "id": "5e049dce-9df2-440e-bf9f-090fb4e99253",
   "metadata": {},
   "outputs": [
    {
     "name": "stdout",
     "output_type": "stream",
     "text": [
      "0.1\n",
      "0.1000000000000000055511151231257827021181583404541015625\n"
     ]
    }
   ],
   "source": [
    "import decimal\n",
    "print(0.1)\n",
    "print(decimal.Decimal(0.1))"
   ]
  },
  {
   "cell_type": "markdown",
   "id": "4e419335-5205-49a4-a8e9-e467a8509b00",
   "metadata": {},
   "source": [
    "this module is carried out when we want \n",
    "1) making financial application that need exact decimal representation\n",
    "2) when we want to control the level of precision \n",
    "3) significant decimal places."
   ]
  },
  {
   "cell_type": "markdown",
   "id": "8ebfd367-f266-481e-9c74-bde96b05f471",
   "metadata": {},
   "source": [
    "from decimal import Decimal as D\n",
    "\n",
    "print(D('1.1') + D('2.2'))\n",
    "\n",
    "print(D('1.2') + D('2.50'))"
   ]
  },
  {
   "cell_type": "markdown",
   "id": "1ca3b6d1-7135-4902-80d3-afcee8d350e0",
   "metadata": {},
   "source": [
    "### Python Fraction Module"
   ]
  },
  {
   "cell_type": "markdown",
   "id": "9b982549-0c77-46f5-ae00-81ad79dd796c",
   "metadata": {},
   "source": [
    "a fraction has numerator and denominator both integer. This module support for rational number arithmatic "
   ]
  },
  {
   "cell_type": "code",
   "execution_count": 12,
   "id": "acb275a9-ed8d-48a6-8f06-ca9af8d4763f",
   "metadata": {},
   "outputs": [
    {
     "name": "stdout",
     "output_type": "stream",
     "text": [
      "3/2\n",
      "9\n",
      "1/6\n"
     ]
    }
   ],
   "source": [
    "import fractions\n",
    "\n",
    "print(fractions.Fraction(1.5)) #3/2=1.5\n",
    "\n",
    "print(fractions.Fraction(9)) #9/1=9\n",
    "\n",
    "print(fractions.Fraction(1,6)) #1/6"
   ]
  },
  {
   "cell_type": "markdown",
   "id": "82ace8a0-a0fa-4ae4-a3c6-af12fda3241d",
   "metadata": {},
   "source": [
    "while creating fraction from float, we might get some unusual results. this due to the imperfect binary floating point numbers \n",
    "Fortunately, fraction allows us to instantiate with string as well. "
   ]
  },
  {
   "cell_type": "code",
   "execution_count": 17,
   "id": "7c2cf208-d215-4656-8c88-b14fec699eef",
   "metadata": {},
   "outputs": [
    {
     "name": "stdout",
     "output_type": "stream",
     "text": [
      "2476979795053773/2251799813685248\n",
      "11/10\n"
     ]
    }
   ],
   "source": [
    "import fractions\n",
    "\n",
    "# As float \n",
    "print(fractions.Fraction(1.1)) # 1.1 is a number\n",
    "\n",
    "# As string\n",
    "print(fractions.Fraction('1.1')) # '1.1' is a string and not a number # this is much better"
   ]
  },
  {
   "cell_type": "markdown",
   "id": "f406b9de-9585-4b53-a286-adbc628aa179",
   "metadata": {},
   "source": [
    "Some Examples"
   ]
  },
  {
   "cell_type": "code",
   "execution_count": 18,
   "id": "130b3f0e-d9f9-4fd8-ae6b-57a5d0b17345",
   "metadata": {},
   "outputs": [
    {
     "name": "stdout",
     "output_type": "stream",
     "text": [
      "5854679515581645/2251799813685248\n",
      "2/3\n",
      "6/5\n",
      "False\n",
      "True\n"
     ]
    }
   ],
   "source": [
    "from fractions import Fraction as F\n",
    "\n",
    "print(F(1.3) + F(1.3))\n",
    "print(F(1,3) + F(1,3))\n",
    "print(1 / F(5,6))\n",
    "print(F(-3, 10) > 0)\n",
    "print(F(-3, 10) < 0)"
   ]
  },
  {
   "cell_type": "markdown",
   "id": "135ea5ea-0429-4e6f-8e23-3e43abcb9925",
   "metadata": {},
   "source": [
    "### Python Mathematics\n",
    "Python offers modules like math and random to carry out different mathematics like trigonometry, logrithm, probablity and statistics etc."
   ]
  },
  {
   "cell_type": "code",
   "execution_count": 19,
   "id": "a42f5f6c-286c-4317-9154-4a430c1e305d",
   "metadata": {},
   "outputs": [],
   "source": [
    "import math"
   ]
  },
  {
   "cell_type": "code",
   "execution_count": 20,
   "id": "3c3b254a-cfe7-47b3-8122-15fbf330580a",
   "metadata": {},
   "outputs": [
    {
     "name": "stdout",
     "output_type": "stream",
     "text": [
      "3.141592653589793\n",
      "-1.0\n",
      "22026.465794806718\n",
      "3.0\n",
      "1.1752011936438014\n",
      "720\n"
     ]
    }
   ],
   "source": [
    "print(math.pi)\n",
    "print(math.cos(math.pi))\n",
    "print(math.exp(10)) #e^10\n",
    "print(math.log10(1000))\n",
    "print(math.sinh(1))\n",
    "print(math.factorial(6))"
   ]
  },
  {
   "cell_type": "code",
   "execution_count": 21,
   "id": "a742bddd-86cb-4288-a24d-bb8ee6819b84",
   "metadata": {
    "scrolled": true
   },
   "outputs": [
    {
     "name": "stdout",
     "output_type": "stream",
     "text": [
      "14\n",
      "b\n",
      "['e', 'c', 'b', 'd', 'a']\n",
      "0.2697068949552569\n"
     ]
    }
   ],
   "source": [
    "import random\n",
    "\n",
    "print(random.randrange(10,20))\n",
    "\n",
    "x = ['a','b','c','d','e'] # x is list class of variable and it has 5 elements\n",
    "\n",
    "# to get random choice\n",
    "print(random.choice(x))\n",
    "\n",
    "# shuffle x\n",
    "random.shuffle(x)\n",
    "\n",
    "# print the shuffled x\n",
    "print(x)\n",
    "\n",
    "# print random element\n",
    "print(random.random())"
   ]
  },
  {
   "cell_type": "code",
   "execution_count": null,
   "id": "143bcf8a-5a72-400d-9e92-81bd29043811",
   "metadata": {},
   "outputs": [],
   "source": []
  }
 ],
 "metadata": {
  "kernelspec": {
   "display_name": "Python 3 (ipykernel)",
   "language": "python",
   "name": "python3"
  },
  "language_info": {
   "codemirror_mode": {
    "name": "ipython",
    "version": 3
   },
   "file_extension": ".py",
   "mimetype": "text/x-python",
   "name": "python",
   "nbconvert_exporter": "python",
   "pygments_lexer": "ipython3",
   "version": "3.12.3"
  }
 },
 "nbformat": 4,
 "nbformat_minor": 5
}
