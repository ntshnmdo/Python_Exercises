{
 "cells": [
  {
   "cell_type": "code",
   "execution_count": 1,
   "id": "141f01d6-9df2-4521-a8d2-0d4bda1b6c24",
   "metadata": {},
   "outputs": [
    {
     "name": "stdout",
     "output_type": "stream",
     "text": [
      "* * * * * \n",
      "* * * * * \n",
      "* * * * * \n",
      "* * * * * \n",
      "* * * * * \n"
     ]
    }
   ],
   "source": [
    "# Function to print the pattern\n",
    "def print_star_pattern():\n",
    "    # Number of rows\n",
    "    num_rows = 5\n",
    "    # Number of stars in each row\n",
    "    num_stars = 5\n",
    "    \n",
    "    for i in range(num_rows):\n",
    "        print('* ' * num_stars)\n",
    "\n",
    "# Call the function to print the pattern\n",
    "print_star_pattern()\n"
   ]
  },
  {
   "cell_type": "code",
   "execution_count": 2,
   "id": "832a1ec9-3e77-4354-a81c-13dfe3070cd4",
   "metadata": {},
   "outputs": [
    {
     "name": "stdout",
     "output_type": "stream",
     "text": [
      "* \n",
      "* * \n",
      "* * * \n",
      "* * * * \n",
      "* * * * * \n"
     ]
    }
   ],
   "source": [
    "def print_star_pattern():\n",
    "    num_rows = 5\n",
    "    for i in range (1, num_rows+1):\n",
    "        print('* ' * i)\n",
    "print_star_pattern()"
   ]
  },
  {
   "cell_type": "code",
   "execution_count": 3,
   "id": "fd6bd1d6-da89-44df-abc5-bcd93a7fd649",
   "metadata": {},
   "outputs": [
    {
     "name": "stdout",
     "output_type": "stream",
     "text": [
      "1\n",
      "12\n",
      "123\n",
      "1234\n",
      "12345\n"
     ]
    }
   ],
   "source": [
    "def print_half_pyramid(n):\n",
    "    for i in range (1, n+1):\n",
    "        for j in range (1, i+1):\n",
    "            print(j, end=\"\")\n",
    "        print()\n",
    "\n",
    "print_half_pyramid(5)"
   ]
  },
  {
   "cell_type": "code",
   "execution_count": 4,
   "id": "91b825d6-018a-421d-9786-fe32c7f81bb5",
   "metadata": {},
   "outputs": [
    {
     "name": "stdout",
     "output_type": "stream",
     "text": [
      "1\n",
      "22\n",
      "333\n",
      "4444\n",
      "55555\n"
     ]
    }
   ],
   "source": [
    "def print_pattern(n):\n",
    "    for i in range(1, n+1):\n",
    "        for j in range (1, i+1):\n",
    "            print(i, end=\"\")\n",
    "        print()\n",
    "print_pattern(5)"
   ]
  },
  {
   "cell_type": "code",
   "execution_count": 5,
   "id": "57bdd4df-a7c3-4b19-a443-ea6bed03a653",
   "metadata": {},
   "outputs": [
    {
     "name": "stdout",
     "output_type": "stream",
     "text": [
      "* * * * * \n",
      "* * * * \n",
      "* * * \n",
      "* * \n",
      "* \n"
     ]
    }
   ],
   "source": [
    "def print_star_pattern(rows):\n",
    "    for i in range(rows, 0, -1):\n",
    "        print('* ' * i)\n",
    "\n",
    "# Example usage\n",
    "num_rows = 5\n",
    "print_star_pattern(num_rows)\n",
    "\n"
   ]
  },
  {
   "cell_type": "code",
   "execution_count": 6,
   "id": "98cc3d02-3e49-40d5-9c78-ce2f3c607a45",
   "metadata": {},
   "outputs": [
    {
     "name": "stdout",
     "output_type": "stream",
     "text": [
      "12345\n",
      "1234\n",
      "123\n",
      "12\n",
      "1\n"
     ]
    }
   ],
   "source": [
    "def print_no_star(rows):\n",
    "    for i in range(rows, 0, -1):\n",
    "        for j in range(1, i+1):\n",
    "            print(j, end= \"\")\n",
    "        print()\n",
    "print_no_star(5)"
   ]
  },
  {
   "cell_type": "code",
   "execution_count": 7,
   "id": "5724043f-227d-4940-b6eb-87405906c8d2",
   "metadata": {},
   "outputs": [
    {
     "name": "stdout",
     "output_type": "stream",
     "text": [
      "    *\n",
      "   ***\n",
      "  *****\n",
      " *******\n",
      "*********\n"
     ]
    }
   ],
   "source": [
    "def print_pyramid(height):\n",
    "    for i in range(1, height + 1):\n",
    "        # Print leading spaces\n",
    "        for j in range(height - i):\n",
    "            print(\" \", end=\"\")\n",
    "        # Print stars\n",
    "        for k in range(2 * i - 1):\n",
    "            print(\"*\", end=\"\")\n",
    "        # Move to the next line\n",
    "        print()\n",
    "\n",
    "# Set the height of the pyramid\n",
    "pyramid_height = 5\n",
    "print_pyramid(pyramid_height)"
   ]
  },
  {
   "cell_type": "code",
   "execution_count": 8,
   "id": "b1ddb993-35a6-4ad5-a0c2-b33e83e53c89",
   "metadata": {},
   "outputs": [
    {
     "name": "stdout",
     "output_type": "stream",
     "text": [
      "*********\n",
      " *******\n",
      "  *****\n",
      "   ***\n",
      "    *\n"
     ]
    }
   ],
   "source": [
    "def print_inverted_pyramid(height):\n",
    "    for i in range(height, 0, -1):\n",
    "        for j in range(height - i):\n",
    "            print(\" \", end=\"\")\n",
    "        for k in range (2 * i - 1):\n",
    "            print(\"*\", end=\"\")\n",
    "        print()\n",
    "pyramid_height = 5\n",
    "print_inverted_pyramid(pyramid_height)"
   ]
  },
  {
   "cell_type": "code",
   "execution_count": 9,
   "id": "0d4b2fe7-2d78-424b-801d-d182bbdf3cbc",
   "metadata": {},
   "outputs": [
    {
     "name": "stdout",
     "output_type": "stream",
     "text": [
      "     *\n",
      "    ***\n",
      "   *****\n",
      "  *******\n",
      " *********\n",
      "***********\n",
      " *********\n",
      "  *******\n",
      "   *****\n",
      "    ***\n",
      "     *\n"
     ]
    }
   ],
   "source": [
    "def print_pattern():\n",
    "    # Number of lines in the top part\n",
    "    top_lines = 6\n",
    "    # Number of lines in the bottom part\n",
    "    bottom_lines = 6\n",
    "\n",
    "    # Print top part of the pattern\n",
    "    for i in range(1, top_lines + 1):\n",
    "        # Print leading spaces\n",
    "        for j in range(top_lines - i):\n",
    "            print(\" \", end=\"\")\n",
    "        # Print stars\n",
    "        for k in range(2 * i - 1):\n",
    "            print(\"*\", end=\"\")\n",
    "        print()\n",
    "\n",
    "    # Print bottom part of the pattern\n",
    "    for i in range(bottom_lines - 1, 0, -1):\n",
    "        # Print leading spaces\n",
    "        for j in range(bottom_lines - i):\n",
    "            print(\" \", end=\"\")\n",
    "        # Print stars\n",
    "        for k in range(2 * i - 1):\n",
    "            print(\"*\", end=\"\")\n",
    "        print()\n",
    "\n",
    "# Call the function to print the pattern\n",
    "print_pattern()\n"
   ]
  },
  {
   "cell_type": "code",
   "execution_count": 10,
   "id": "a5a914c9-a1b1-4245-956e-465ca6ae568e",
   "metadata": {},
   "outputs": [
    {
     "name": "stdout",
     "output_type": "stream",
     "text": [
      "*\n",
      "**\n",
      "***\n",
      "****\n",
      "*****\n",
      "******\n",
      "*****\n",
      "****\n",
      "***\n",
      "**\n",
      "*\n"
     ]
    }
   ],
   "source": [
    "def print_pattern():\n",
    "    # Number of lines in the first part of the pattern\n",
    "    top_lines = 6\n",
    "    # Number of lines in the second part of the pattern\n",
    "    bottom_lines = 6\n",
    "\n",
    "    # Print the first part of the pattern\n",
    "    for i in range(1, top_lines + 1):\n",
    "        # Print stars\n",
    "        for j in range(i):\n",
    "            print(\"*\", end=\"\")\n",
    "        print()\n",
    "\n",
    "    # Print the second part of the pattern\n",
    "    for i in range(bottom_lines - 1, 0, -1):\n",
    "        # Print stars\n",
    "        for j in range(i):\n",
    "            print(\"*\", end=\"\")\n",
    "        print()\n",
    "\n",
    "# Call the function to print the pattern\n",
    "print_pattern()\n"
   ]
  },
  {
   "cell_type": "code",
   "execution_count": 11,
   "id": "74b589e7-310a-4c56-ac83-0164776fd13b",
   "metadata": {},
   "outputs": [
    {
     "name": "stdout",
     "output_type": "stream",
     "text": [
      "*\n",
      "**\n",
      "***\n",
      "****\n",
      "*****\n",
      "******\n",
      "******\n",
      "*****\n",
      "****\n",
      "***\n",
      "**\n",
      "*\n"
     ]
    }
   ],
   "source": [
    "def half_pyramid():\n",
    "    top_rows = 6\n",
    "    bottom_rows = 6\n",
    "    for i in range(1, top_rows+1):\n",
    "        for j in range(i):\n",
    "            print(\"*\", end=\"\")\n",
    "        print()\n",
    "    for i in range(bottom_rows, 0, -1):\n",
    "        for j in range(i):\n",
    "            print(\"*\", end=\"\")\n",
    "        print()\n",
    "half_pyramid()"
   ]
  },
  {
   "cell_type": "code",
   "execution_count": 14,
   "id": "cfe1339c-aaa2-4a0a-a1ab-db7e60b46283",
   "metadata": {},
   "outputs": [
    {
     "name": "stdout",
     "output_type": "stream",
     "text": [
      "1 \n",
      "1 0 \n",
      "1 0 1 \n",
      "1 0 1 0 \n",
      "1 0 1 0 1 \n"
     ]
    }
   ],
   "source": [
    "def print_pattern():\n",
    "    rows = 5\n",
    "    for i in range (1, rows+1):\n",
    "        for j in range (1, i+1):\n",
    "            print(1 if j % 2 != 0 else 0, end=\" \")\n",
    "        print()\n",
    "print_pattern()"
   ]
  },
  {
   "cell_type": "code",
   "execution_count": 13,
   "id": "3968f9d7-6235-4317-b21c-1d2d2573b52a",
   "metadata": {},
   "outputs": [
    {
     "name": "stdout",
     "output_type": "stream",
     "text": [
      "1 \n",
      "1 0 \n",
      "1 0 1 \n",
      "1 0 1 0 \n",
      "1 0 1 0 1 \n"
     ]
    }
   ],
   "source": [
    "def print_pattern():\n",
    "    rows = 5  # Number of rows\n",
    "    for i in range(1, rows + 1):\n",
    "        for j in range(1, i + 1):\n",
    "            # Print '1' for odd numbers and '0' for even numbers\n",
    "            print(1 if j % 2 != 0 else 0, end=' ')\n",
    "        print()  # Move to the next line\n",
    "\n",
    "print_pattern()"
   ]
  },
  {
   "cell_type": "code",
   "execution_count": null,
   "id": "f2780106-e87d-445d-88a5-e007f1ce13f3",
   "metadata": {},
   "outputs": [],
   "source": []
  }
 ],
 "metadata": {
  "kernelspec": {
   "display_name": "Python 3 (ipykernel)",
   "language": "python",
   "name": "python3"
  },
  "language_info": {
   "codemirror_mode": {
    "name": "ipython",
    "version": 3
   },
   "file_extension": ".py",
   "mimetype": "text/x-python",
   "name": "python",
   "nbconvert_exporter": "python",
   "pygments_lexer": "ipython3",
   "version": "3.12.3"
  }
 },
 "nbformat": 4,
 "nbformat_minor": 5
}
