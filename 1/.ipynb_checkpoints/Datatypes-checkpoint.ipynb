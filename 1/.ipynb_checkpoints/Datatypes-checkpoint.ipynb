{
 "cells": [
  {
   "cell_type": "markdown",
   "id": "30494a7b-8145-4fdb-830f-4859112e1764",
   "metadata": {},
   "source": [
    "# Python Tutorial\n",
    "## Welcome\n",
    "- Datatypes"
   ]
  },
  {
   "cell_type": "code",
   "execution_count": 2,
   "id": "250de57f-9fea-4e0c-a773-0ee035e391b5",
   "metadata": {},
   "outputs": [
    {
     "name": "stdout",
     "output_type": "stream",
     "text": [
      "10 100 200 300\n",
      "10.5 150.0\n",
      "3.14j 3.14 0.0\n"
     ]
    }
   ],
   "source": [
    "#binary literal\n",
    "a = 0b1010 \n",
    "\n",
    "#decimal literal\n",
    "b = 100\n",
    "\n",
    "#Octal literal\n",
    "c = 0o310\n",
    "\n",
    "#Hexadecimal literal\n",
    "d = 0x12c\n",
    "\n",
    "#Float literal\n",
    "float_1 = 10.5\n",
    "float_2 = 1.5e2\n",
    "\n",
    "#Complex Literal\n",
    "x = 3.14j\n",
    "\n",
    "print(a, b, c, d)\n",
    "print(float_1, float_2)\n",
    "print(x, x.imag, x.real)"
   ]
  },
  {
   "cell_type": "code",
   "execution_count": 3,
   "id": "5382f5cb-28f9-412c-afdc-86ef3e5a7f87",
   "metadata": {},
   "outputs": [
    {
     "name": "stdout",
     "output_type": "stream",
     "text": [
      "This is python\n",
      "C\n",
      "This is a multiline string with more than one line code \n",
      "Ünicöde\n",
      "raw \\n string\n"
     ]
    }
   ],
   "source": [
    "strings = \"This is python\"\n",
    "char = \"C\"\n",
    "multiline_str = \"\"\"This is a multiline string with more than one line code \"\"\"\n",
    "unicode = u\"\\u00dcnic\\u00f6de\"\n",
    "raw_str = r\"raw \\n string\"\n",
    "\n",
    "print(strings)\n",
    "print(char)\n",
    "print(multiline_str)\n",
    "print(unicode)\n",
    "print(raw_str)"
   ]
  },
  {
   "cell_type": "code",
   "execution_count": 2,
   "id": "a28efb65-2bcb-4fc9-9b61-0f406aa11b0a",
   "metadata": {},
   "outputs": [
    {
     "name": "stdout",
     "output_type": "stream",
     "text": [
      "x is True\n",
      "y is False\n",
      "a: 5\n",
      "b: 10\n"
     ]
    }
   ],
   "source": [
    "x = (1 == True)\n",
    "y = (1 == False)\n",
    "a = True + 4\n",
    "b = False + 10\n",
    "\n",
    "print(\"x is\",x)\n",
    "print(\"y is\",y)\n",
    "print(\"a:\", a)\n",
    "print(\"b:\", b)"
   ]
  },
  {
   "cell_type": "code",
   "execution_count": 3,
   "id": "33d26639-01cf-43c2-be5d-9c954f6bf922",
   "metadata": {},
   "outputs": [
    {
     "name": "stdout",
     "output_type": "stream",
     "text": [
      "Available\n"
     ]
    }
   ],
   "source": [
    "drink = \"Available\"\n",
    "food = None\n",
    "def menu(x):\n",
    "    if x == drink:\n",
    "        print(drink)\n",
    "    else:\n",
    "        print(food)\n",
    "menu(drink)"
   ]
  },
  {
   "cell_type": "code",
   "execution_count": 4,
   "id": "4156b9ca-a31e-4139-99f7-76a719253d83",
   "metadata": {},
   "outputs": [
    {
     "name": "stdout",
     "output_type": "stream",
     "text": [
      "None\n"
     ]
    }
   ],
   "source": [
    "menu(food)"
   ]
  },
  {
   "cell_type": "code",
   "execution_count": null,
   "id": "32280a11-7678-4acf-aea7-5a499c3ee74d",
   "metadata": {},
   "outputs": [],
   "source": [
    "numbers = (1, 2, 3) #Tuple"
   ]
  },
  {
   "cell_type": "code",
   "execution_count": 6,
   "id": "83afdd60-fdce-43c1-9e12-9f7bf152d671",
   "metadata": {},
   "outputs": [
    {
     "name": "stdout",
     "output_type": "stream",
     "text": [
      "Function to double the value\n"
     ]
    }
   ],
   "source": [
    "#Doc string\n",
    "def double(num):\n",
    "    \"\"\"Function to double the value\"\"\"\n",
    "    return 2*num\n",
    "print(double.__doc__)"
   ]
  },
  {
   "cell_type": "markdown",
   "id": "5e995fde-81aa-4c25-aca6-8ac12756889c",
   "metadata": {},
   "source": [
    "## Numeric"
   ]
  },
  {
   "cell_type": "code",
   "execution_count": 2,
   "id": "c63c0688-68bf-4fd5-8223-3d101ba2c93b",
   "metadata": {},
   "outputs": [
    {
     "name": "stdout",
     "output_type": "stream",
     "text": [
      "5 is of type <class 'int'>\n"
     ]
    }
   ],
   "source": [
    "a = 5\n",
    "print(a, \"is of type\", type(a))\n",
    "# by using type(of variable), it gives you type of variable.\n",
    "# integer can be of any length"
   ]
  },
  {
   "cell_type": "code",
   "execution_count": 3,
   "id": "087f52f7-54ae-4f40-9685-387df84ec723",
   "metadata": {},
   "outputs": [
    {
     "name": "stdout",
     "output_type": "stream",
     "text": [
      "2.0 is of type <class 'float'>\n"
     ]
    }
   ],
   "source": [
    "b = 2.0\n",
    "print(b, \"is of type\", type(b))\n",
    "# floating pt number is accurate upto 15 decimal places"
   ]
  },
  {
   "cell_type": "code",
   "execution_count": 6,
   "id": "f9bde195-57b7-4579-96e5-db68e7b9b124",
   "metadata": {},
   "outputs": [
    {
     "name": "stdout",
     "output_type": "stream",
     "text": [
      "(1+2j) is of type <class 'complex'>\n"
     ]
    }
   ],
   "source": [
    "c = 1+2j\n",
    "print(c, \"is of type\", type(c))"
   ]
  },
  {
   "cell_type": "code",
   "execution_count": 7,
   "id": "bf222fec-a170-4a10-b2b7-ddcc9f20eee3",
   "metadata": {},
   "outputs": [
    {
     "name": "stdout",
     "output_type": "stream",
     "text": [
      "(2+3j) is complex number? True\n"
     ]
    }
   ],
   "source": [
    "d = 2+3j\n",
    "print(d, \"is complex number?\", isinstance(d, complex))"
   ]
  },
  {
   "cell_type": "code",
   "execution_count": 8,
   "id": "2fbd2877-e4ae-4b07-9a9b-b671ce5b8167",
   "metadata": {},
   "outputs": [
    {
     "data": {
      "text/plain": [
       "1234567890123456789"
      ]
     },
     "execution_count": 8,
     "metadata": {},
     "output_type": "execute_result"
    }
   ],
   "source": [
    "a = 1234567890123456789\n",
    "a"
   ]
  },
  {
   "cell_type": "code",
   "execution_count": 9,
   "id": "a904fd24-087a-428c-bf0d-e022c9d9252d",
   "metadata": {},
   "outputs": [
    {
     "data": {
      "text/plain": [
       "0.12345678901234568"
      ]
     },
     "execution_count": 9,
     "metadata": {},
     "output_type": "execute_result"
    }
   ],
   "source": [
    "b = 0.1234567890123456789\n",
    "b"
   ]
  },
  {
   "cell_type": "markdown",
   "id": "7caa5d73-b4dc-4fc7-a0c3-6b5ac8092877",
   "metadata": {},
   "source": [
    "## strings data type\n",
    "## Strings"
   ]
  },
  {
   "cell_type": "code",
   "execution_count": 10,
   "id": "91901d67-df83-4104-ab8d-ac74af4e5aba",
   "metadata": {},
   "outputs": [
    {
     "name": "stdout",
     "output_type": "stream",
     "text": [
      "this is string\n"
     ]
    }
   ],
   "source": [
    "s = \"this is string\"\n",
    "print(s)"
   ]
  },
  {
   "cell_type": "code",
   "execution_count": 11,
   "id": "2ac6f1fc-3542-4953-a1be-c84736ce1c28",
   "metadata": {},
   "outputs": [
    {
     "name": "stdout",
     "output_type": "stream",
     "text": [
      "A \n",
      "multiline \n",
      "string\n"
     ]
    }
   ],
   "source": [
    "s = '''A \n",
    "multiline \n",
    "string'''\n",
    "print(s)"
   ]
  },
  {
   "cell_type": "code",
   "execution_count": 12,
   "id": "45856021-3d2c-4ffe-98d6-e03282303729",
   "metadata": {},
   "outputs": [
    {
     "name": "stdout",
     "output_type": "stream",
     "text": [
      "s[4]: o\n"
     ]
    }
   ],
   "source": [
    "s = \"Hello World\"\n",
    "print(\"s[4]:\", s[4])"
   ]
  },
  {
   "cell_type": "code",
   "execution_count": 13,
   "id": "97ad104d-491a-401d-91d4-e04cadb1853a",
   "metadata": {},
   "outputs": [
    {
     "name": "stdout",
     "output_type": "stream",
     "text": [
      "s[6:11] = World\n"
     ]
    }
   ],
   "source": [
    "print(\"s[6:11] =\", s[6:11]) #last 11, is not counted, it will print till 10 only"
   ]
  },
  {
   "cell_type": "code",
   "execution_count": 14,
   "id": "aae32a0f-efef-4250-81ef-ec494c976043",
   "metadata": {},
   "outputs": [
    {
     "ename": "TypeError",
     "evalue": "'str' object does not support item assignment",
     "output_type": "error",
     "traceback": [
      "\u001b[1;31m---------------------------------------------------------------------------\u001b[0m",
      "\u001b[1;31mTypeError\u001b[0m                                 Traceback (most recent call last)",
      "Cell \u001b[1;32mIn[14], line 1\u001b[0m\n\u001b[1;32m----> 1\u001b[0m \u001b[43ms\u001b[49m\u001b[43m[\u001b[49m\u001b[38;5;241;43m5\u001b[39;49m\u001b[43m]\u001b[49m \u001b[38;5;241m=\u001b[39m \u001b[38;5;124m'\u001b[39m\u001b[38;5;124md\u001b[39m\u001b[38;5;124m'\u001b[39m\n",
      "\u001b[1;31mTypeError\u001b[0m: 'str' object does not support item assignment"
     ]
    }
   ],
   "source": [
    "s[5] = 'd' # strings are immutable, that is it cannot be changed"
   ]
  },
  {
   "cell_type": "code",
   "execution_count": null,
   "id": "b0dd8460-f011-4eac-8d98-a1f56686c9e0",
   "metadata": {},
   "outputs": [],
   "source": []
  }
 ],
 "metadata": {
  "kernelspec": {
   "display_name": "Python 3 (ipykernel)",
   "language": "python",
   "name": "python3"
  },
  "language_info": {
   "codemirror_mode": {
    "name": "ipython",
    "version": 3
   },
   "file_extension": ".py",
   "mimetype": "text/x-python",
   "name": "python",
   "nbconvert_exporter": "python",
   "pygments_lexer": "ipython3",
   "version": "3.12.3"
  }
 },
 "nbformat": 4,
 "nbformat_minor": 5
}
