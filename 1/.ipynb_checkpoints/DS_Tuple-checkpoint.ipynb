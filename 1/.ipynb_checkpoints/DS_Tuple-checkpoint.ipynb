{
 "cells": [
  {
   "cell_type": "markdown",
   "id": "0d69a826-b680-4060-8667-961d356427a0",
   "metadata": {},
   "source": [
    "### Tuple\n",
    "- A tuple in python is similar to a list. List is enclosed between [] and tuple enclosed between (). We can not change the elements once it is assigned to a tuple, i.e. it is immutable. Liost is mutable."
   ]
  },
  {
   "cell_type": "code",
   "execution_count": 1,
   "id": "6402c260-af78-4ccb-bd16-fe9a350bcd10",
   "metadata": {},
   "outputs": [],
   "source": [
    "# tuple can have different data types separated by commas, enclosed under ().\n",
    "tuple = ('FACE', 2.097,'Python', 26.8, 5)"
   ]
  },
  {
   "cell_type": "code",
   "execution_count": 3,
   "id": "d25e0521-215b-4f6d-b9cf-4b59c37cd0ac",
   "metadata": {},
   "outputs": [
    {
     "name": "stdout",
     "output_type": "stream",
     "text": [
      "()\n",
      "(1, 2, 3, 4, 5)\n",
      "(1, 'hello', 3.4)\n",
      "('mouse', (1, 2, 3, 4), [5, 6, 7])\n"
     ]
    }
   ],
   "source": [
    "# different types of tuple\n",
    "\n",
    "# rmpty tuple\n",
    "T = ()\n",
    "print(T)\n",
    "\n",
    "# tuple having integers\n",
    "T = (1,2,3,4,5)\n",
    "print(T)\n",
    "\n",
    "# tuple with mixesd datatypes\n",
    "T = (1, 'hello', 3.4)\n",
    "print(T)\n",
    "\n",
    "# nested tup;le\n",
    "T = ('mouse', (1,2,3,4), [5,6,7])\n",
    "print(T)"
   ]
  },
  {
   "cell_type": "markdown",
   "id": "f4c980fa-e2ad-41ed-b208-7004b8d72987",
   "metadata": {},
   "source": [
    "- A tuple can also be created without using parenthesis. THis is known as \" Tuple Packing\""
   ]
  },
  {
   "cell_type": "code",
   "execution_count": 4,
   "id": "e3b7e170-8caa-499a-ba15-ef26687b474b",
   "metadata": {},
   "outputs": [
    {
     "name": "stdout",
     "output_type": "stream",
     "text": [
      "3\n",
      "4.5\n",
      "dog\n"
     ]
    }
   ],
   "source": [
    "# exampl;e :\n",
    "my_tuple = 3,4.5,'dog' # () is not mandatory\n",
    "\n",
    "# tuple unpacxking is also possible \n",
    "a,b,c = my_tuple\n",
    "\n",
    "print(a)\n",
    "print(b)\n",
    "print(c)"
   ]
  },
  {
   "cell_type": "code",
   "execution_count": 5,
   "id": "3cd928a6-dbf5-41bf-b4fc-1d4428e4757d",
   "metadata": {},
   "outputs": [
    {
     "name": "stdout",
     "output_type": "stream",
     "text": [
      "<class 'int'>\n",
      "<class 'tuple'>\n",
      "<class 'int'>\n",
      "<class 'tuple'>\n"
     ]
    }
   ],
   "source": [
    "# tuple should have , after element \n",
    "\n",
    "t1 = 5 \n",
    "print(type(t1))\n",
    "\n",
    "t2 = 5,\n",
    "print(type(t2))\n",
    "\n",
    "t3 = (5)\n",
    "print(type(t3))\n",
    "\n",
    "t4 = (5,)\n",
    "print(type(t4))"
   ]
  },
  {
   "cell_type": "code",
   "execution_count": 6,
   "id": "bbe286dd-d190-4e39-9ce0-a7a3ced6b311",
   "metadata": {},
   "outputs": [
    {
     "name": "stdout",
     "output_type": "stream",
     "text": [
      "p\n",
      "t\n",
      "last index: 5\n",
      "last element:  t\n"
     ]
    }
   ],
   "source": [
    "# accessing tuple\n",
    "\n",
    "my_tuple = ('p','r','e','m','i','t')\n",
    "\n",
    "print(my_tuple[0])\n",
    "print(my_tuple[5])\n",
    "\n",
    "print(\"last index:\", len(my_tuple)-1)\n",
    "print(\"last element: \", my_tuple[len(my_tuple)-1])"
   ]
  },
  {
   "cell_type": "code",
   "execution_count": 2,
   "id": "92ae9e5e-37c6-4b27-b385-db6fdd302f21",
   "metadata": {},
   "outputs": [
    {
     "name": "stdout",
     "output_type": "stream",
     "text": [
      "(4, 2, 3, [9, 5])\n"
     ]
    }
   ],
   "source": [
    "# Changing a tuple: tuples are immutable but if the element is mutable data type then its items can be changed\n",
    "\n",
    "my_tuple = (4,2,3,[6,5])\n",
    "\n",
    "# my_tuple[1] = 9 # 'tuple' object does not support item assignment\n",
    "\n",
    "# however, item of mutable element can be changed\n",
    "my_tuple[3][0] = 9\n",
    "print(my_tuple)"
   ]
  },
  {
   "cell_type": "code",
   "execution_count": 4,
   "id": "9778df57-4b5a-4dd7-ad4e-ed56dc781569",
   "metadata": {},
   "outputs": [
    {
     "name": "stdout",
     "output_type": "stream",
     "text": [
      "('p', 'r', 'o', 'g', 'r', 'a', 'm', 'i', 'n', 'g')\n"
     ]
    }
   ],
   "source": [
    "# tuple name can be re-assigned\n",
    "my_tuple = ('p','r','o','g','r','a','m','i','n','g')\n",
    "print(my_tuple)"
   ]
  },
  {
   "cell_type": "code",
   "execution_count": 6,
   "id": "ec5e4713-8b22-4dce-9463-e11fa038ba9c",
   "metadata": {},
   "outputs": [
    {
     "ename": "TypeError",
     "evalue": "'tuple' object doesn't support item deletion",
     "output_type": "error",
     "traceback": [
      "\u001b[1;31m---------------------------------------------------------------------------\u001b[0m",
      "\u001b[1;31mTypeError\u001b[0m                                 Traceback (most recent call last)",
      "Cell \u001b[1;32mIn[6], line 5\u001b[0m\n\u001b[0;32m      1\u001b[0m \u001b[38;5;66;03m# deleleting the tuple element\u001b[39;00m\n\u001b[0;32m      2\u001b[0m \u001b[38;5;66;03m# 'tuple' object doesn't support item deletion\u001b[39;00m\n\u001b[0;32m      3\u001b[0m my_tuple \u001b[38;5;241m=\u001b[39m (\u001b[38;5;124m'\u001b[39m\u001b[38;5;124mp\u001b[39m\u001b[38;5;124m'\u001b[39m,\u001b[38;5;124m'\u001b[39m\u001b[38;5;124mr\u001b[39m\u001b[38;5;124m'\u001b[39m,\u001b[38;5;124m'\u001b[39m\u001b[38;5;124mo\u001b[39m\u001b[38;5;124m'\u001b[39m,\u001b[38;5;124m'\u001b[39m\u001b[38;5;124mg\u001b[39m\u001b[38;5;124m'\u001b[39m,\u001b[38;5;124m'\u001b[39m\u001b[38;5;124mr\u001b[39m\u001b[38;5;124m'\u001b[39m,\u001b[38;5;124m'\u001b[39m\u001b[38;5;124ma\u001b[39m\u001b[38;5;124m'\u001b[39m,\u001b[38;5;124m'\u001b[39m\u001b[38;5;124mm\u001b[39m\u001b[38;5;124m'\u001b[39m,\u001b[38;5;124m'\u001b[39m\u001b[38;5;124mi\u001b[39m\u001b[38;5;124m'\u001b[39m,\u001b[38;5;124m'\u001b[39m\u001b[38;5;124mn\u001b[39m\u001b[38;5;124m'\u001b[39m,\u001b[38;5;124m'\u001b[39m\u001b[38;5;124mg\u001b[39m\u001b[38;5;124m'\u001b[39m)\n\u001b[1;32m----> 5\u001b[0m \u001b[38;5;28;01mdel\u001b[39;00m \u001b[43mmy_tuple\u001b[49m\u001b[43m[\u001b[49m\u001b[38;5;241;43m3\u001b[39;49m\u001b[43m]\u001b[49m\n",
      "\u001b[1;31mTypeError\u001b[0m: 'tuple' object doesn't support item deletion"
     ]
    }
   ],
   "source": [
    "# deleleting the tuple element\n",
    "# 'tuple' object doesn't support item deletion\n",
    "my_tuple = ('p','r','o','g','r','a','m','i','n','g')\n",
    "\n",
    "del my_tuple[3]"
   ]
  },
  {
   "cell_type": "code",
   "execution_count": 7,
   "id": "06c6bf69-63f6-4193-b09b-c47c7e2885a4",
   "metadata": {},
   "outputs": [
    {
     "ename": "NameError",
     "evalue": "name 'my_tuple' is not defined",
     "output_type": "error",
     "traceback": [
      "\u001b[1;31m---------------------------------------------------------------------------\u001b[0m",
      "\u001b[1;31mNameError\u001b[0m                                 Traceback (most recent call last)",
      "Cell \u001b[1;32mIn[7], line 4\u001b[0m\n\u001b[0;32m      1\u001b[0m \u001b[38;5;66;03m# but it can delete entire tuple\u001b[39;00m\n\u001b[0;32m      3\u001b[0m \u001b[38;5;28;01mdel\u001b[39;00m my_tuple\n\u001b[1;32m----> 4\u001b[0m \u001b[38;5;28mprint\u001b[39m(\u001b[43mmy_tuple\u001b[49m)\n",
      "\u001b[1;31mNameError\u001b[0m: name 'my_tuple' is not defined"
     ]
    }
   ],
   "source": [
    "# but it can delete entire tuple\n",
    "\n",
    "del my_tuple\n",
    "print(my_tuple)"
   ]
  },
  {
   "cell_type": "markdown",
   "id": "ff55dc92-07ac-43ee-b86a-b473509f7be9",
   "metadata": {},
   "source": [
    "- Tuple(seq): The tuple() method converts a list of items into tuples"
   ]
  },
  {
   "cell_type": "code",
   "execution_count": 8,
   "id": "9305fd35-28bc-4067-a845-06c0e24f4c24",
   "metadata": {},
   "outputs": [
    {
     "name": "stdout",
     "output_type": "stream",
     "text": [
      "('h', 'e', 'l', 'l', 'o', 'w', 'o', 'r', 'l', 'd')\n",
      "(1, 2, 3)\n"
     ]
    }
   ],
   "source": [
    "# example :\n",
    "\n",
    "s = \"helloworld\"\n",
    "t1 = tuple(s)\n",
    "list = [1,2,3]\n",
    "t2 = tuple(list)\n",
    "\n",
    "print(t1)\n",
    "print(t2)"
   ]
  },
  {
   "cell_type": "code",
   "execution_count": 9,
   "id": "691bce4d-9494-4caf-98e0-9068415dc54e",
   "metadata": {},
   "outputs": [
    {
     "name": "stdout",
     "output_type": "stream",
     "text": [
      "The index of e: 7\n",
      "the index of i: 7\n"
     ]
    },
    {
     "ename": "NameError",
     "evalue": "name 'alphabets' is not defined",
     "output_type": "error",
     "traceback": [
      "\u001b[1;31m---------------------------------------------------------------------------\u001b[0m",
      "\u001b[1;31mNameError\u001b[0m                                 Traceback (most recent call last)",
      "Cell \u001b[1;32mIn[9], line 9\u001b[0m\n\u001b[0;32m      6\u001b[0m index \u001b[38;5;241m=\u001b[39m my_tuple\u001b[38;5;241m.\u001b[39mindex(\u001b[38;5;124m'\u001b[39m\u001b[38;5;124mi\u001b[39m\u001b[38;5;124m'\u001b[39m, \u001b[38;5;241m4\u001b[39m)\n\u001b[0;32m      7\u001b[0m \u001b[38;5;28mprint\u001b[39m(\u001b[38;5;124m\"\u001b[39m\u001b[38;5;124mthe index of i:\u001b[39m\u001b[38;5;124m\"\u001b[39m, index)\n\u001b[1;32m----> 9\u001b[0m index \u001b[38;5;241m=\u001b[39m \u001b[43malphabets\u001b[49m\u001b[38;5;241m.\u001b[39mindex(\u001b[38;5;124m'\u001b[39m\u001b[38;5;124mi\u001b[39m\u001b[38;5;124m'\u001b[39m, \u001b[38;5;241m3\u001b[39m, \u001b[38;5;241m5\u001b[39m)\n\u001b[0;32m     10\u001b[0m \u001b[38;5;28mprint\u001b[39m(\u001b[38;5;124m\"\u001b[39m\u001b[38;5;124mthe index of i:\u001b[39m\u001b[38;5;124m\"\u001b[39m, index)\n",
      "\u001b[1;31mNameError\u001b[0m: name 'alphabets' is not defined"
     ]
    }
   ],
   "source": [
    "my_tuple = ('p','r','o','g','r','a','m','i','n','g')\n",
    "\n",
    "index = my_tuple.index('i')\n",
    "print('The index of e:', index)\n",
    "\n",
    "index = my_tuple.index('i', 4)\n",
    "print(\"the index of i:\", index)\n",
    "\n",
    "index = alphabets.index('i', 3, 5)\n",
    "print(\"the index of i:\", index)\n"
   ]
  },
  {
   "cell_type": "code",
   "execution_count": null,
   "id": "82f0f59e-b844-4435-bb12-f043e2d55e5d",
   "metadata": {},
   "outputs": [],
   "source": []
  }
 ],
 "metadata": {
  "kernelspec": {
   "display_name": "Python 3 (ipykernel)",
   "language": "python",
   "name": "python3"
  },
  "language_info": {
   "codemirror_mode": {
    "name": "ipython",
    "version": 3
   },
   "file_extension": ".py",
   "mimetype": "text/x-python",
   "name": "python",
   "nbconvert_exporter": "python",
   "pygments_lexer": "ipython3",
   "version": "3.12.3"
  }
 },
 "nbformat": 4,
 "nbformat_minor": 5
}
