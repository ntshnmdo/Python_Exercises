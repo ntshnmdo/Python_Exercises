{
 "cells": [
  {
   "cell_type": "code",
   "execution_count": 1,
   "id": "c0506693-3e4b-4b60-a90a-cedc78a60d26",
   "metadata": {},
   "outputs": [],
   "source": [
    "class Node:\n",
    "    def _init_(self, val):\n",
    "        self.val = val\n",
    "        self.next = None"
   ]
  },
  {
   "cell_type": "code",
   "execution_count": 2,
   "id": "6ee3741e-9895-4e80-b4d5-c3c6480c931f",
   "metadata": {},
   "outputs": [
    {
     "ename": "TypeError",
     "evalue": "Node() takes no arguments",
     "output_type": "error",
     "traceback": [
      "\u001b[1;31m---------------------------------------------------------------------------\u001b[0m",
      "\u001b[1;31mTypeError\u001b[0m                                 Traceback (most recent call last)",
      "Cell \u001b[1;32mIn[2], line 1\u001b[0m\n\u001b[1;32m----> 1\u001b[0m n1 \u001b[38;5;241m=\u001b[39m \u001b[43mNode\u001b[49m\u001b[43m(\u001b[49m\u001b[38;5;241;43m1\u001b[39;49m\u001b[43m)\u001b[49m\n\u001b[0;32m      2\u001b[0m \u001b[38;5;28mprint\u001b[39m(\u001b[38;5;124m\"\u001b[39m\u001b[38;5;124mn1->\u001b[39m\u001b[38;5;124m\"\u001b[39m, n1\u001b[38;5;241m.\u001b[39mnext, n1\u001b[38;5;241m.\u001b[39mval)\n\u001b[0;32m      3\u001b[0m n2 \u001b[38;5;241m=\u001b[39m Node(\u001b[38;5;241m2\u001b[39m)\n",
      "\u001b[1;31mTypeError\u001b[0m: Node() takes no arguments"
     ]
    }
   ],
   "source": [
    "n1 = Node(1)\n",
    "print(\"n1->\", n1.next, n1.val)\n",
    "n2 = Node(2)\n",
    "print(\"n2->\", n2.next, n2.val)\n",
    "n1.next = n2\n",
    "print(\"n1->\", n2, n1.val)"
   ]
  },
  {
   "cell_type": "code",
   "execution_count": null,
   "id": "7716b782-c7ba-425d-94c3-a86f2d1536d8",
   "metadata": {},
   "outputs": [],
   "source": [
    "length = 5\n",
    "head = Node(0)\n",
    "temp = head\n",
    "for i in range(1, length+1):\n",
    "    temp.val = i\n",
    "    temp.next = Node(0)\n",
    "    temp = temp.next"
   ]
  },
  {
   "cell_type": "code",
   "execution_count": null,
   "id": "af5dfe56-e107-430b-94ea-950f039a17f3",
   "metadata": {},
   "outputs": [],
   "source": [
    "def printLL(head):\n",
    "    newTemp = head\n",
    "    while newTemp.next != None:\n",
    "        print(newTemp.val, end = '->')\n",
    "        newTemp = newTemp.next\n",
    "printLL(head)"
   ]
  },
  {
   "cell_type": "code",
   "execution_count": null,
   "id": "7139230a-68e0-4373-8ae8-5478936ccb9b",
   "metadata": {},
   "outputs": [],
   "source": [
    "def insert(head, insertValue, index):\n",
    "    insertNode = Node(insertValue)\n",
    "    i=0\n",
    "    temp=head\n",
    "    while temp.next != None and i<=index:\n",
    "        i+=1\n",
    "        if i==index:\n",
    "            future = temp.next\n",
    "            temp.next = insertNode\n",
    "            insertNode.next = future\n",
    "            break\n",
    "        temp = temp.next\n",
    "    printLL(head)\n",
    "insert(head, 10, 2)"
   ]
  },
  {
   "cell_type": "code",
   "execution_count": null,
   "id": "7e8d65bc-a5a3-44a0-84de-7a3bbebec1eb",
   "metadata": {},
   "outputs": [],
   "source": []
  }
 ],
 "metadata": {
  "kernelspec": {
   "display_name": "Python 3 (ipykernel)",
   "language": "python",
   "name": "python3"
  },
  "language_info": {
   "codemirror_mode": {
    "name": "ipython",
    "version": 3
   },
   "file_extension": ".py",
   "mimetype": "text/x-python",
   "name": "python",
   "nbconvert_exporter": "python",
   "pygments_lexer": "ipython3",
   "version": "3.12.3"
  }
 },
 "nbformat": 4,
 "nbformat_minor": 5
}
